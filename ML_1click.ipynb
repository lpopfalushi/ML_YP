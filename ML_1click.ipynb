{
 "cells": [
  {
   "cell_type": "markdown",
   "metadata": {
    "id": "H6cQIZr3ElW1"
   },
   "source": [
    "____    \n",
    "    \n",
    "# Обучение с учителем: качество модели\n",
    "_____\n",
    "## Описание исследования\n",
    "\n",
    "Интернет-магазин «В один клик» продаёт разные товары: для детей, для дома, мелкую бытовую технику, косметику и даже продукты. Отчёт магазина за прошлый период показал, что активность покупателей начала снижаться. Привлекать новых клиентов уже не так эффективно: о магазине и так знает большая часть целевой аудитории. Возможный выход — удерживать активность постоянных клиентов. Сделать это можно с помощью персонализированных предложений.\n",
    "«В один клик» — современная компания, поэтому её руководство не хочет принимать решения просто так — только на основе анализа данных и бизнес-моделирования. \n",
    "\n",
    "_____\n",
    "## Цель исследования\n",
    "    \n",
    "Разработать решение, которое позволит персонализировать предложения постоянным клиентам, чтобы увеличить их покупательскую активность.\n",
    "    \n",
    "_____\n",
    "## Задачи исследования\n",
    "1. Нужно промаркировать уровень финансовой активности постоянных покупателей. В компании принято выделять два уровня активности: «снизилась», если клиент стал покупать меньше товаров, и «прежний уровень».\n",
    "2. Нужно собрать данные по клиентам по следующим группам:\n",
    "    - Признаки, которые описывают коммуникацию сотрудников компании с клиентом.\n",
    "    - Признаки, которые описывают продуктовое поведение покупателя. Например, какие товары покупает и как часто.\n",
    "    - Признаки, которые описывают покупательское поведение клиента. Например, сколько тратил в магазине.\n",
    "    - Признаки, которые описывают поведение покупателя на сайте. Например, как много страниц просматривает и сколько времени проводит на сайте.\n",
    "3. Нужно построить модель, которая предскажет вероятность снижения покупательской активности клиента в следующие три месяца.\n",
    "4. В исследование нужно включить дополнительные данные финансового департамента о прибыльности клиента: какой доход каждый покупатель приносил компании за последние три месяца.\n",
    "5. Используя данные модели и данные о прибыльности клиентов, нужно выделить сегменты покупателей и разработать для них персонализированные предложения.\n",
    "_____\n",
    "### Исходные данные.\n",
    "    \n",
    "Мы будем работать с тремя датасетами:\n",
    "1. market_file.csv\n",
    "2. market_money.csv\n",
    "3. market_time.csv\n",
    "4. money.csv\n",
    "    \n",
    "1. market_file.csv Таблица, которая содержит данные о поведении покупателя на сайте, о коммуникациях с покупателем и его продуктовом поведении.\n",
    "    - id — номер покупателя в корпоративной базе данных.\n",
    "    - Покупательская активность — рассчитанный класс покупательской активности (целевой признак): «снизилась» или «прежний уровень».\n",
    "    - Тип сервиса — уровень сервиса, например «премиум» и «стандарт».\n",
    "    - Разрешить сообщать — информация о том, можно ли присылать покупателю дополнительные предложения о товаре. Согласие на это даёт покупатель.\n",
    "    - Маркет_актив_6_мес — среднемесячное значение маркетинговых коммуникаций компании, которое приходилось на покупателя за последние 6 месяцев. Это значение показывает, какое число рассылок, звонков, показов рекламы и прочего приходилось на клиента.\n",
    "    - Маркет_актив_тек_мес — количество маркетинговых коммуникаций в текущем месяце.\n",
    "    - Длительность — значение, которое показывает, сколько дней прошло с момента регистрации покупателя на сайте.\n",
    "    - Акционные_покупки — среднемесячная доля покупок по акции от общего числа покупок за последние 6 месяцев.\n",
    "    - Популярная_категория — самая популярная категория товаров у покупателя за последние 6 месяцев.\n",
    "    - Средний_просмотр_категорий_за_визит — показывает, сколько в среднем категорий покупатель просмотрел за визит в течение последнего месяца.\n",
    "    - Неоплаченные_продукты_штук_квартал — общее число неоплаченных товаров в корзине за последние 3 месяца.\n",
    "    - Ошибка_сервиса — число сбоев, которые коснулись покупателя во время посещения сайта.\n",
    "    - Страниц_за_визит — среднее количество страниц, которые просмотрел покупатель за один визит на сайт за последние 3 месяца.\n",
    "2. market_money.csv Таблица с данными о выручке, которую получает магазин с покупателя, то есть сколько покупатель всего потратил за период взаимодействия с сайтом.\n",
    "    - id — номер покупателя в корпоративной базе данных.\n",
    "    - Период — название периода, во время которого зафиксирована выручка. Например, 'текущий_месяц' или 'предыдущий_месяц'.\n",
    "    - Выручка — сумма выручки за период.\n",
    "3. market_time.csv Таблица с данными о времени (в минутах), которое покупатель провёл на сайте в течение периода.\n",
    "    - id — номер покупателя в корпоративной базе данных.\n",
    "    - Период — название периода, во время которого зафиксировано общее время.\n",
    "    - минут — значение времени, проведённого на сайте, в минутах.\n",
    "4. money.csv Таблица с данными о среднемесячной прибыли покупателя за последние 3 месяца: какую прибыль получает магазин от продаж каждому покупателю.\n",
    "    - id — номер покупателя в корпоративной базе данных.\n",
    "    - Прибыль — значение прибыли.\n",
    "______\n",
    "\n",
    "## Данное исследование разделим на несколько частей.\n",
    "\n",
    "### Шаг 1. Загрузка данных:\n",
    "* [1. Загрузим данные.](#1_1-bullet)\n",
    "* [2. Проверим, что данные в таблицах соответствуют описанию.](#1_2-bullet)\n",
    "* [3. Вывод.](#1_3-bullet)\n",
    "\n",
    "### Шаг 2. Предобработка данных:\n",
    "* [1. Приведение данных к нужным типам.](#2_1-bullet)\n",
    "* [2. Нахождение и исправление аномалий и ошибок.](#2_2-bullet)\n",
    "* [3. Вывод.](#2_3-bullet)\n",
    "\n",
    "### Шаг 3. Исследовательский анализ данных\n",
    "* [1. Проведение статистического анализа всех признаков и таблиц.](#3_1-bullet)\n",
    "* [2. Отберем клиентов с покупательской активностью не менее трёх месяцев, то есть таких, которые что-либо покупали в этот период.](#3_2-bullet)\n",
    "* [3. Вывод.](#3_3-bullet)\n",
    "\n",
    "### Шаг 4. Объединение таблиц\n",
    "* [1. Объединим таблицы market_file.csv, market_money.csv, market_time.csv.](#4_1-bullet)\n",
    "* [2. В итоговой таблице сделаем отдельный столбец для каждого периода по столбцам данные о выручке и времени на сайте.](#4_2-bullet)\n",
    "* [3. Вывод.](#4_3-bullet)\n",
    "\n",
    "### Шаг 5. Корреляционный анализ\n",
    "* [1. Проведем корреляционный анализ признаков в количественной шкале в итоговой таблице для моделирования.](#5_1-bullet)\n",
    "* [2. Проверим на мультиколлинеарность и при необходимости устраните её.](#5_2-bullet)\n",
    "* [3. Вывод.](#5_3-bullet)\n",
    "\n",
    "### Шаг 6. Использование пайплайнов\n",
    "* [1. Подготовка данных, обработка количественных и категориальных признаков, .](#6_1-bullet)\n",
    "* [2. Обучим четыре модели: KNeighborsClassifier(), DecisionTreeClassifier(), LogisticRegression() и  SVC(). Для каждой из них подберем один гиперпараметр. Выберем подходящую для задачи метрику, аргументируем свой выбор. Используем эту метрику при подборе гиперпараметров.](#6_2-bullet)\n",
    "* [3. Выберем лучшую модель, используя заданную метрику. Для этого примените одну из стратегий:\n",
    "использовать пайплайны и инструменты подбора гиперпараметров для каждой модели отдельно, чтобы выбрать лучшую модель самостоятельно;\n",
    "использовать один общий пайплайн для всех моделей и инструмент подбора гиперпараметров, который вернёт вам лучшую модель.](#6_3-bullet)\n",
    "* [4. Вывод.](#6_4-bullet)\n",
    "\n",
    "### Шаг 7. Анализ важности признаков\n",
    "* [1. Оценим важность признаков для лучшей модели и построим график важности с помощью метода SHAP.](#7_1-bullet)\n",
    "* [2. Сделаем выводы о значимости признаков: какие признаки мало значимы для модели; какие признаки сильнее всего влияют на целевой признак; как можно использовать эти наблюдения при моделировании и принятии бизнес-решений.](#7_2-bullet)\n",
    "### Шаг 8. Сегментация покупателей\n",
    "* [1. Выполним сегментацию покупателей. Используем результаты моделирования и данные о прибыльности покупателей.](#8_1-bullet)\n",
    "* [2. Выберем группу покупателей и предложим, как увеличить её покупательскую активность: графическое и аналитическое исследование, предложения по работе с сегментом.](#8_2-bullet)\n",
    "* [3.  Сделаем выводы о сегментах: какой сегмент мы взяли для дополнительного исследования, какие предложения мы сделали и почему.](#8_3-bullet)\n",
    "### Шаг 9. Общий вывод\n",
    "* [1. опишем задачу; опишем исходные данные и проведённую предобработку; напишем, что сделали для поиска лучшей модели; укажем лучшую модель; добавим выводы и дополнительные предложения для выбранного сегмента покупателей.](#9_1-bullet)"
   ]
  },
  {
   "cell_type": "markdown",
   "metadata": {},
   "source": [
    "## Исследование"
   ]
  },
  {
   "cell_type": "markdown",
   "metadata": {},
   "source": [
    "### Шаг 1. Загрузка данных:<a id='#1_1-bullet'></a>"
   ]
  },
  {
   "cell_type": "code",
   "execution_count": 11,
   "metadata": {
    "scrolled": true
   },
   "outputs": [
    {
     "name": "stdout",
     "output_type": "stream",
     "text": [
      "3.8.0\n",
      "0.12.2\n"
     ]
    }
   ],
   "source": [
    "# Датасеты\n",
    "import pandas as pd\n",
    "# для создания двойного пути к базе данных\n",
    "import os\n",
    "\n",
    "# Математика\n",
    "import numpy as np\n",
    "from math import sqrt\n",
    "import datetime as dt\n",
    "import math as mth\n",
    "\n",
    "# Факториалы для комбинаторики\n",
    "#from math import factorial\n",
    "\n",
    "# Статистика и тервер\n",
    "import scipy.stats\n",
    "from scipy import stats as st\n",
    "from scipy.stats import binom, norm\n",
    "\n",
    "# Графики\n",
    "#!pip install matplotlib>=3.6.0 -q\n",
    "import matplotlib as mpl\n",
    "import matplotlib.pyplot as plt\n",
    "import seaborn as sns\n",
    "from matplotlib import rcParams, rcParamsDefault\n",
    "\n",
    "# конвертеры, которые позволяют использовать типы pandas в matplotlib  \n",
    "import seaborn as sns\n",
    "\n",
    "# оставим всего три знака после запятой у чисел с плавающей точкой\n",
    "pd.set_option('display.float_format', '{:.3f}'.format)\n",
    "\n",
    "# Обязательно для нормального отображения графиков plt\n",
    "import warnings; warnings.filterwarnings(action='once')\n",
    "\n",
    "large = 22; med = 16; small = 12\n",
    "params = {'axes.titlesize': large,\n",
    "          'legend.fontsize': med,\n",
    "          'figure.figsize': (16, 16),\n",
    "          'axes.labelsize': med,\n",
    "          'axes.titlesize': med,\n",
    "          'xtick.labelsize': med,\n",
    "          'ytick.labelsize': med,\n",
    "          'figure.titlesize': large}\n",
    "plt.rcParams.update(params)\n",
    "sns.set_style('darkgrid')\n",
    "sns.set_palette('Accent') \n",
    "sns.set_context('notebook', rc={'legend.fontsize': 10.0})\n",
    "%matplotlib inline\n",
    "%config InlineBackend.figure_format = 'svg'\n",
    "\n",
    "# Version\n",
    "print(mpl.__version__)  #> 3.6.0\n",
    "print(sns.__version__)  #> 0.9.0\n",
    "\n",
    "\n",
    "# библиотеки для работы с дашбордами\n",
    "import sys\n",
    "#import getopt\n",
    "#from sqlalchemy import create_engine\n",
    "\n",
    "#!pip install phik -q\n",
    "import phik\n",
    "from phik import resources, report\n",
    "\n",
    "#!pip install shap -q\n",
    "import shap\n",
    "\n",
    "#Библиотека sklearn\n",
    "#!pip install scikit-learn==1.1.3 -q\n",
    "import sklearn \n",
    "\n",
    "from sklearn.linear_model import LogisticRegression\n",
    "\n",
    "from sklearn.model_selection import train_test_split\n",
    "\n",
    "from sklearn.metrics import (\n",
    "    r2_score,\n",
    "    accuracy_score,\n",
    "    recall_score,\n",
    "    precision_score,\n",
    "    confusion_matrix,\n",
    "    mean_absolute_error,\n",
    "    mean_squared_error,\n",
    "    roc_auc_score\n",
    ")\n",
    "\n",
    "from sklearn.pipeline import Pipeline\n",
    "from sklearn.preprocessing import (\n",
    "    OneHotEncoder, \n",
    "    StandardScaler, \n",
    "    MinMaxScaler,\n",
    ")\n",
    "from sklearn.compose import ColumnTransformer\n",
    "from sklearn.model_selection import GridSearchCV\n",
    "from sklearn.neighbors import KNeighborsClassifier\n",
    "from sklearn.tree import DecisionTreeClassifier\n",
    "from sklearn.svm import SVC"
   ]
  },
  {
   "cell_type": "code",
   "execution_count": 12,
   "metadata": {},
   "outputs": [],
   "source": [
    "# Задаем параметры для разделения данных\n",
    "RANDOM_STATE = 13\n",
    "TEST_SIZE = 0.20"
   ]
  },
  {
   "cell_type": "code",
   "execution_count": 14,
   "metadata": {},
   "outputs": [
    {
     "name": "stdout",
     "output_type": "stream",
     "text": [
      "No file exists: /datasets/market_file.csv market_file.csv\n",
      "No file exists: /datasets/market_money.csv market_money.csv\n",
      "No file exists: /datasets/market_time.csv market_time.csv\n",
      "No file exists: /datasets/money.csv money.csv\n"
     ]
    }
   ],
   "source": [
    "pth1 = '/datasets/market_file.csv'\n",
    "pth1_1 = 'market_file.csv'\n",
    "pth2 = '/datasets/market_money.csv'\n",
    "pth2_1 = 'market_money.csv'\n",
    "pth3 = '/datasets/market_time.csv'\n",
    "pth3_1 = 'market_time.csv'\n",
    "pth4 = '/datasets/money.csv'\n",
    "pth4_1 = 'money.csv'\n",
    "\n",
    "def loadFile(path1, path2):\n",
    "    if os.path.exists(path1):\n",
    "        return pd.read_csv(path1)\n",
    "    elif os.path.exists(path2):\n",
    "        return pd.read_csv(path2)\n",
    "    else:\n",
    "        print(\"No file exists:\", path1, path2)\n",
    "\n",
    "market_file = loadFile(pth1, pth1_1)\n",
    "market_money = loadFile(pth2, pth2_1)\n",
    "market_time = loadFile(pth3, pth3_1)\n",
    "money = loadFile(pth4, pth4_1)\n"
   ]
  },
  {
   "cell_type": "markdown",
   "metadata": {},
   "source": [
    "Проверка данных:<a id='#1_2-bullet'></a>"
   ]
  },
  {
   "cell_type": "code",
   "execution_count": null,
   "metadata": {
    "scrolled": true
   },
   "outputs": [],
   "source": [
    "# Изучение датафрейма 'market_file' \n",
    "def inspectDataframe(df):\n",
    "    df.info()\n",
    "    return df.head()\n",
    "inspectDataframe(market_file)"
   ]
  },
  {
   "cell_type": "code",
   "execution_count": null,
   "metadata": {
    "scrolled": true
   },
   "outputs": [],
   "source": [
    "inspectDataframe(market_money)"
   ]
  },
  {
   "cell_type": "code",
   "execution_count": null,
   "metadata": {},
   "outputs": [],
   "source": [
    "inspectDataframe(market_time) "
   ]
  },
  {
   "cell_type": "code",
   "execution_count": null,
   "metadata": {},
   "outputs": [],
   "source": [
    "inspectDataframe(money)"
   ]
  },
  {
   "cell_type": "markdown",
   "metadata": {},
   "source": [
    "**Вывод по загрузке данных**\n",
    "\n",
    "1. market_file Данные о поведении покупателя: Данные успешно загружены и содержат информацию о покупательской активности, типе сервиса, активности на маркете, длительности, акционных покупках, популярной категории, среднем просмотре категорий за визит, неоплаченных продуктах и ошибке сервиса.\n",
    "2. market_money Данные о выручке: Данные успешно загружены и содержат информацию о выручке за разные периоды.\n",
    "3. market_time Данные о времени, проведенном на сайте: Данные успешно загружены и содержат информацию о времени, проведенном на сайте за разные периоды.\n",
    "4. money Данные о прибыли: Данные успешно загружены и содержат информацию о прибыли.\n",
    "\n",
    "Все данные в таблицах соответствуют описанию и готовы к дальнейшему анализу.\n"
   ]
  },
  {
   "cell_type": "markdown",
   "metadata": {},
   "source": [
    "### Шаг 2. Предобработка данных: <a id='#2_1-bullet'></a>"
   ]
  },
  {
   "cell_type": "code",
   "execution_count": null,
   "metadata": {},
   "outputs": [],
   "source": [
    " def df_review(df):\n",
    "    display(df.head())\n",
    "    print('---------------------------------------------------------------------------------------------------------')\n",
    "    print('Информация общая: ')\n",
    "    df.info()\n",
    "    print('---------------------------------------------------------------------------------------------------------')\n",
    "    print('Статистики: ')\n",
    "    display(df.describe())\n",
    "    print('---------------------------------------------------------------------------------------------------------')\n",
    "    print('Пропущенные значения: ')\n",
    "    print(df.isna().sum())\n",
    "    print('---------------------------------------------------------------------------------------------------------')\n",
    "    print('Дублированные данные: ')\n",
    "    print(df.duplicated().sum())"
   ]
  },
  {
   "cell_type": "code",
   "execution_count": null,
   "metadata": {},
   "outputs": [],
   "source": [
    "# Изучение датафрейма 'market_file'\n",
    "df_review(market_file)"
   ]
  },
  {
   "cell_type": "code",
   "execution_count": null,
   "metadata": {},
   "outputs": [],
   "source": [
    "# изменим тип данных с 'object' на 'float64'\n",
    "market_file['Маркет_актив_6_мес'] = market_file['Маркет_актив_6_мес'].astype(float)\n",
    "market_file['Акционные_покупки'] = market_file['Акционные_покупки'].astype(float)"
   ]
  },
  {
   "cell_type": "code",
   "execution_count": null,
   "metadata": {},
   "outputs": [],
   "source": [
    "# проверим изменение типов данных с 'object' на 'float64'\n",
    "market_file.info()"
   ]
  },
  {
   "cell_type": "code",
   "execution_count": null,
   "metadata": {
    "scrolled": false
   },
   "outputs": [],
   "source": [
    "# Изучение датафрейма 'market_money'\n",
    "df_review(market_money)"
   ]
  },
  {
   "cell_type": "code",
   "execution_count": null,
   "metadata": {},
   "outputs": [],
   "source": [
    "# изменим тип данных с 'object' на 'float64'\n",
    "market_money['Выручка'] = market_money['Выручка'].astype(float)"
   ]
  },
  {
   "cell_type": "code",
   "execution_count": null,
   "metadata": {},
   "outputs": [],
   "source": [
    "# проверим изменение типов данных с 'object' на 'float64'\n",
    "market_money.info()"
   ]
  },
  {
   "cell_type": "code",
   "execution_count": null,
   "metadata": {
    "scrolled": true
   },
   "outputs": [],
   "source": [
    "# Изучение датафрейма 'market_time'\n",
    "df_review(market_time)"
   ]
  },
  {
   "cell_type": "code",
   "execution_count": null,
   "metadata": {
    "scrolled": true
   },
   "outputs": [],
   "source": [
    "# Изучение датафрейма 'money'\n",
    "df_review(money)"
   ]
  },
  {
   "cell_type": "code",
   "execution_count": null,
   "metadata": {},
   "outputs": [],
   "source": [
    "df_full = [market_file, market_money, market_time, money]"
   ]
  },
  {
   "cell_type": "code",
   "execution_count": null,
   "metadata": {},
   "outputs": [],
   "source": [
    "# Выявление уникальных значений категориальных столбцов\n",
    "for df in df_full:\n",
    "    for column in df.select_dtypes(include=['object']).columns:\n",
    "        print(f'Уникальные значения для {column}:')\n",
    "        print(df[column].unique())"
   ]
  },
  {
   "cell_type": "code",
   "execution_count": null,
   "metadata": {},
   "outputs": [],
   "source": [
    "# Замена опечатки в столбце \"Тип сервиса\"\n",
    "market_file['Тип сервиса'] = market_file['Тип сервиса'].replace('стандартт', 'стандарт')\n",
    "# Проверка уникальных значений\n",
    "print(market_file['Тип сервиса'].unique())\n",
    "\n",
    "# Замена опечатки в столбце 'Период'\n",
    "market_time['Период'] = market_time['Период'].replace('предыдцщий_месяц', 'предыдущий_месяц')\n",
    "# Проверка уникальных значений\n",
    "print(market_time['Период'].unique())"
   ]
  },
  {
   "cell_type": "code",
   "execution_count": null,
   "metadata": {
    "scrolled": false
   },
   "outputs": [],
   "source": [
    "# Проверка на выбросы с помощью boxplot\n",
    "for df in df_full:\n",
    "    for column in df.select_dtypes(include=[np.number]).columns:\n",
    "        if column != 'id':\n",
    "            # Вычисление размаха данных\n",
    "            data_range = df[column].max() - df[column].min()\n",
    "            \n",
    "            # Настройка размера графика в зависимости от размаха данных\n",
    "            plt.figure(figsize=(5, data_range / df[column].std()))\n",
    "            df.boxplot([column])\n",
    "            plt.title(f'Boxplot для {column}')\n",
    "            plt.show()"
   ]
  },
  {
   "cell_type": "markdown",
   "metadata": {},
   "source": [
    "Имеется явный выброс по выручке больше 100000 руб. проведем анализ аномального значения  "
   ]
  },
  {
   "cell_type": "code",
   "execution_count": null,
   "metadata": {
    "scrolled": true
   },
   "outputs": [],
   "source": [
    "print(market_money[market_money['Выручка'] > 100000])"
   ]
  },
  {
   "cell_type": "code",
   "execution_count": null,
   "metadata": {},
   "outputs": [],
   "source": [
    "id_value = 215380\n",
    "\n",
    "print(\"Данные о поведении покупателя:\")\n",
    "display(market_file[market_file['id'] == id_value])\n",
    "\n",
    "print(\"\\nДанные о выручке:\")\n",
    "display(market_money[market_money['id'] == id_value])\n",
    "\n",
    "print(\"\\nДанные о времени, проведенном на сайте:\")\n",
    "display(market_time[market_time['id'] == id_value])\n",
    "\n",
    "print(\"\\nДанные о прибыли:\")\n",
    "display(money[money['id'] == id_value])"
   ]
  },
  {
   "cell_type": "markdown",
   "metadata": {},
   "source": [
    "Судя по активности пользователя и анализу предыдущих периодов, отсутствие высоких акционных покупок, есть предположение что аномальная выручка является выбросом. Необходимо удалить данные обо всех покупках пользователя: данные могут исказить результаты анализа и сделают  модель менее точной  "
   ]
  },
  {
   "cell_type": "code",
   "execution_count": null,
   "metadata": {},
   "outputs": [],
   "source": [
    "market_file = market_file[market_file['id'] != id_value]\n",
    "market_money = market_money[market_money['id'] != id_value]\n",
    "market_time = market_time[market_time['id'] != id_value]\n",
    "money = money[money['id'] != id_value]"
   ]
  },
  {
   "cell_type": "code",
   "execution_count": null,
   "metadata": {},
   "outputs": [],
   "source": [
    "print(\"Данные о поведении покупателя для id 215380:\")\n",
    "display(market_file[market_file['id'] == id_value])\n",
    "\n",
    "print(\"\\nДанные о выручке для id 215380:\")\n",
    "display(market_money[market_money['id'] == id_value])\n",
    "\n",
    "print(\"\\nДанные о времени, проведенном на сайте для id 215380:\")\n",
    "display(market_time[market_time['id'] == id_value])\n",
    "\n",
    "print(\"\\nДанные о прибыли для id 215380:\")\n",
    "display(money[money['id'] == id_value])"
   ]
  },
  {
   "cell_type": "markdown",
   "metadata": {},
   "source": [
    "**Вывод по предобработке данных**\n",
    "\n",
    "Данные состоят из четырех наборов данных: Market File, Market Money, Market Time и Money. \n",
    "\n",
    "1. Market File: содержит 1300 записей с 13 столбцами. Пропущенные значения и дубликаты отсутствуют. в столбцах \"Маркет_актив_6_мес\", \"Акционные_покупки\" тип данных изменен на float. Замена опечатки в столбце \"Тип сервиса\" - 'стандартт' -> 'стандарт'  \n",
    "2. Market Money: содержит 3900 записей с 3 столбцами. Пропущенные значения и дубликаты отсутствуют. В столбце \"Выручка\" типа данных  изменен на float. Имеелось аномальное значение выручки по пользователю, активность которого снизилась, было принято решение удалить данные, чтобы они не повлияли на модель. \n",
    "3. Market Time: содержит 2600 записей с 3 столбцами. Пропущенные значения и дубликаты отсутствуют.Замена опечатки в столбце 'Период' - 'предыдцщий_месяц' -> 'предыдущий_месяц'\n",
    "4. Money: содержит 1300 записей с 2 столбцами. Пропущенные значения и дубликаты отсутствуют.\n",
    "\n",
    "Все наборы данных имеют столбец 'id', по которому можем связывать данные между наборами.\n"
   ]
  },
  {
   "cell_type": "markdown",
   "metadata": {},
   "source": [
    "### Шаг 3. Исследовательский анализ данных  <a id='#2_1-bullet'></a>"
   ]
  },
  {
   "cell_type": "markdown",
   "metadata": {},
   "source": [
    "**Целью проекта является определение клиентов со снижением активности. Построим графики зависимостей по критериям, которые могут выявить закономерности по оставшимся признакам, исключим id из столбцов**"
   ]
  },
  {
   "cell_type": "code",
   "execution_count": null,
   "metadata": {
    "scrolled": false
   },
   "outputs": [],
   "source": [
    "market_file.info()"
   ]
  },
  {
   "cell_type": "code",
   "execution_count": null,
   "metadata": {
    "scrolled": false
   },
   "outputs": [],
   "source": [
    "# Определение столбца и категорий для анализа\n",
    "column = 'Покупательская активность'\n",
    "categories = ['Снизилась', 'Прежний уровень']\n",
    "num_columns = market_file.select_dtypes(include=['int64', 'float64']).columns.tolist()\n",
    "\n",
    "# Получение списка всех столбцов в датафрейме, исключая 'id'\n",
    "columns = [col for col in num_columns if col != 'id']\n",
    "\n",
    "# Цикл по каждому столбцу для создания гистограммы и таблицы\n",
    "for col in columns:\n",
    "    plt.figure(figsize=(10, 6))\n",
    "    # Цикл по каждой категории для создания гистограммы\n",
    "    for category in categories:\n",
    "        # Фильтрация данных по текущей категории\n",
    "        data = market_file[market_file[column] == category]\n",
    "        # Создание гистограммы для текущей категории\n",
    "        plt.hist(data[col].dropna(), bins=20, alpha=0.3, label=category)\n",
    "    \n",
    "    # Настройка и отображение гистограммы\n",
    "    plt.title(f'Гистограмма для {col}')\n",
    "    plt.xlabel(col)\n",
    "    plt.ylabel('Частота')\n",
    "    plt.legend(loc='upper right')\n",
    "    plt.show()\n",
    "    \n",
    "    # Вывод таблицы для каждого столбца\n",
    "    print(f'Таблица для {col}:')\n",
    "    for category in categories:\n",
    "        # Фильтрация данных по текущей категории\n",
    "        data = market_file[market_file[column] == category]\n",
    "        print(f'\\nКатегория: {category}')\n",
    "        # Создание и вывод таблицы с описательной статистикой для текущей категории\n",
    "        display(data[col].describe().to_frame().T)"
   ]
  },
  {
   "cell_type": "code",
   "execution_count": null,
   "metadata": {
    "scrolled": false
   },
   "outputs": [],
   "source": [
    "# Определение столбца и категорий для анализа\n",
    "column = 'Покупательская активность'\n",
    "categories = ['Снизилась', 'Прежний уровень']\n",
    "\n",
    "ohe_columns = market_file.select_dtypes(include=['object']).columns.tolist()\n",
    "\n",
    "# Получение списка всех столбцов в датафрейме, исключая 'id'\n",
    "columns = [col for col in ohe_columns if col != 'id' and col != 'Покупательская активность']\n",
    "\n",
    "# Цикл по каждому столбцу для создания гистограммы и таблицы\n",
    "#sns.countplot(x='Тип сервиса', hue=column, data=market_file)\n",
    "\n",
    "for col in columns:\n",
    "    plt.figure(figsize=(10, 6))\n",
    "    # Цикл по каждой категории для создания гистограммы\n",
    "    for category in categories:\n",
    "        # Фильтрация данных по текущей категории\n",
    "        data = market_file[market_file[column] == category]\n",
    "        # Создание гистограммы для текущей категории\n",
    "        #plt.hist(data[col].dropna(), bins=20, alpha=0.3, label=category)\n",
    "        sns.countplot(x=col, hue='Покупательская активность', data=market_file)\n",
    "    \n",
    "    # Настройка и отображение гистограммы\n",
    "    plt.title(f'Гистограмма для {col}')\n",
    "    plt.xlabel(col)\n",
    "    plt.ylabel('Частота')\n",
    "    plt.legend(loc='upper right')\n",
    "    plt.show()\n",
    "    \n",
    "    # Вывод таблицы для каждого столбца\n",
    "    print(f'Таблица для {col}:')\n",
    "    for category in categories:\n",
    "        # Фильтрация данных по текущей категории\n",
    "        data = market_file[market_file[column] == category]\n",
    "        print(f'\\nКатегория: {category}')\n",
    "        # Создание и вывод таблицы с описательной статистикой для текущей категории\n",
    "        display(data[col].describe().to_frame().T)"
   ]
  },
  {
   "cell_type": "code",
   "execution_count": null,
   "metadata": {
    "scrolled": true
   },
   "outputs": [],
   "source": [
    "market_time.info()"
   ]
  },
  {
   "cell_type": "code",
   "execution_count": null,
   "metadata": {
    "scrolled": true
   },
   "outputs": [],
   "source": [
    "market_time.describe()"
   ]
  },
  {
   "cell_type": "code",
   "execution_count": null,
   "metadata": {
    "scrolled": false
   },
   "outputs": [],
   "source": [
    "sns.countplot(x='минут', hue='Период', data=market_time)"
   ]
  },
  {
   "cell_type": "markdown",
   "metadata": {},
   "source": [
    "Распределение графика нормальное. пик примерно на 13 минуте, также в текущем периоде видим большую активность пользователей"
   ]
  },
  {
   "cell_type": "code",
   "execution_count": null,
   "metadata": {
    "scrolled": false
   },
   "outputs": [],
   "source": [
    "market_money.info()"
   ]
  },
  {
   "cell_type": "code",
   "execution_count": null,
   "metadata": {
    "scrolled": false
   },
   "outputs": [],
   "source": [
    "sns.histplot(x='Выручка', hue='Период', data=market_money)"
   ]
  },
  {
   "cell_type": "markdown",
   "metadata": {},
   "source": [
    "Распределение графика нормальное. Медиана около 5000, в препредыдущем периоде выручка была существенно больше. "
   ]
  },
  {
   "cell_type": "markdown",
   "metadata": {},
   "source": [
    "Отберем клиентов с покупательской активностью не менее трёх месяцев, то есть таких, которые что-либо покупали в этот период."
   ]
  },
  {
   "cell_type": "code",
   "execution_count": null,
   "metadata": {
    "scrolled": true
   },
   "outputs": [],
   "source": [
    "# преобразование данных\n",
    "market_money = market_money.pivot(index='id', columns='Период', values='Выручка')\n",
    "market_money.columns = ['выручка_' + str(col) for col in market_money.columns]\n",
    "# упорядочивание столбцов\n",
    "market_money = market_money[['выручка_препредыдущий_месяц', 'выручка_предыдущий_месяц', 'выручка_текущий_месяц']]\n",
    "# фильтрация данных\n",
    "market_money = market_money[(market_money['выручка_препредыдущий_месяц'] != 0) & (market_money['выручка_предыдущий_месяц'] != 0) & (market_money['выручка_текущий_месяц'] != 0)]\n",
    "display(market_money)"
   ]
  },
  {
   "cell_type": "markdown",
   "metadata": {},
   "source": [
    "Вывод: \n",
    "\n",
    "С учетом удаления аномальных значений, в общем датафрейме удалили данные по 4-ем пользователям. Итого, в данных отсутствуют записи с пользователями, у которых не было покупок за последние 3 месяца"
   ]
  },
  {
   "cell_type": "code",
   "execution_count": null,
   "metadata": {
    "scrolled": false
   },
   "outputs": [],
   "source": [
    "print(\"Статистика market_file:\")\n",
    "display(market_file.describe())\n",
    "print(\"\\nСтатистика  market_money:\")\n",
    "display(market_money.describe())\n",
    "print(\"\\nСтатистика  market_time:\")\n",
    "display(market_time.describe())\n",
    "print(\"\\nСтатистика  money:\")\n",
    "display(money.describe())"
   ]
  },
  {
   "cell_type": "markdown",
   "metadata": {},
   "source": [
    "Вывод:\n",
    "\n",
    "Market File: Этот набор данных содержит 1299 записей. Среднее значение для столбца 'Маркет_актив_6_мес' составляет примерно 4.26, а для столбца 'Маркет_актив_тек_мес' - примерно 4.01. Столбец 'Длительность' имеет среднее значение около 601.9. Все данные не имеют аномалий. \n",
    "\n",
    "Market Money: Этот набор данных содержит 1296 записей. Среднее значение для столбца 'Выручка' составляет примерно 4999. Все данные не имеют аномалий.\n",
    "\n",
    "Market Time: Среднее значение для столбца 'минут' составляет примерно 13.34. Все данные не имеют аномалий.\n",
    "\n",
    "Money: Среднее значение для столбца 'Прибыль' составляет примерно 4. Все данные не имеют аномалий.\n",
    "\n"
   ]
  },
  {
   "cell_type": "markdown",
   "metadata": {},
   "source": [
    "Инсайты:\n",
    "\n",
    "- Покупательская активность: В категории \"Снизилась\" 497 наблюдений, а в категории \"Прежний уровень\" - 802 наблюдения.\n",
    "- Тип сервиса: В обеих категориях большинство клиентов выбирают \"стандарт\".\n",
    "- Разрешить сообщать: Большинство клиентов в обеих категориях разрешили отправку сообщений.\n",
    "- Маркет_актив_6_мес: Средняя активность на рынке за последние 6 месяцев выше у клиентов, чья активность осталась на прежнем уровне.\n",
    "- Маркет_актив_тек_мес: Средняя активность на рынке в текущем месяце примерно одинакова в обеих категориях.\n",
    "- Длительность: Клиенты, чья активность снизилась, в среднем проводят больше времени. Аномалия, необходимо обратить внимание\n",
    "- Акционные_покупки: Клиенты, чья активность снизилась, в среднем совершают больше акционных покупок. Возможно, для удержания таких клиентов стоит предлагать больше акционных товаров или дополнительные промокоды\n",
    "- Популярная_категория: В обеих категориях наиболее популярной является категория \"Товары для детей\".\n",
    "- Средний_просмотр_категорий_за_визит: Клиенты, чья активность осталась на прежнем уровне, в среднем просматривают больше категорий за визит.\n",
    "- Неоплаченные_продукты_штук_квартал: Клиенты, чья активность снизилась, в среднем имеют больше неоплаченных продуктов за квартал.\n",
    "- Ошибка_сервиса: Клиенты, чья активность осталась на прежнем уровне, в среднем сталкиваются с большим количеством ошибок сервиса. Логично. Предполагаю, что данный признак можно будет исключить. проверим это в дальнейшем\n",
    "- Страниц_за_визит: Клиенты, чья активность осталась на прежнем уровне, в среднем просматривают больше страниц за визит. Логично. Предполагаю, что данный признак можно будет исключить. проверим это в дальнейшем"
   ]
  },
  {
   "cell_type": "markdown",
   "metadata": {},
   "source": [
    " ### Шаг 4. Объединение таблиц<a id='#3_1-bullet'></a>"
   ]
  },
  {
   "cell_type": "code",
   "execution_count": null,
   "metadata": {},
   "outputs": [],
   "source": [
    "# преобразование данных\n",
    "market_time = market_time.pivot(index='id', columns='Период', values='минут')\n",
    "market_time.columns = ['минут_' + str(col) for col in market_time.columns]\n",
    "\n",
    "display(market_time)"
   ]
  },
  {
   "cell_type": "code",
   "execution_count": null,
   "metadata": {},
   "outputs": [],
   "source": [
    "# объединение данных\n",
    "market_file = market_file.merge(market_money, on='id', how='inner')\n",
    "market_file = market_file.merge(market_time, on='id', how='inner')"
   ]
  },
  {
   "cell_type": "code",
   "execution_count": null,
   "metadata": {
    "scrolled": true
   },
   "outputs": [],
   "source": [
    "df_review(market_file)"
   ]
  },
  {
   "cell_type": "markdown",
   "metadata": {},
   "source": [
    "### Шаг 5. Корреляционный анализ  <a id='#5_1-bullet'></a>"
   ]
  },
  {
   "cell_type": "code",
   "execution_count": null,
   "metadata": {},
   "outputs": [],
   "source": [
    "# Удаление столбца 'id'\n",
    "data_without_id = market_file.drop('id', axis=1)\n",
    "\n",
    "# Вычисление матрицы корреляции Phi_K для данных без 'id'\n",
    "phik_matrix = data_without_id.phik_matrix()\n",
    "\n",
    "# Визуализация матрицы корреляции Phi_K\n",
    "plt.figure(figsize=(15, 10))\n",
    "sns.heatmap(phik_matrix, annot=True, fmt=\".2f\", cmap='coolwarm')\n",
    "plt.title(\"Матрица корреляции Phi_K\")\n",
    "plt.show()"
   ]
  },
  {
   "cell_type": "markdown",
   "metadata": {},
   "source": [
    "**Вывод по матрице корреляции между покупательской активностью и оставшимися признаками:**\n",
    "\n",
    "Признаки с сильной корреляцией:\n",
    "- Страниц_за_визит 0,75\n",
    "- минут_предыдущий_месяц 0,69\n",
    "- минут_текущий_месяц 0,58\n",
    "\n",
    "Признаки с умеренной корреляцией:\n",
    "- Маркет_актив_6_мес и Средний_просмотр_категорий_за_визит - 0,54\n",
    "- Акционные_покупки и Неоплаченные_продукты_штук_квартал - 0,51\n",
    "- выручка_предыдущий_месяц - 0,50\n",
    "\n",
    "Признаки с высокой корреляции следует рассмотреть на мультиколлинеарность. Как правило, о мультиколлинеарности говорят при значении коэффициента корреляции от 0.9 до 0.95 по модулю. В такой ситуации лишние коррелирующие признаки нужно удалять из обучающей выборки. Коэффициенты корреляции в нашей выборке не подвержены мультиколлинеарности\n",
    "\n",
    "Признаки с похожей семантикой или логичными причинно-следственными связями можно рассмотреть как претендентов на исключение одного из признаков или генерирование нового признака, как например Маркет_актив_6_мес и Средний_просмотр_категорий_за_визит\n",
    "\n",
    "Признаки с низкой корреляцией стоит оставить и рассмотреть альтернативными способами анализа например методом Шепли, для того чтобы не потерять более сложные взаимосвязи в данных\n"
   ]
  },
  {
   "cell_type": "markdown",
   "metadata": {},
   "source": [
    "### Шаг 6. Использование пайплайнов <a id='#6_1-bullet'></a>"
   ]
  },
  {
   "cell_type": "code",
   "execution_count": null,
   "metadata": {},
   "outputs": [],
   "source": [
    "df_mod = market_file.drop('id', axis=1)"
   ]
  },
  {
   "cell_type": "code",
   "execution_count": null,
   "metadata": {},
   "outputs": [],
   "source": [
    "df_mod['Покупательская активность'] = df_mod['Покупательская активность'].replace({'Снизилась': 1, 'Прежний уровень': 0})"
   ]
  },
  {
   "cell_type": "code",
   "execution_count": null,
   "metadata": {},
   "outputs": [],
   "source": [
    "# Определение целевого признака\n",
    "target = 'Покупательская активность'\n",
    "\n",
    "# Получение списка всех признаков, за исключением целевого\n",
    "features = df_mod.columns.drop(target)\n",
    "\n",
    "# Определение числовых и текстовых признаков\n",
    "num_columns = df_mod[features].select_dtypes(include=['int64', 'float64']).columns.tolist()\n",
    "ohe_columns = df_mod[features].select_dtypes(include=['object']).columns.tolist()\n",
    "\n",
    "\n",
    "# Разделяем данные на обучающую и тестовую выборки\n",
    "X_train, X_test, y_train, y_test = train_test_split(\n",
    "    df_mod.drop(target, axis=1), # Независимые переменные\n",
    "    df_mod[target], # Зависимая переменная\n",
    "    test_size=TEST_SIZE, # Размер тестовой выборки\n",
    "    random_state=RANDOM_STATE # Случайное состояние для воспроизводимости\n",
    ")\n",
    "\n",
    "\n",
    "ohe_pipe = Pipeline(\n",
    "    [('ohe', OneHotEncoder(drop='first', sparse=False))\n",
    "    ]\n",
    "    )\n",
    "\n",
    "# создаём общий пайплайн для подготовки данных\n",
    "data_preprocessor = ColumnTransformer(\n",
    "    [\n",
    "        ('ohe', ohe_pipe, ohe_columns),\n",
    "        ('num', MinMaxScaler(), num_columns)\n",
    "    ], \n",
    "    remainder='passthrough'\n",
    ")\n",
    "\n",
    "\n",
    "pipe_final = Pipeline(\n",
    "    [\n",
    "        ('preprocessor', data_preprocessor),\n",
    "        ('model', DecisionTreeClassifier(random_state=RANDOM_STATE))\n",
    "    ]\n",
    ")\n"
   ]
  },
  {
   "cell_type": "code",
   "execution_count": null,
   "metadata": {},
   "outputs": [],
   "source": [
    "# создаем список словарей для каждой модели\n",
    "param_grid = [\n",
    "        # словарь для модели DecisionTreeClassifier()\n",
    "    {\n",
    "        'model': [DecisionTreeClassifier(random_state=RANDOM_STATE)],\n",
    "        'model__max_depth': range(2,10),\n",
    "        'model__max_features': range(2,10),\n",
    "        'preprocessor__num': [StandardScaler(), MinMaxScaler(),  'passthrough']  \n",
    "    },\n",
    "    # словарь для модели KNeighborsClassifier()     \n",
    "    {\n",
    "        'model': [KNeighborsClassifier()],        \n",
    "        'model__n_neighbors': range(1,6),\n",
    "        'preprocessor__num': [StandardScaler(), MinMaxScaler(),'passthrough']    \n",
    "    },\n",
    "# словарь для модели LogisticRegression()    \n",
    "    {\n",
    "        'model': [LogisticRegression(solver='liblinear', penalty='l1', random_state=RANDOM_STATE)],\n",
    "        'model__C': range(1,5),        \n",
    "        'preprocessor__num': [StandardScaler(), MinMaxScaler(),'passthrough']  \n",
    "    },\n",
    "\n",
    "    # словарь для модели SVC()\n",
    "    {\n",
    "        'model': [SVC(probability=True, random_state=RANDOM_STATE)],\n",
    "        'preprocessor__num': [StandardScaler(), 'passthrough']\n",
    "}\n",
    "]\n",
    "\n",
    "grid = GridSearchCV(\n",
    "    pipe_final, \n",
    "    param_grid=param_grid, \n",
    "    cv=5,\n",
    "    scoring='roc_auc',\n",
    "    n_jobs=-1\n",
    ")\n",
    "grid.fit(X_train, y_train)\n",
    "print('Лучшая модель и её параметры:\\n\\n', grid.best_estimator_)\n",
    "print ('Метрика лучшей модели на тренировочной выборке:', grid.best_score_)"
   ]
  },
  {
   "cell_type": "code",
   "execution_count": null,
   "metadata": {},
   "outputs": [],
   "source": [
    "y_test_pred = grid.predict(X_test)\n",
    "roc_auc = roc_auc_score(y_test, y_test_pred)\n",
    "print(f'Метрика ROC-AUC на тестовой выборке: {roc_auc:.4f}')\n",
    "\n",
    "# Предсказание вероятностей классов\n",
    "probabilities = grid.predict_proba(X_test)\n",
    "\n",
    "# Извлечение вероятностей для класса 1\n",
    "probabilities_one = probabilities[:, 1]\n",
    "\n",
    "# Вычисление ROC-AUC\n",
    "roc_auc = roc_auc_score(y_test, probabilities_one)\n",
    "\n",
    "print(f'Метрика ROC-AUC для класса 1 на тестовой выборке: {roc_auc:.4f}')"
   ]
  },
  {
   "attachments": {
    "image.png": {
     "image/png": "[encoded data removed]"
    }
   },
   "cell_type": "markdown",
   "metadata": {},
   "source": [
    "**Обоснование выбора метрики**\n",
    "\n",
    "1. По условию задачи нам необходимо построить модель, которая предскажет вероятность снижения покупательской активности клиента в следующие три месяца - это бинарная классификация, при этом на этапе исследовательского анализа было выявлено что соотношение категории покупателей со снижением активности меньше, но незначительно.\n",
    "Предлагаем оценивать качество подобранной модели метрикой ROC-AUC — это всеохватывающая метрика качества классификации. Она учитывает работу модели при всех возможных значениях порогов и поэтому не зависит от одного конкретного. Данную метрику можно использовать для оценки качества признаков. Когда необходимо оценить качество работы модели вне зависимости от выбранного порога вероятности. Метрику можно использовать в случае, когда объектов с одним значением целевого признака больше, чем с другими.\n",
    "Считаем, что значения признака — это ответы нашего алгоритма (не обязательно они должны быть нормированы на отрезок [0, 1], ведь нам важен порядок). Тогда выражение 2×|AUC_ROC — 0.5| вполне подойдёт для оценки качества признака: оно максимально, если по этому признаку 2 класса строго разделяются и минимально, если они «перемешаны».\n",
    "2.  В нашей «непрерывной» постановке задачи (когда объекты двух классов описываются плотностями) AUC ROC имеет вероятностный смысл: это вероятность того, что случайно взятый объект класса 1 имеет оценку принадлежности к классу 1 выше, чем случайно взятый объект класса 0. Поэтому метрику нужно считать по вероятностям классов probabilities = model.predict_proba(features) probabilities_one = probabilities[:, 1] print('Площадь ROC-кривой:', roc_auc_score(target, probabilities_one)) А внутри кросс-валидации мы просто указываем метрику ROC_AUC и там никаких вероятностей гне требуется, так как эта метрика не дифференцируема на всем промежутке, то разработчики кросс-валидации меняют ее на эквивалент Gini, так как Gini = 2 ×AUC_ROC – 1:\n",
    "\n",
    "    - AUC ROC не зависит от строго возрастающего преобразования ответов алгоритма (например, возведения в квадрат), поскольку зависит не от самих ответов, а от меток классов объектов при упорядочивании по этим ответам.\n",
    "    - Часто используют критерий качества Gini, он принимает значение на отрезке [–1, +1] и линейно выражается через площадь под кривой ошибок: Gini = 2 ×AUC_ROC – 1\n",
    "    - AUC ROC можно использовать для оценки качества признаков. Считаем, что значения признака — это ответы нашего алгоритма (не обязательно они должны быть нормированы на отрезок [0, 1], ведь нам важен порядок). Тогда выражение 2×|AUC_ROC — 0.5| вполне подойдёт для оценки качества признака: оно максимально, если по этому признаку 2 класса строго разделяются и минимально, если они «перемешаны».\n",
    " \n",
    "3. \"print ('Метрика лучшей модели на тренировочной выборке:', grid.best_score_)\" - это скопипащено из задания в лекциях :)\n",
    " ![image.png](attachment:image.png)\n",
    " \n",
    " https://practicum.yandex.ru/learn/data-scientist-plus/courses/12776ba9-ee96-4a2b-9b6c-8f9ccd114cea/sprints/239704/topics/ac9f6f00-2309-4257-88ae-c1920123baf3/lessons/7ac9edb9-e2d9-4020-ac09-8401fc16f3ba/ задание 1. \n",
    " \n",
    " \"мы не выбираем лучшую модель по результату на тренировочный выборке, потому что она ничего не показывает. Например если взять дерево решение достаточно большой глубины, то метрика на тренировочной будет равна 100%, но это результат запоминание данных, а не обобщения.\" Согласна,  но мы выведем метрику ROC-AUC лучшей модели — командой .best_score_, смысл этого атрибута - лучшая метрика при кросс-валидации. или ты имеешь в виду почему в параметре scoring я сразу указываю эту метрику? Ссылки нет в предложении \"Можешь посмотреть тут с помощью VPN о логике использования выборок\"  C выборками четко понимаю что на тренировочной метрика может быть 100% и нам важна она на тестовой выборке. \n",
    " \n",
    "4. по комментарию ниже разбила ячейку на несколько по логическим смыслам и вынесла переменные в блок импортов \n"
   ]
  },
  {
   "cell_type": "markdown",
   "metadata": {},
   "source": [
    "**Вывод**\n",
    "Параметры лучшей модели:\n",
    "- LogisticRegression(C=1, penalty='l1', random_state=13, solver='liblinear') \n",
    "- OneHotEncoder для категориальных признаков\n",
    "- MinMaxScaler для числовых признаков.\n",
    "- Метрика лучшей модели на тренировочной выборке 0.8998\n",
    "- Метрика ROC-AUC на тестовой выборке (0.8999)\n",
    "- Метрика ROC-AUC вероятностей для класса 1 на тестовой выборке 0.9123\n",
    "\n",
    "Модель с параметрами выше планируем использовать в дальнейшеи исследовании для прогнозирования покупательской активности"
   ]
  },
  {
   "cell_type": "markdown",
   "metadata": {},
   "source": [
    "### Шаг 7. Анализ важности признаков"
   ]
  },
  {
   "cell_type": "markdown",
   "metadata": {},
   "source": [
    "Оценим важность признаков для лучшей модели и построим график важности с помощью метода SHAP. Вычислим, как отдельный признак помог присвоить модели итоговое значение целевого."
   ]
  },
  {
   "cell_type": "code",
   "execution_count": null,
   "metadata": {},
   "outputs": [],
   "source": [
    "X_train_2 = pipe_final.named_steps['preprocessor'].fit_transform(X_train)\n",
    "explainer = shap.Explainer(grid.best_estimator_.named_steps['model'], X_train_2)\n",
    "X_test_2 = pipe_final.named_steps['preprocessor'].transform(X_test)\n",
    "feature_names = pipe_final.named_steps['preprocessor'].get_feature_names_out()\n",
    "X_test_2 = pd.DataFrame(X_test_2, columns=feature_names) \n",
    "shap_values = explainer(X_test_2)\n",
    "display(shap.plots.bar(shap_values, max_display=30))"
   ]
  },
  {
   "cell_type": "code",
   "execution_count": null,
   "metadata": {},
   "outputs": [],
   "source": [
    "shap.plots.beeswarm(shap_values, max_display=300) "
   ]
  },
  {
   "cell_type": "markdown",
   "metadata": {},
   "source": [
    "Диаграмма shap.plots.beeswarm — это один из вариантов визуализации вклада признаков в каждое предсказание модели. \n",
    "\n",
    "На графике точками отображены все наблюдения из выборки.\n",
    "На оси X отложены значения Шепли, на оси Y — признаки модели, расположенные сверху вниз в порядке убывания средних SHAP‑значений.\n",
    "\n",
    "Негативные значения Шепли слева от центральной вертикальной линии означают, что признак склоняет модель отнести объекты к классу 0 (покупательская активность не снизится), а положительные справа — к классу 1 (покупательская активность снизится).\n",
    "\n",
    "Чем толще линия по вертикали, тем больше наблюдений сгруппированы вместе: у них близкие значения Шепли. Это значит, что модель уверенно присваивает SHAP-значения, с учётом закономерностей в данных.\n",
    "\n",
    "Цвет точки отражает значения каждого признака объекта: чем краснее объект, тем больше признак, указанный на оси Y.\n",
    "\n",
    "Признаки, влияющие на покупательскую активность:\n",
    "\n",
    "- \"num_минут_предыдущий_месяц\"/ время на сайте в минутах: большое отрицательное значение SHAP - чем больше этот признак, тем  меньше вероятность снижения покупательской активности.\n",
    "- \"num_Страницы_за_визит\"/ кол-во страниц, просмотренных за один визит на сайт в среднем за последние 3 месяца: большое отрицательное значение SHAP - чем больше этот признак, тем выше покупательская активность.\n",
    "- \"num_Средний_просмотр_категории_за_визит\"/ кол-во категорий товаров покупатель смотрел за визит в среднем за последний месяц: имеет отрицательное значение SHAP, но меньше, чем у предыдущих двух признаков.\n",
    "- \"num_Акционные покупки\"/доля покупок покупателя была по акции в среднем за последние 6 месяцев: положительное значение SHAP - чем больше этот признак, тем больше вероятность снижения покупательской активности.\n",
    "- \"num_Неоплаченые продукты штука квартал\"/ кол-во товаров покупатель оставлял в корзине без оплаты за последние 3 месяца: положительное значение SHAP - чем больше этот признак, тем ниже покупательская активность.\n",
    "- \"num_минут текущий месяц\"/время, которое покупатель проводил на сайте в минутах: небольшое отрицательное значение SHAP - чем больше этот признак, тем выше покупательская активность.\n",
    "- \"num_Маркет актив 6 мес\"/ кол-во маркетинговых акций компании в среднем за последние 6 месяцев: отрицательное значение SHAP - чем больше этот признак, тем выше покупательская активность.\n",
    "- \"ohe_Популярная категория Мелкая бытовая техника и электроника\"/популярная категория товаров за последние 6 месяцев: небольшое отрицательное значение SHAP - чем больше этот признак, тем выше покупательская активность.\n",
    "- num_выручка препредыдущий месяц/сколько денег покупатель потратил на сайте за предпредыдущий месяц: небольшое отрицательное значение SHAP - чем больше этот признак, тем выше покупательская активность.\n",
    "\n",
    "Вывод: все признаки имеют значение для предсказания покупательской активности. Признаки с большими положительными значениями SHAP сильнее всего влияют на снижение покупательской активности, а признаки с отрицательными значениями SHAP - на сохранение покупательской активности. \n",
    "\n",
    "Признаки “num_минут_предыдущий_месяц”, “num_Страниц_за_визит” и “num_Средний просмотр категории за визит”, являются наиболее значимыми, так как они имеют наибольшее влияние на покупательскую активность.\n",
    "\n",
    "“ohe_Популярная категория Товары для детей” и ”num выручка текущий месяц” - менее важны для модели. \n"
   ]
  },
  {
   "cell_type": "markdown",
   "metadata": {},
   "source": [
    "### Шаг 8. Сегментация покупателей"
   ]
  },
  {
   "cell_type": "markdown",
   "metadata": {},
   "source": [
    "Исходя из предыдущих наблюдений, попробуем сформулировать гипотезу и разработать стратегию влияния на пользовательскую активность. \n",
    " - \"Молодые мамы\" Есть категория клиентов,  которые проводят мало времени на сайте и просматривают мало категорий, покупают акционные товары и товары для детей. Предположим это мамы в декрете, заработок которых снизился, но при этом свободного времени для выбора товаров меньше + потребности в детских товаров выше и регулярнее. Как стратегия повышения покупательской активности: регулярный выпуск промокодов, акции - вместе дешевле, персонализированные рекомендации из других категорий товаров (например доставка еды/аптеки), бесплатная доставка, бесплатная примерка и тд. \n",
    "- \"Потухшие\" клиенты, которые редко посещают сайт и мало тратят: увеличивать количество маркетинговых коммуникаций с клиентами, чтобы повысить их лояльность и интерес к вашим товарам, предлагать новые категории\n",
    "\n",
    "Возьмем категорию \"Молодые мамы\":\n",
    "- \"num_минут_предыдущий_месяц\": Покупатели в этой группе проводят меньше времени на сайте, чем другие. Это может быть связано с ограничением свободного времени\n",
    "- \"num_Страницы_за_визит\": Они просматривают меньше страниц за визит, что указывает на их фокусировку на конкретных товарах или категориях, например \"Товары для детей\".\n",
    "- \"num_Средний_просмотр_категории_за_визит\": Они просматривают меньше категорий товаров за визит, что также указывает на их узкую фокусировку на определенных товарах или категориях.\n",
    "- \"num_Акционные покупки\": Большая часть их покупок совершается по акции, что подтверждает их стремление к экономии.\n",
    "- \"num_Неоплаченые продукты штука квартал\": Они часто оставляют товары в корзине без оплаты, возможно, ожидая снижения цены/или набирают до бесплатной доставки\n",
    "\n",
    "Необходимо провести дополнительный анализ данного сегмента для того чтобы разработать релевантные подходы по увеличению их пользовательской активности, определить примерный объем возможных покупок и объем данного сегмента для рассчета экономической эффективности маркетинговых акций"
   ]
  },
  {
   "cell_type": "code",
   "execution_count": null,
   "metadata": {},
   "outputs": [],
   "source": [
    "# объединение данных\n",
    "market_file = market_file.merge(money, on='id', how='left')"
   ]
  },
  {
   "cell_type": "code",
   "execution_count": null,
   "metadata": {},
   "outputs": [],
   "source": [
    "market_file.info() "
   ]
  },
  {
   "cell_type": "code",
   "execution_count": null,
   "metadata": {},
   "outputs": [],
   "source": [
    "# Определение сегмента \"Молодые мамы\"\n",
    "mom = market_file[\n",
    "    (market_file['минут_предыдущий_месяц'] < market_file['минут_предыдущий_месяц'].mean()) &\n",
    "    (market_file['Страниц_за_визит'] < market_file['Страниц_за_визит'].mean()) &\n",
    "    (market_file['Средний_просмотр_категорий_за_визит'] < market_file['Средний_просмотр_категорий_за_визит'].mean()) &\n",
    "    (market_file['Акционные_покупки'] > market_file['Акционные_покупки'].mean()) &\n",
    "    (market_file['Неоплаченные_продукты_штук_квартал'] > market_file['Неоплаченные_продукты_штук_квартал'].mean())\n",
    "]\n",
    "\n",
    "print(f'Создан сегмент \"Молодые мамы\" с {len(mom)} покупателями.')"
   ]
  },
  {
   "cell_type": "code",
   "execution_count": null,
   "metadata": {
    "scrolled": true
   },
   "outputs": [],
   "source": [
    "# Остальные покупатели, у которых активность не снизилась\n",
    "other_customers = market_file[market_file['Покупательская активность'] != 'Снизилась']\n",
    "\n",
    "# Анализ покупательской активности\n",
    "activity_columns = (['Прибыль', 'Популярная_категория', 'Длительность', \n",
    "                     'Акционные_покупки', 'Средний_просмотр_категорий_за_визит', \n",
    "                     'Неоплаченные_продукты_штук_квартал', 'Страниц_за_визит', \n",
    "                     'выручка_препредыдущий_месяц', 'выручка_предыдущий_месяц', \n",
    "                     'выручка_текущий_месяц', 'минут_предыдущий_месяц', \n",
    "                     'минут_текущий_месяц', 'Разрешить сообщать']\n",
    "                   )\n",
    "activity_data = mom[activity_columns]\n",
    "\n",
    "# Визуализация покупательской активности\n",
    "for column in activity_columns:\n",
    "    plt.figure(figsize=(10, 6))\n",
    "    \n",
    "    # Молодые мамы\n",
    "    plt.hist(mom[column], bins=30, alpha=0.5, color='r', label='Молодые мамы')\n",
    "    \n",
    "    # Остальные покупатели\n",
    "    plt.hist(other_customers[column], bins=30, alpha=0.5, color='g', label='Остальные покупатели')\n",
    "    \n",
    "    \n",
    "    plt.title(f'Распределение {column}')\n",
    "    plt.xlabel(column)\n",
    "    plt.ylabel('Количество')\n",
    "    plt.legend()\n",
    "    \n",
    "    # Поворот названий категорий на вертикальные оси\n",
    "    if market_file[column].dtype == 'object':\n",
    "        plt.xticks(rotation='vertical')\n",
    "    \n",
    "    plt.show()"
   ]
  },
  {
   "cell_type": "code",
   "execution_count": null,
   "metadata": {},
   "outputs": [],
   "source": [
    "# Добавление общих столбцов\n",
    "mom['Общая_выручка_3_месяца'] = mom[['выручка_препредыдущий_месяц', 'выручка_предыдущий_месяц', 'выручка_текущий_месяц']].sum(axis=1)\n",
    "other_customers['Общая_выручка_3_месяца'] = other_customers[['выручка_препредыдущий_месяц', 'выручка_предыдущий_месяц', 'выручка_текущий_месяц']].sum(axis=1)\n",
    "\n",
    "mom['Общие_минуты_2_месяца'] = mom[['минут_предыдущий_месяц', 'минут_текущий_месяц']].sum(axis=1)\n",
    "other_customers['Общие_минуты_2_месяца'] = other_customers[['минут_предыдущий_месяц', 'минут_текущий_месяц']].sum(axis=1)\n",
    "\n",
    "# Обновление списка столбцов для анализа\n",
    "activity_columns += ['Общая_выручка_3_месяца', 'Общие_минуты_2_месяца']\n",
    "\n",
    "# Создаем пустой DataFrame для хранения результатов\n",
    "comparison_table = pd.DataFrame()\n",
    "\n",
    "# Проходим по каждому столбцу в данных\n",
    "for column in activity_columns:\n",
    "    # Если тип данных столбца - object, то это категориальные данные\n",
    "    if mom[column].dtype == 'object':\n",
    "        comparison_table.loc['Мода (Молодые мамы)', column] = mom[column].mode()[0]\n",
    "        comparison_table.loc['Мода (Остальные покупатели)', column] = other_customers[column].mode()[0]\n",
    "    else:\n",
    "        # Иначе это числовые данные\n",
    "        comparison_table.loc['Медиана (Молодые мамы)', column] = mom[column].median()\n",
    "        comparison_table.loc['Медиана (Остальные покупатели)', column] = other_customers[column].median()\n",
    "\n",
    "# Выводим таблицу сравнения\n",
    "# Транспонирование таблицы для удобства просмотра\n",
    "display(comparison_table.transpose())"
   ]
  },
  {
   "cell_type": "markdown",
   "metadata": {},
   "source": [
    "Вывод:\n",
    "\n",
    "Дополнительный анализ подтверждает гипотезу о категории покупателя - мамы в декрете\n",
    "\n",
    "Подтвердившиеся признаки:\n",
    "- Акционные покупки: в среднем совершают больше акционных покупок (0.9 против 0.21 у остальных покупателей).\n",
    "- Длительность: Средняя длительность посещения сайта примерно одинакова для обеих групп покупателей (598 минут у молодых мам против 590 минут у остальных покупателей). Скорее всего времени на поиск товаров у данной категории покупателей достаточно\n",
    "- Неоплаченные продукты: молодые мамы в среднем оставляют больше неоплаченных продуктов (5.0 против 2.0 у остальных покупателей). Необходимо проанализировать возможные причины (платная доставка до какой-то суммы, ожидание акции и тд)\n",
    "- Общая выручка за 3 месяца: Общая выручка за последние три месяца примерно одинакова для обеих групп покупателей (15145.7 у молодых мам и 15107.75 у остальных покупателей). Таким образом есть рекомендация обратить внимание на данную категорию покупателей, возможно, увеличив объем данной категории или их выручку\n",
    "- Общее время на сайте за 2 месяца: Остальные покупатели в среднем проводят на сайте больше времени (30.0 минут против 20.0 минут у молодых мам).\n",
    "- Популярная категория: товары для детей, возможно, магазину необходимо проанализировать ценообразование на другие категории товаров чтобы расширить ассортимент\n",
    "- Прибыль: Средняя прибыль от остальных покупателей немного выше, чем от молодых мам, возможно за счет акционных товаров, где маржинальность меньше (4.04 против 3.92).\n",
    "- Разрешение на рассылку: Большинство покупателей из обеих групп разрешили рассылку.\n",
    "- Средний просмотр категорий за визит: Остальные покупатели в среднем просматривают больше категорий за визит (4.0 против 2.0 у молодых мам). Признак гипотезы подтвердился\n",
    "- Страниц за визит: Остальные покупатели в среднем просматривают больше страниц за визит (10.0 против 4.0 у молодых мам).\n",
    "\n",
    "Рекомендации по работе с сегментом \"Молодые мамы\" для увеличения покупательской активности:\n",
    "\n",
    "- Увеличение количества акций: скидки, бонусы или персонализированные рекомендации\n",
    "- Оптимизация CJM для экономии времени на сайте и увеличив кол-во просмотренных страниц\n",
    "- Рекомендации по профилю 360 для экономии времени покупателя\n",
    "- Работа с неоплаченными продуктами: проработать вопрос с бесплатной доставкой, отправлять напоминания, гарантия возврата\n",
    "- Персонализированные предложения по популярной категории и рекомендуемой исходя из профиля 360, альтернативные товары с более высокой маржой\n",
    "- Проведение A/B тетсирования для подтверждения гипотез и приоритезации рекомендаций, оценки возможной прибыли"
   ]
  },
  {
   "cell_type": "markdown",
   "metadata": {},
   "source": [
    "### Шаг 9. Общий вывод"
   ]
  },
  {
   "cell_type": "markdown",
   "metadata": {},
   "source": [
    "**Цель исследования:**\n",
    "Интернет-магазин «В один клик» продаёт разные товары: для детей, для дома, мелкую бытовую технику, косметику и даже продукты. Отчёт магазина за прошлый период показал, что активность покупателей начала снижаться. Привлекать новых клиентов уже не так эффективно: о магазине и так знает большая часть целевой аудитории. Возможный выход — удерживать активность постоянных клиентов. Сделать это можно с помощью персонализированных предложений. «В один клик» — современная компания, поэтому её руководство не хочет принимать решения просто так — только на основе анализа данных и бизнес-моделирования.\n",
    "\n",
    "Необходимо разработать решение, которое позволит персонализировать предложения постоянным клиентам, чтобы увеличить их покупательскую активность.\n",
    "\n",
    "**Задачи**\n",
    "1. Построили модель, которая предскажет вероятность снижения покупательской активности клиента в следующие три месяца.\n",
    "2. Используя данные модели и данные о прибыльности клиентов, выделили сегменты покупателей \"Молодые мамы\" и разработали  для них персонализированные предложения.\n",
    "\n",
    "**Ход работы:**\n",
    "1. загрузили и проверили 4 датафрейма: все данные в таблицах соответствовали описанию\n",
    "2. Предобработка данных: пропущенные значения и явные дубликаты отсутствовали. Изменили в 3 столбцах типы данных. Удалили данные по 1 пользователю с аномальными значениями, проверили уникальность значений исправили орфографические ошибки\n",
    "3. Исследовательский анализ данных: отобрали клиентов с покупательской активностью не менее трёх месяцев  Аномалии в данных отсутствовали. Построили графики зависимостей по критериям от целевого. Сделали вывод по распределению категорий сниженой покупательской активности и высокой. \n",
    "4. Объединили таблицы, удалили столбец 'id' и провели корреляционный анализ, выделили 3 признака с высокой корреляцией: Страниц_за_визит 0,75, минут_предыдущий_месяц 0,69, минут_текущий_месяц 0,58\n",
    "5. используя один общий пайплайн для всех моделей и инструмент подбора гиперпараметров, определили параметры лучшей модели. Лучшая модель: Логистическая регрессия с C=1, penalty='l1', random_state=13, solver='liblinear' ROC-AUC равным 0.90 стала лучшей моделью. Она выявила ключевые факторы покупательской активности: время на сайте, количество просмотренных страниц и категорий, доля акционных покупок, количество неоплаченных товаров, количество маркетинговых акций, популярная категория товаров и сумма потраченных денег.\n",
    "6. Оценили важность признаков для лучшей модели и построили график важности с помощью метода SHAP. Признаки “num_минут_предыдущий_месяц”, “num_Страниц_за_визит” и “num_Средний просмотр категории за визит”, являются наиболее значимыми, так как они имеют наибольшее влияние на покупательскую активность. “ohe_Популярная категория Товары для детей” и ”num выручка текущий месяц” - менее важны для модели.\n",
    "7.Исходя из предыдущих наблюдений, попробуем сформулировать гипотезу и разработать стратегию влияния на пользовательскую активность.\n",
    "\n",
    "**\"Молодые мамы\"**\n",
    "\n",
    "Есть категория клиентов, которые проводят мало времени на сайте и просматривают мало категорий, покупают акционные товары и товары для детей. Предположим это мамы в декрете, заработок которых снизился, но при этом свободного времени для выбора товаров меньше + потребности в детских товаров выше и регулярнее. Как стратегия повышения покупательской активности: регулярный выпуск промокодов, акции - вместе дешевле, персонализированные рекомендации из других категорий товаров (например доставка еды/аптеки), бесплатная доставка, бесплатная примерка и тд.\n",
    "\"Потухшие\" клиенты, которые редко посещают сайт и мало тратят: увеличивать количество маркетинговых коммуникаций с клиентами, чтобы повысить их лояльность и интерес к вашим товарам, предлагать новые категории\n",
    "Возьмем категорию \"Молодые мамы\":\n",
    "- \"num_минут_предыдущий_месяц\": Покупатели в этой группе проводят меньше времени на сайте, чем другие. Это может быть связано с ограничением свободного времени\n",
    "- \"num_Страницы_за_визит\": Они просматривают меньше страниц за визит, что указывает на их фокусировку на конкретных товарах или категориях, например \"Товары для детей\".\n",
    "- \"num_Средний_просмотр_категории_за_визит\": Они просматривают меньше категорий товаров за визит, что также указывает на их узкую фокусировку на определенных товарах или категориях.\n",
    "- \"num_Акционные покупки\": Большая часть их покупок совершается по акции, что подтверждает их стремление к экономии.\n",
    "- \"num_Неоплаченые продукты штука квартал\": Они часто оставляют товары в корзине без оплаты, возможно, ожидая снижения цены/или набирают до бесплатной доставки\n",
    "\n",
    "Дополнительный анализ подтверждает гипотезу о категории покупателя - мамы в декрете\n",
    "\n",
    "Подтвердившиеся признаки:\n",
    "\n",
    "- Акционные покупки: в среднем совершают больше акционных покупок (0.9 против 0.21 у остальных покупателей).\n",
    "- Длительность: Средняя длительность посещения сайта примерно одинакова для обеих групп покупателей (598 минут у молодых мам против 590 минут у остальных покупателей). Скорее всего времени на поиск товаров у данной категории покупателей достаточно\n",
    "- Неоплаченные продукты: молодые мамы в среднем оставляют больше неоплаченных продуктов (5.0 против 2.0 у остальных покупателей). Необходимо проанализировать возможные причины (платная доставка до какой-то суммы, ожидание акции и тд)\n",
    "- Общая выручка за 3 месяца: Общая выручка за последние три месяца примерно одинакова для обеих групп покупателей (15145.7 у молодых мам и 15107.75 у остальных покупателей). Таким образом есть рекомендация обратить внимание на данную категорию покупателей, возможно, увеличив объем данной категории или их выручку\n",
    "- Общее время на сайте за 2 месяца: Остальные покупатели в среднем проводят на сайте больше времени (30.0 минут против 20.0 минут у молодых мам).\n",
    "- Популярная категория: товары для детей, возможно, магазину необходимо проанализировать ценообразование на другие категории товаров чтобы расширить ассортимент\n",
    "- Прибыль: Средняя прибыль от остальных покупателей немного выше, чем от молодых мам, возможно за счет акционных товаров, где маржинальность меньше (4.04 против 3.92).\n",
    "- Разрешение на рассылку: Большинство покупателей из обеих групп разрешили рассылку.\n",
    "- Средний просмотр категорий за визит: Остальные покупатели в среднем просматривают больше категорий за визит (4.0 против 2.0 у молодых мам). Признак гипотезы подтвердился\n",
    "- Страниц за визит: Остальные покупатели в среднем просматривают больше страниц за визит (10.0 против 4.0 у молодых мам).\n",
    "\n",
    "**Рекомендации по работе с сегментом \"Молодые мамы\" для увеличения покупательской активности:**\n",
    "\n",
    "1. Увеличение количества акций: скидки, бонусы или персонализированные рекомендации\n",
    "2. Оптимизация CJM для экономии времени на сайте и увеличив кол-во просмотренных страниц\n",
    "3. Рекомендации по профилю 360 для экономии времени покупателя\n",
    "4. Работа с неоплаченными продуктами: проработать вопрос с бесплатной доставкой, отправлять напоминания, гарантия возврата\n",
    "5. Персонализированные предложения по популярной категории и рекомендуемой исходя из профиля 360, альтернативные товары с более высокой маржой\n",
    "6. Проведение A/B тетсирования для подтверждения гипотез и приоритезации рекомендаций, оценки возможной прибыли\n"
   ]
  },
  {
   "cell_type": "code",
   "execution_count": null,
   "metadata": {},
   "outputs": [],
   "source": []
  }
 ],
 "metadata": {
  "ExecuteTimeLog": [
   {
    "duration": 1591,
    "start_time": "2024-03-26T08:53:12.151Z"
   },
   {
    "duration": 115,
    "start_time": "2024-03-26T09:08:50.257Z"
   },
   {
    "duration": 100,
    "start_time": "2024-03-26T09:09:46.943Z"
   },
   {
    "duration": 130,
    "start_time": "2024-03-26T09:12:01.448Z"
   },
   {
    "duration": 33,
    "start_time": "2024-03-26T09:20:50.743Z"
   },
   {
    "duration": 104,
    "start_time": "2024-03-26T09:21:09.202Z"
   },
   {
    "duration": 32,
    "start_time": "2024-03-26T09:23:51.052Z"
   },
   {
    "duration": 13,
    "start_time": "2024-03-26T09:23:54.590Z"
   },
   {
    "duration": 31,
    "start_time": "2024-03-26T09:26:03.666Z"
   },
   {
    "duration": 11,
    "start_time": "2024-03-26T09:27:11.934Z"
   },
   {
    "duration": 11,
    "start_time": "2024-03-26T09:27:41.427Z"
   },
   {
    "duration": 32,
    "start_time": "2024-03-26T09:28:09.554Z"
   },
   {
    "duration": 10,
    "start_time": "2024-03-26T09:28:14.225Z"
   },
   {
    "duration": 32,
    "start_time": "2024-03-26T09:30:50.511Z"
   },
   {
    "duration": 11,
    "start_time": "2024-03-26T09:30:54.643Z"
   },
   {
    "duration": 10,
    "start_time": "2024-03-26T09:30:58.830Z"
   },
   {
    "duration": 52,
    "start_time": "2024-03-26T12:42:25.104Z"
   },
   {
    "duration": 42,
    "start_time": "2024-03-26T12:42:28.345Z"
   },
   {
    "duration": 1766,
    "start_time": "2024-03-26T12:42:34.921Z"
   },
   {
    "duration": 123,
    "start_time": "2024-03-26T12:42:39.011Z"
   },
   {
    "duration": 11,
    "start_time": "2024-03-26T12:42:42.376Z"
   },
   {
    "duration": 82,
    "start_time": "2024-03-26T12:42:54.832Z"
   },
   {
    "duration": 301,
    "start_time": "2024-03-26T12:46:04.461Z"
   },
   {
    "duration": 107,
    "start_time": "2024-03-26T12:46:17.599Z"
   },
   {
    "duration": 6,
    "start_time": "2024-03-26T12:46:19.665Z"
   },
   {
    "duration": 9,
    "start_time": "2024-03-26T12:46:36.048Z"
   },
   {
    "duration": 94,
    "start_time": "2024-03-26T12:50:26.863Z"
   },
   {
    "duration": 96,
    "start_time": "2024-03-26T12:50:31.326Z"
   },
   {
    "duration": 10,
    "start_time": "2024-03-26T12:50:33.108Z"
   },
   {
    "duration": 9,
    "start_time": "2024-03-26T12:50:40.573Z"
   },
   {
    "duration": 91,
    "start_time": "2024-03-26T12:51:46.177Z"
   },
   {
    "duration": 89,
    "start_time": "2024-03-26T12:51:52.068Z"
   },
   {
    "duration": 13,
    "start_time": "2024-03-26T12:51:52.795Z"
   },
   {
    "duration": 91,
    "start_time": "2024-03-26T12:52:26.945Z"
   },
   {
    "duration": 9,
    "start_time": "2024-03-26T12:52:33.275Z"
   },
   {
    "duration": 93,
    "start_time": "2024-03-26T12:53:47.632Z"
   },
   {
    "duration": 9,
    "start_time": "2024-03-26T12:53:49.433Z"
   },
   {
    "duration": 91,
    "start_time": "2024-03-26T12:54:46.808Z"
   },
   {
    "duration": 100,
    "start_time": "2024-03-26T12:54:59.911Z"
   },
   {
    "duration": 9,
    "start_time": "2024-03-26T12:55:02.648Z"
   },
   {
    "duration": 9,
    "start_time": "2024-03-26T12:55:42.314Z"
   },
   {
    "duration": 96,
    "start_time": "2024-03-26T12:56:01.523Z"
   },
   {
    "duration": 10,
    "start_time": "2024-03-26T12:56:04.700Z"
   },
   {
    "duration": 10,
    "start_time": "2024-03-26T12:56:17.560Z"
   },
   {
    "duration": 92,
    "start_time": "2024-03-26T12:56:40.076Z"
   },
   {
    "duration": 10,
    "start_time": "2024-03-26T12:56:42.262Z"
   },
   {
    "duration": 8,
    "start_time": "2024-03-26T12:56:54.981Z"
   },
   {
    "duration": 94,
    "start_time": "2024-03-26T12:57:05.582Z"
   },
   {
    "duration": 15,
    "start_time": "2024-03-26T12:57:07.401Z"
   },
   {
    "duration": 7,
    "start_time": "2024-03-26T12:57:25.681Z"
   },
   {
    "duration": 21,
    "start_time": "2024-03-26T12:57:49.437Z"
   },
   {
    "duration": 13,
    "start_time": "2024-03-26T12:59:10.660Z"
   },
   {
    "duration": 11,
    "start_time": "2024-03-26T13:00:02.718Z"
   },
   {
    "duration": 11,
    "start_time": "2024-03-26T13:00:08.716Z"
   },
   {
    "duration": 99,
    "start_time": "2024-03-26T13:00:38.460Z"
   },
   {
    "duration": 12,
    "start_time": "2024-03-26T13:00:45.692Z"
   },
   {
    "duration": 90,
    "start_time": "2024-03-26T13:04:06.767Z"
   },
   {
    "duration": 20,
    "start_time": "2024-03-26T13:04:09.247Z"
   },
   {
    "duration": 16,
    "start_time": "2024-03-26T13:04:16.567Z"
   },
   {
    "duration": 10,
    "start_time": "2024-03-26T13:04:19.278Z"
   },
   {
    "duration": 17,
    "start_time": "2024-03-26T13:36:47.499Z"
   },
   {
    "duration": 7,
    "start_time": "2024-03-26T13:37:29.826Z"
   },
   {
    "duration": 16,
    "start_time": "2024-03-26T13:37:53.793Z"
   },
   {
    "duration": 18,
    "start_time": "2024-03-26T13:38:26.583Z"
   },
   {
    "duration": 15,
    "start_time": "2024-03-26T13:38:38.783Z"
   },
   {
    "duration": 8,
    "start_time": "2024-03-26T13:39:24.434Z"
   },
   {
    "duration": 19,
    "start_time": "2024-03-26T13:39:43.489Z"
   },
   {
    "duration": 12,
    "start_time": "2024-03-26T13:39:54.234Z"
   },
   {
    "duration": 10,
    "start_time": "2024-03-26T13:39:56.717Z"
   },
   {
    "duration": 9,
    "start_time": "2024-03-26T13:40:00.237Z"
   },
   {
    "duration": 23,
    "start_time": "2024-03-26T13:40:13.437Z"
   },
   {
    "duration": 9,
    "start_time": "2024-03-26T13:40:17.868Z"
   },
   {
    "duration": 8,
    "start_time": "2024-03-26T13:40:21.815Z"
   },
   {
    "duration": 22,
    "start_time": "2024-03-26T13:41:12.728Z"
   },
   {
    "duration": 19,
    "start_time": "2024-03-26T13:41:15.739Z"
   },
   {
    "duration": 8,
    "start_time": "2024-03-26T13:41:22.224Z"
   },
   {
    "duration": 12,
    "start_time": "2024-03-26T13:41:56.474Z"
   },
   {
    "duration": 20,
    "start_time": "2024-03-26T13:42:20.420Z"
   },
   {
    "duration": 14,
    "start_time": "2024-03-26T13:42:44.273Z"
   },
   {
    "duration": 21,
    "start_time": "2024-03-26T13:42:58.216Z"
   },
   {
    "duration": 19,
    "start_time": "2024-03-26T13:44:32.634Z"
   },
   {
    "duration": 12,
    "start_time": "2024-03-26T13:48:27.287Z"
   },
   {
    "duration": 7,
    "start_time": "2024-03-26T13:48:31.443Z"
   },
   {
    "duration": 91,
    "start_time": "2024-03-26T13:48:46.011Z"
   },
   {
    "duration": 17,
    "start_time": "2024-03-26T13:48:48.185Z"
   },
   {
    "duration": 11,
    "start_time": "2024-03-26T13:48:50.884Z"
   },
   {
    "duration": 11,
    "start_time": "2024-03-26T13:48:54.845Z"
   },
   {
    "duration": 7,
    "start_time": "2024-03-26T13:49:00.001Z"
   },
   {
    "duration": 10,
    "start_time": "2024-03-26T13:50:11.308Z"
   },
   {
    "duration": 5,
    "start_time": "2024-03-26T13:50:16.171Z"
   },
   {
    "duration": 48,
    "start_time": "2024-03-26T13:50:17.938Z"
   },
   {
    "duration": 7,
    "start_time": "2024-03-26T13:52:59.815Z"
   },
   {
    "duration": 47,
    "start_time": "2024-03-26T13:53:06.966Z"
   },
   {
    "duration": 14,
    "start_time": "2024-03-26T13:54:14.698Z"
   },
   {
    "duration": 93,
    "start_time": "2024-03-26T13:54:17.177Z"
   },
   {
    "duration": 6,
    "start_time": "2024-03-26T13:54:21.032Z"
   },
   {
    "duration": 13,
    "start_time": "2024-03-26T13:55:04.921Z"
   },
   {
    "duration": 4,
    "start_time": "2024-03-26T13:55:10.240Z"
   },
   {
    "duration": 65,
    "start_time": "2024-03-26T13:55:12.471Z"
   },
   {
    "duration": 1617,
    "start_time": "2024-03-26T13:56:03.401Z"
   },
   {
    "duration": 94,
    "start_time": "2024-03-26T13:56:05.020Z"
   },
   {
    "duration": 32,
    "start_time": "2024-03-26T13:56:05.116Z"
   },
   {
    "duration": 21,
    "start_time": "2024-03-26T13:56:05.149Z"
   },
   {
    "duration": 11,
    "start_time": "2024-03-26T13:56:05.173Z"
   },
   {
    "duration": 23,
    "start_time": "2024-03-26T13:56:05.185Z"
   },
   {
    "duration": 10,
    "start_time": "2024-03-26T13:56:05.210Z"
   },
   {
    "duration": 77,
    "start_time": "2024-03-26T13:56:05.222Z"
   },
   {
    "duration": 14,
    "start_time": "2024-03-26T13:56:10.267Z"
   },
   {
    "duration": 90,
    "start_time": "2024-03-26T13:56:12.061Z"
   },
   {
    "duration": 25,
    "start_time": "2024-03-26T13:56:15.401Z"
   },
   {
    "duration": 11,
    "start_time": "2024-03-26T13:56:19.564Z"
   },
   {
    "duration": 13,
    "start_time": "2024-03-26T13:56:20.122Z"
   },
   {
    "duration": 10,
    "start_time": "2024-03-26T13:56:20.672Z"
   },
   {
    "duration": 5,
    "start_time": "2024-03-26T13:56:22.779Z"
   },
   {
    "duration": 14,
    "start_time": "2024-03-26T13:57:50.715Z"
   },
   {
    "duration": 6,
    "start_time": "2024-03-26T13:57:55.256Z"
   },
   {
    "duration": 76,
    "start_time": "2024-03-26T13:58:01.159Z"
   },
   {
    "duration": 45,
    "start_time": "2024-03-26T13:58:22.563Z"
   },
   {
    "duration": 1582,
    "start_time": "2024-03-26T14:00:16.684Z"
   },
   {
    "duration": 92,
    "start_time": "2024-03-26T14:00:18.268Z"
   },
   {
    "duration": 49,
    "start_time": "2024-03-26T14:00:18.362Z"
   },
   {
    "duration": 20,
    "start_time": "2024-03-26T14:00:18.413Z"
   },
   {
    "duration": 37,
    "start_time": "2024-03-26T14:00:18.435Z"
   },
   {
    "duration": 24,
    "start_time": "2024-03-26T14:00:18.474Z"
   },
   {
    "duration": 15,
    "start_time": "2024-03-26T14:00:18.499Z"
   },
   {
    "duration": 79,
    "start_time": "2024-03-26T14:00:18.516Z"
   },
   {
    "duration": 20,
    "start_time": "2024-03-26T14:00:21.396Z"
   },
   {
    "duration": 92,
    "start_time": "2024-03-26T14:00:22.101Z"
   },
   {
    "duration": 47,
    "start_time": "2024-03-26T14:00:24.501Z"
   },
   {
    "duration": 21,
    "start_time": "2024-03-26T14:00:31.897Z"
   },
   {
    "duration": 21,
    "start_time": "2024-03-26T14:00:45.544Z"
   },
   {
    "duration": 19,
    "start_time": "2024-03-26T14:00:52.819Z"
   },
   {
    "duration": 5,
    "start_time": "2024-03-26T14:00:58.323Z"
   },
   {
    "duration": 66,
    "start_time": "2024-03-26T14:01:00.922Z"
   },
   {
    "duration": 73,
    "start_time": "2024-03-26T14:02:06.039Z"
   },
   {
    "duration": 32,
    "start_time": "2024-03-26T14:02:28.357Z"
   },
   {
    "duration": 34,
    "start_time": "2024-03-26T14:02:52.563Z"
   },
   {
    "duration": 37,
    "start_time": "2024-03-26T14:03:19.155Z"
   },
   {
    "duration": 3,
    "start_time": "2024-03-26T14:07:10.221Z"
   },
   {
    "duration": 17,
    "start_time": "2024-03-26T14:07:33.084Z"
   },
   {
    "duration": 6,
    "start_time": "2024-03-26T14:16:57.331Z"
   },
   {
    "duration": 4,
    "start_time": "2024-03-26T14:17:42.503Z"
   },
   {
    "duration": 14,
    "start_time": "2024-03-26T14:17:56.919Z"
   },
   {
    "duration": 7,
    "start_time": "2024-03-26T14:18:34.496Z"
   },
   {
    "duration": 52,
    "start_time": "2024-03-26T14:22:03.899Z"
   },
   {
    "duration": 22,
    "start_time": "2024-03-26T14:22:23.713Z"
   },
   {
    "duration": 38,
    "start_time": "2024-03-26T14:22:38.689Z"
   },
   {
    "duration": 42,
    "start_time": "2024-03-26T14:22:58.155Z"
   },
   {
    "duration": 1488,
    "start_time": "2024-03-26T14:55:17.103Z"
   },
   {
    "duration": 11,
    "start_time": "2024-03-26T15:04:37.212Z"
   },
   {
    "duration": 50,
    "start_time": "2024-03-26T15:05:08.918Z"
   },
   {
    "duration": 8,
    "start_time": "2024-03-26T15:17:45.634Z"
   },
   {
    "duration": 28,
    "start_time": "2024-03-26T15:18:18.385Z"
   },
   {
    "duration": 8,
    "start_time": "2024-03-26T15:19:04.447Z"
   },
   {
    "duration": 23,
    "start_time": "2024-03-26T15:19:06.629Z"
   },
   {
    "duration": 7,
    "start_time": "2024-03-26T15:21:17.479Z"
   },
   {
    "duration": 8,
    "start_time": "2024-03-26T15:37:32.800Z"
   },
   {
    "duration": 1649,
    "start_time": "2024-03-26T15:38:29.460Z"
   },
   {
    "duration": 97,
    "start_time": "2024-03-26T15:38:31.111Z"
   },
   {
    "duration": 199,
    "start_time": "2024-03-26T15:38:31.210Z"
   },
   {
    "duration": 68,
    "start_time": "2024-03-26T15:38:31.411Z"
   },
   {
    "duration": 105,
    "start_time": "2024-03-26T15:38:31.481Z"
   },
   {
    "duration": 42,
    "start_time": "2024-03-26T15:38:31.588Z"
   },
   {
    "duration": 20,
    "start_time": "2024-03-26T15:38:31.631Z"
   },
   {
    "duration": 98,
    "start_time": "2024-03-26T15:38:31.652Z"
   },
   {
    "duration": 5,
    "start_time": "2024-03-26T15:38:31.752Z"
   },
   {
    "duration": 63,
    "start_time": "2024-03-26T15:38:31.759Z"
   },
   {
    "duration": 8,
    "start_time": "2024-03-26T15:38:31.824Z"
   },
   {
    "duration": 61,
    "start_time": "2024-03-26T15:38:31.834Z"
   },
   {
    "duration": 36,
    "start_time": "2024-03-26T15:38:31.897Z"
   },
   {
    "duration": 3,
    "start_time": "2024-03-26T15:38:31.936Z"
   },
   {
    "duration": 31,
    "start_time": "2024-03-26T15:38:31.940Z"
   },
   {
    "duration": 17,
    "start_time": "2024-03-26T15:38:31.973Z"
   },
   {
    "duration": 1531,
    "start_time": "2024-03-26T15:38:31.992Z"
   },
   {
    "duration": 11,
    "start_time": "2024-03-26T15:38:33.524Z"
   },
   {
    "duration": 69,
    "start_time": "2024-03-26T15:38:33.537Z"
   },
   {
    "duration": 7,
    "start_time": "2024-03-26T15:38:33.608Z"
   },
   {
    "duration": 25,
    "start_time": "2024-03-26T15:38:33.617Z"
   },
   {
    "duration": 48,
    "start_time": "2024-03-26T15:38:33.644Z"
   },
   {
    "duration": 8,
    "start_time": "2024-03-26T15:38:33.694Z"
   },
   {
    "duration": 14,
    "start_time": "2024-03-26T15:38:36.016Z"
   },
   {
    "duration": 86,
    "start_time": "2024-03-26T15:38:36.912Z"
   },
   {
    "duration": 45,
    "start_time": "2024-03-26T15:38:39.624Z"
   },
   {
    "duration": 20,
    "start_time": "2024-03-26T15:38:40.573Z"
   },
   {
    "duration": 20,
    "start_time": "2024-03-26T15:38:41.489Z"
   },
   {
    "duration": 17,
    "start_time": "2024-03-26T15:38:42.430Z"
   },
   {
    "duration": 6,
    "start_time": "2024-03-26T15:38:45.122Z"
   },
   {
    "duration": 68,
    "start_time": "2024-03-26T15:38:46.436Z"
   },
   {
    "duration": 4,
    "start_time": "2024-03-26T15:38:47.701Z"
   },
   {
    "duration": 30,
    "start_time": "2024-03-26T15:38:48.563Z"
   },
   {
    "duration": 4,
    "start_time": "2024-03-26T15:38:50.395Z"
   },
   {
    "duration": 34,
    "start_time": "2024-03-26T15:38:51.870Z"
   },
   {
    "duration": 31,
    "start_time": "2024-03-26T15:38:52.938Z"
   },
   {
    "duration": 3,
    "start_time": "2024-03-26T15:38:54.049Z"
   },
   {
    "duration": 14,
    "start_time": "2024-03-26T15:38:55.251Z"
   },
   {
    "duration": 6,
    "start_time": "2024-03-26T15:38:56.963Z"
   },
   {
    "duration": 1546,
    "start_time": "2024-03-26T15:38:58.875Z"
   },
   {
    "duration": 10,
    "start_time": "2024-03-26T15:39:04.097Z"
   },
   {
    "duration": 50,
    "start_time": "2024-03-26T15:39:05.068Z"
   },
   {
    "duration": 7,
    "start_time": "2024-03-26T15:39:14.980Z"
   },
   {
    "duration": 7,
    "start_time": "2024-03-26T15:39:20.966Z"
   },
   {
    "duration": 7,
    "start_time": "2024-03-26T15:40:18.341Z"
   },
   {
    "duration": 7,
    "start_time": "2024-03-26T15:40:44.200Z"
   },
   {
    "duration": 7,
    "start_time": "2024-03-26T15:40:46.267Z"
   },
   {
    "duration": 88,
    "start_time": "2024-03-26T15:47:19.111Z"
   },
   {
    "duration": 82,
    "start_time": "2024-03-26T15:48:08.813Z"
   },
   {
    "duration": 88,
    "start_time": "2024-03-26T15:48:41.704Z"
   },
   {
    "duration": 3829,
    "start_time": "2024-03-26T16:02:58.904Z"
   },
   {
    "duration": 310,
    "start_time": "2024-03-26T16:17:17.384Z"
   },
   {
    "duration": 1037,
    "start_time": "2024-03-26T16:50:48.901Z"
   },
   {
    "duration": 854,
    "start_time": "2024-03-26T16:52:13.118Z"
   },
   {
    "duration": 762,
    "start_time": "2024-03-26T16:52:27.836Z"
   },
   {
    "duration": 415,
    "start_time": "2024-03-26T16:53:36.524Z"
   },
   {
    "duration": 1004,
    "start_time": "2024-03-26T16:55:00.798Z"
   },
   {
    "duration": 23,
    "start_time": "2024-03-26T16:59:40.945Z"
   },
   {
    "duration": 15,
    "start_time": "2024-03-26T17:02:24.612Z"
   },
   {
    "duration": 10,
    "start_time": "2024-03-26T17:02:43.794Z"
   },
   {
    "duration": 38,
    "start_time": "2024-03-26T17:02:50.961Z"
   },
   {
    "duration": 25,
    "start_time": "2024-03-26T17:03:09.180Z"
   },
   {
    "duration": 40,
    "start_time": "2024-03-26T17:41:13.817Z"
   },
   {
    "duration": 22,
    "start_time": "2024-03-26T17:41:57.120Z"
   },
   {
    "duration": 6855,
    "start_time": "2024-03-26T17:42:51.416Z"
   },
   {
    "duration": 1736,
    "start_time": "2024-03-26T17:43:09.004Z"
   },
   {
    "duration": 3540,
    "start_time": "2024-03-26T17:50:31.495Z"
   },
   {
    "duration": 21,
    "start_time": "2024-03-26T17:50:56.368Z"
   },
   {
    "duration": 17,
    "start_time": "2024-03-26T17:51:10.526Z"
   },
   {
    "duration": 17,
    "start_time": "2024-03-26T17:51:48.260Z"
   },
   {
    "duration": 4223,
    "start_time": "2024-03-26T17:54:38.436Z"
   },
   {
    "duration": 0,
    "start_time": "2024-03-26T17:54:42.663Z"
   },
   {
    "duration": 0,
    "start_time": "2024-03-26T17:54:42.664Z"
   },
   {
    "duration": 0,
    "start_time": "2024-03-26T17:54:42.665Z"
   },
   {
    "duration": 0,
    "start_time": "2024-03-26T17:54:42.666Z"
   },
   {
    "duration": 0,
    "start_time": "2024-03-26T17:54:42.668Z"
   },
   {
    "duration": 0,
    "start_time": "2024-03-26T17:54:42.669Z"
   },
   {
    "duration": 0,
    "start_time": "2024-03-26T17:54:42.670Z"
   },
   {
    "duration": 0,
    "start_time": "2024-03-26T17:54:42.672Z"
   },
   {
    "duration": 0,
    "start_time": "2024-03-26T17:54:42.673Z"
   },
   {
    "duration": 0,
    "start_time": "2024-03-26T17:54:42.674Z"
   },
   {
    "duration": 0,
    "start_time": "2024-03-26T17:54:42.692Z"
   },
   {
    "duration": 0,
    "start_time": "2024-03-26T17:54:42.693Z"
   },
   {
    "duration": 0,
    "start_time": "2024-03-26T17:54:42.695Z"
   },
   {
    "duration": 0,
    "start_time": "2024-03-26T17:54:42.697Z"
   },
   {
    "duration": 0,
    "start_time": "2024-03-26T17:54:42.697Z"
   },
   {
    "duration": 0,
    "start_time": "2024-03-26T17:54:42.699Z"
   },
   {
    "duration": 0,
    "start_time": "2024-03-26T17:54:42.700Z"
   },
   {
    "duration": 0,
    "start_time": "2024-03-26T17:54:42.701Z"
   },
   {
    "duration": 0,
    "start_time": "2024-03-26T17:54:42.702Z"
   },
   {
    "duration": 0,
    "start_time": "2024-03-26T17:54:42.703Z"
   },
   {
    "duration": 0,
    "start_time": "2024-03-26T17:54:42.705Z"
   },
   {
    "duration": 0,
    "start_time": "2024-03-26T17:54:42.706Z"
   },
   {
    "duration": 0,
    "start_time": "2024-03-26T17:54:42.708Z"
   },
   {
    "duration": 0,
    "start_time": "2024-03-26T17:54:42.709Z"
   },
   {
    "duration": 0,
    "start_time": "2024-03-26T17:54:42.710Z"
   },
   {
    "duration": 0,
    "start_time": "2024-03-26T17:54:42.712Z"
   },
   {
    "duration": 0,
    "start_time": "2024-03-26T17:54:42.713Z"
   },
   {
    "duration": 0,
    "start_time": "2024-03-26T17:54:42.715Z"
   },
   {
    "duration": 0,
    "start_time": "2024-03-26T17:54:42.716Z"
   },
   {
    "duration": 0,
    "start_time": "2024-03-26T17:54:42.719Z"
   },
   {
    "duration": 11,
    "start_time": "2024-03-26T17:54:47.518Z"
   },
   {
    "duration": 2753,
    "start_time": "2024-03-26T17:55:03.543Z"
   },
   {
    "duration": 0,
    "start_time": "2024-03-26T17:55:06.298Z"
   },
   {
    "duration": 0,
    "start_time": "2024-03-26T17:55:06.299Z"
   },
   {
    "duration": 0,
    "start_time": "2024-03-26T17:55:06.300Z"
   },
   {
    "duration": 0,
    "start_time": "2024-03-26T17:55:06.302Z"
   },
   {
    "duration": 0,
    "start_time": "2024-03-26T17:55:06.304Z"
   },
   {
    "duration": 0,
    "start_time": "2024-03-26T17:55:06.305Z"
   },
   {
    "duration": 0,
    "start_time": "2024-03-26T17:55:06.308Z"
   },
   {
    "duration": 0,
    "start_time": "2024-03-26T17:55:06.309Z"
   },
   {
    "duration": 0,
    "start_time": "2024-03-26T17:55:06.311Z"
   },
   {
    "duration": 1,
    "start_time": "2024-03-26T17:55:06.312Z"
   },
   {
    "duration": 0,
    "start_time": "2024-03-26T17:55:06.315Z"
   },
   {
    "duration": 0,
    "start_time": "2024-03-26T17:55:06.316Z"
   },
   {
    "duration": 0,
    "start_time": "2024-03-26T17:55:06.317Z"
   },
   {
    "duration": 0,
    "start_time": "2024-03-26T17:55:06.318Z"
   },
   {
    "duration": 0,
    "start_time": "2024-03-26T17:55:06.320Z"
   },
   {
    "duration": 0,
    "start_time": "2024-03-26T17:55:06.321Z"
   },
   {
    "duration": 0,
    "start_time": "2024-03-26T17:55:06.323Z"
   },
   {
    "duration": 0,
    "start_time": "2024-03-26T17:55:06.324Z"
   },
   {
    "duration": 0,
    "start_time": "2024-03-26T17:55:06.325Z"
   },
   {
    "duration": 0,
    "start_time": "2024-03-26T17:55:06.326Z"
   },
   {
    "duration": 0,
    "start_time": "2024-03-26T17:55:06.328Z"
   },
   {
    "duration": 0,
    "start_time": "2024-03-26T17:55:06.329Z"
   },
   {
    "duration": 0,
    "start_time": "2024-03-26T17:55:06.330Z"
   },
   {
    "duration": 0,
    "start_time": "2024-03-26T17:55:06.332Z"
   },
   {
    "duration": 0,
    "start_time": "2024-03-26T17:55:06.334Z"
   },
   {
    "duration": 0,
    "start_time": "2024-03-26T17:55:06.335Z"
   },
   {
    "duration": 0,
    "start_time": "2024-03-26T17:55:06.391Z"
   },
   {
    "duration": 0,
    "start_time": "2024-03-26T17:55:06.393Z"
   },
   {
    "duration": 0,
    "start_time": "2024-03-26T17:55:06.395Z"
   },
   {
    "duration": 0,
    "start_time": "2024-03-26T17:55:06.396Z"
   },
   {
    "duration": 14,
    "start_time": "2024-03-26T17:55:09.307Z"
   },
   {
    "duration": 4285,
    "start_time": "2024-03-26T17:55:31.717Z"
   },
   {
    "duration": 0,
    "start_time": "2024-03-26T17:55:36.006Z"
   },
   {
    "duration": 0,
    "start_time": "2024-03-26T17:55:36.008Z"
   },
   {
    "duration": 0,
    "start_time": "2024-03-26T17:55:36.009Z"
   },
   {
    "duration": 0,
    "start_time": "2024-03-26T17:55:36.011Z"
   },
   {
    "duration": 0,
    "start_time": "2024-03-26T17:55:36.013Z"
   },
   {
    "duration": 0,
    "start_time": "2024-03-26T17:55:36.014Z"
   },
   {
    "duration": 0,
    "start_time": "2024-03-26T17:55:36.016Z"
   },
   {
    "duration": 0,
    "start_time": "2024-03-26T17:55:36.018Z"
   },
   {
    "duration": 0,
    "start_time": "2024-03-26T17:55:36.020Z"
   },
   {
    "duration": 0,
    "start_time": "2024-03-26T17:55:36.021Z"
   },
   {
    "duration": 0,
    "start_time": "2024-03-26T17:55:36.023Z"
   },
   {
    "duration": 0,
    "start_time": "2024-03-26T17:55:36.025Z"
   },
   {
    "duration": 0,
    "start_time": "2024-03-26T17:55:36.026Z"
   },
   {
    "duration": 0,
    "start_time": "2024-03-26T17:55:36.028Z"
   },
   {
    "duration": 0,
    "start_time": "2024-03-26T17:55:36.030Z"
   },
   {
    "duration": 0,
    "start_time": "2024-03-26T17:55:36.031Z"
   },
   {
    "duration": 0,
    "start_time": "2024-03-26T17:55:36.033Z"
   },
   {
    "duration": 0,
    "start_time": "2024-03-26T17:55:36.035Z"
   },
   {
    "duration": 0,
    "start_time": "2024-03-26T17:55:36.036Z"
   },
   {
    "duration": 1,
    "start_time": "2024-03-26T17:55:36.037Z"
   },
   {
    "duration": 0,
    "start_time": "2024-03-26T17:55:36.038Z"
   },
   {
    "duration": 0,
    "start_time": "2024-03-26T17:55:36.040Z"
   },
   {
    "duration": 0,
    "start_time": "2024-03-26T17:55:36.041Z"
   },
   {
    "duration": 1,
    "start_time": "2024-03-26T17:55:36.091Z"
   },
   {
    "duration": 0,
    "start_time": "2024-03-26T17:55:36.093Z"
   },
   {
    "duration": 0,
    "start_time": "2024-03-26T17:55:36.094Z"
   },
   {
    "duration": 0,
    "start_time": "2024-03-26T17:55:36.095Z"
   },
   {
    "duration": 0,
    "start_time": "2024-03-26T17:55:36.096Z"
   },
   {
    "duration": 0,
    "start_time": "2024-03-26T17:55:36.098Z"
   },
   {
    "duration": 0,
    "start_time": "2024-03-26T17:55:36.099Z"
   },
   {
    "duration": 2860,
    "start_time": "2024-03-26T17:55:56.617Z"
   },
   {
    "duration": 0,
    "start_time": "2024-03-26T17:55:59.479Z"
   },
   {
    "duration": 0,
    "start_time": "2024-03-26T17:55:59.481Z"
   },
   {
    "duration": 0,
    "start_time": "2024-03-26T17:55:59.482Z"
   },
   {
    "duration": 0,
    "start_time": "2024-03-26T17:55:59.483Z"
   },
   {
    "duration": 0,
    "start_time": "2024-03-26T17:55:59.484Z"
   },
   {
    "duration": 0,
    "start_time": "2024-03-26T17:55:59.486Z"
   },
   {
    "duration": 0,
    "start_time": "2024-03-26T17:55:59.487Z"
   },
   {
    "duration": 0,
    "start_time": "2024-03-26T17:55:59.488Z"
   },
   {
    "duration": 0,
    "start_time": "2024-03-26T17:55:59.489Z"
   },
   {
    "duration": 0,
    "start_time": "2024-03-26T17:55:59.490Z"
   },
   {
    "duration": 0,
    "start_time": "2024-03-26T17:55:59.491Z"
   },
   {
    "duration": 0,
    "start_time": "2024-03-26T17:55:59.493Z"
   },
   {
    "duration": 0,
    "start_time": "2024-03-26T17:55:59.494Z"
   },
   {
    "duration": 0,
    "start_time": "2024-03-26T17:55:59.495Z"
   },
   {
    "duration": 0,
    "start_time": "2024-03-26T17:55:59.496Z"
   },
   {
    "duration": 0,
    "start_time": "2024-03-26T17:55:59.498Z"
   },
   {
    "duration": 0,
    "start_time": "2024-03-26T17:55:59.499Z"
   },
   {
    "duration": 0,
    "start_time": "2024-03-26T17:55:59.501Z"
   },
   {
    "duration": 0,
    "start_time": "2024-03-26T17:55:59.502Z"
   },
   {
    "duration": 0,
    "start_time": "2024-03-26T17:55:59.503Z"
   },
   {
    "duration": 0,
    "start_time": "2024-03-26T17:55:59.504Z"
   },
   {
    "duration": 0,
    "start_time": "2024-03-26T17:55:59.505Z"
   },
   {
    "duration": 0,
    "start_time": "2024-03-26T17:55:59.506Z"
   },
   {
    "duration": 0,
    "start_time": "2024-03-26T17:55:59.507Z"
   },
   {
    "duration": 0,
    "start_time": "2024-03-26T17:55:59.508Z"
   },
   {
    "duration": 0,
    "start_time": "2024-03-26T17:55:59.509Z"
   },
   {
    "duration": 1,
    "start_time": "2024-03-26T17:55:59.510Z"
   },
   {
    "duration": 0,
    "start_time": "2024-03-26T17:55:59.512Z"
   },
   {
    "duration": 12,
    "start_time": "2024-03-26T17:56:05.401Z"
   },
   {
    "duration": 2815,
    "start_time": "2024-03-26T17:56:14.401Z"
   },
   {
    "duration": 0,
    "start_time": "2024-03-26T17:56:17.218Z"
   },
   {
    "duration": 12,
    "start_time": "2024-03-26T17:56:18.239Z"
   },
   {
    "duration": 8654,
    "start_time": "2024-03-26T17:59:03.517Z"
   },
   {
    "duration": 88,
    "start_time": "2024-03-26T17:59:12.174Z"
   },
   {
    "duration": 48,
    "start_time": "2024-03-26T17:59:12.264Z"
   },
   {
    "duration": 31,
    "start_time": "2024-03-26T17:59:13.313Z"
   },
   {
    "duration": 21,
    "start_time": "2024-03-26T17:59:14.372Z"
   },
   {
    "duration": 19,
    "start_time": "2024-03-26T17:59:15.013Z"
   },
   {
    "duration": 4,
    "start_time": "2024-03-26T17:59:16.980Z"
   },
   {
    "duration": 68,
    "start_time": "2024-03-26T17:59:17.658Z"
   },
   {
    "duration": 5,
    "start_time": "2024-03-26T17:59:18.251Z"
   },
   {
    "duration": 43,
    "start_time": "2024-03-26T17:59:19.045Z"
   },
   {
    "duration": 5,
    "start_time": "2024-03-26T17:59:19.607Z"
   },
   {
    "duration": 32,
    "start_time": "2024-03-26T17:59:20.222Z"
   },
   {
    "duration": 33,
    "start_time": "2024-03-26T17:59:20.988Z"
   },
   {
    "duration": 3,
    "start_time": "2024-03-26T17:59:21.597Z"
   },
   {
    "duration": 14,
    "start_time": "2024-03-26T17:59:22.284Z"
   },
   {
    "duration": 7,
    "start_time": "2024-03-26T17:59:22.897Z"
   },
   {
    "duration": 1534,
    "start_time": "2024-03-26T17:59:23.532Z"
   },
   {
    "duration": 11,
    "start_time": "2024-03-26T17:59:25.519Z"
   },
   {
    "duration": 52,
    "start_time": "2024-03-26T17:59:26.271Z"
   },
   {
    "duration": 7,
    "start_time": "2024-03-26T17:59:27.697Z"
   },
   {
    "duration": 25,
    "start_time": "2024-03-26T17:59:28.540Z"
   },
   {
    "duration": 7,
    "start_time": "2024-03-26T17:59:31.324Z"
   },
   {
    "duration": 9,
    "start_time": "2024-03-26T17:59:31.839Z"
   },
   {
    "duration": 89,
    "start_time": "2024-03-26T17:59:33.269Z"
   },
   {
    "duration": 1038,
    "start_time": "2024-03-26T17:59:35.577Z"
   },
   {
    "duration": 23,
    "start_time": "2024-03-26T17:59:38.841Z"
   },
   {
    "duration": 18,
    "start_time": "2024-03-26T17:59:39.947Z"
   },
   {
    "duration": 10,
    "start_time": "2024-03-26T17:59:40.802Z"
   },
   {
    "duration": 36,
    "start_time": "2024-03-26T17:59:42.158Z"
   },
   {
    "duration": 25,
    "start_time": "2024-03-26T17:59:43.005Z"
   },
   {
    "duration": 3334,
    "start_time": "2024-03-26T17:59:45.342Z"
   },
   {
    "duration": 3251,
    "start_time": "2024-03-26T18:17:58.620Z"
   },
   {
    "duration": 8,
    "start_time": "2024-03-26T18:18:15.993Z"
   },
   {
    "duration": 63,
    "start_time": "2024-03-27T04:27:54.751Z"
   },
   {
    "duration": 10031,
    "start_time": "2024-03-27T04:28:07.221Z"
   },
   {
    "duration": 356,
    "start_time": "2024-03-27T04:28:17.254Z"
   },
   {
    "duration": 46,
    "start_time": "2024-03-27T04:28:17.611Z"
   },
   {
    "duration": 18,
    "start_time": "2024-03-27T04:28:17.659Z"
   },
   {
    "duration": 28,
    "start_time": "2024-03-27T04:28:17.679Z"
   },
   {
    "duration": 26,
    "start_time": "2024-03-27T04:28:17.708Z"
   },
   {
    "duration": 19,
    "start_time": "2024-03-27T04:28:17.736Z"
   },
   {
    "duration": 70,
    "start_time": "2024-03-27T04:28:17.757Z"
   },
   {
    "duration": 4,
    "start_time": "2024-03-27T04:28:17.829Z"
   },
   {
    "duration": 48,
    "start_time": "2024-03-27T04:28:17.836Z"
   },
   {
    "duration": 4,
    "start_time": "2024-03-27T04:28:17.886Z"
   },
   {
    "duration": 51,
    "start_time": "2024-03-27T04:28:17.894Z"
   },
   {
    "duration": 29,
    "start_time": "2024-03-27T04:28:17.946Z"
   },
   {
    "duration": 2,
    "start_time": "2024-03-27T04:28:17.977Z"
   },
   {
    "duration": 43,
    "start_time": "2024-03-27T04:28:17.981Z"
   },
   {
    "duration": 9,
    "start_time": "2024-03-27T04:28:18.200Z"
   },
   {
    "duration": 1411,
    "start_time": "2024-03-27T04:28:19.040Z"
   },
   {
    "duration": 10,
    "start_time": "2024-03-27T04:28:20.563Z"
   },
   {
    "duration": 49,
    "start_time": "2024-03-27T04:28:21.289Z"
   },
   {
    "duration": 6,
    "start_time": "2024-03-27T04:28:22.615Z"
   },
   {
    "duration": 23,
    "start_time": "2024-03-27T04:28:23.264Z"
   },
   {
    "duration": 6,
    "start_time": "2024-03-27T04:28:25.463Z"
   },
   {
    "duration": 7,
    "start_time": "2024-03-27T04:28:26.225Z"
   },
   {
    "duration": 78,
    "start_time": "2024-03-27T04:28:27.710Z"
   },
   {
    "duration": 927,
    "start_time": "2024-03-27T04:28:30.520Z"
   },
   {
    "duration": 20,
    "start_time": "2024-03-27T04:29:06.000Z"
   },
   {
    "duration": 13,
    "start_time": "2024-03-27T04:29:06.850Z"
   },
   {
    "duration": 9,
    "start_time": "2024-03-27T04:29:07.981Z"
   },
   {
    "duration": 35,
    "start_time": "2024-03-27T04:29:08.859Z"
   },
   {
    "duration": 22,
    "start_time": "2024-03-27T04:29:10.478Z"
   },
   {
    "duration": 3097,
    "start_time": "2024-03-27T04:29:12.429Z"
   },
   {
    "duration": 5,
    "start_time": "2024-03-27T04:29:15.795Z"
   },
   {
    "duration": 107,
    "start_time": "2024-03-27T04:29:25.919Z"
   },
   {
    "duration": 71,
    "start_time": "2024-03-27T04:29:35.782Z"
   },
   {
    "duration": 15,
    "start_time": "2024-03-27T04:35:15.538Z"
   },
   {
    "duration": 17,
    "start_time": "2024-03-27T04:35:58.965Z"
   },
   {
    "duration": 6757,
    "start_time": "2024-03-27T04:36:19.196Z"
   },
   {
    "duration": 89,
    "start_time": "2024-03-27T04:36:25.955Z"
   },
   {
    "duration": 47,
    "start_time": "2024-03-27T04:36:26.045Z"
   },
   {
    "duration": 18,
    "start_time": "2024-03-27T04:36:26.094Z"
   },
   {
    "duration": 20,
    "start_time": "2024-03-27T04:36:26.114Z"
   },
   {
    "duration": 23,
    "start_time": "2024-03-27T04:36:26.135Z"
   },
   {
    "duration": 8,
    "start_time": "2024-03-27T04:36:26.159Z"
   },
   {
    "duration": 83,
    "start_time": "2024-03-27T04:36:26.169Z"
   },
   {
    "duration": 9,
    "start_time": "2024-03-27T04:36:26.254Z"
   },
   {
    "duration": 59,
    "start_time": "2024-03-27T04:36:26.264Z"
   },
   {
    "duration": 4,
    "start_time": "2024-03-27T04:36:26.325Z"
   },
   {
    "duration": 42,
    "start_time": "2024-03-27T04:36:26.330Z"
   },
   {
    "duration": 36,
    "start_time": "2024-03-27T04:36:26.373Z"
   },
   {
    "duration": 3,
    "start_time": "2024-03-27T04:36:26.412Z"
   },
   {
    "duration": 15,
    "start_time": "2024-03-27T04:36:26.416Z"
   },
   {
    "duration": 6,
    "start_time": "2024-03-27T04:36:26.433Z"
   },
   {
    "duration": 1370,
    "start_time": "2024-03-27T04:36:26.441Z"
   },
   {
    "duration": 9,
    "start_time": "2024-03-27T04:36:27.813Z"
   },
   {
    "duration": 70,
    "start_time": "2024-03-27T04:36:27.823Z"
   },
   {
    "duration": 6,
    "start_time": "2024-03-27T04:36:27.895Z"
   },
   {
    "duration": 23,
    "start_time": "2024-03-27T04:36:27.903Z"
   },
   {
    "duration": 6,
    "start_time": "2024-03-27T04:36:27.927Z"
   },
   {
    "duration": 9,
    "start_time": "2024-03-27T04:36:27.935Z"
   },
   {
    "duration": 113,
    "start_time": "2024-03-27T04:36:27.946Z"
   },
   {
    "duration": 945,
    "start_time": "2024-03-27T04:36:28.060Z"
   },
   {
    "duration": 21,
    "start_time": "2024-03-27T04:36:29.007Z"
   },
   {
    "duration": 19,
    "start_time": "2024-03-27T04:36:29.030Z"
   },
   {
    "duration": 9,
    "start_time": "2024-03-27T04:36:29.050Z"
   },
   {
    "duration": 48,
    "start_time": "2024-03-27T04:36:29.061Z"
   },
   {
    "duration": 21,
    "start_time": "2024-03-27T04:36:29.111Z"
   },
   {
    "duration": 2914,
    "start_time": "2024-03-27T04:36:29.134Z"
   },
   {
    "duration": 5,
    "start_time": "2024-03-27T04:36:32.050Z"
   },
   {
    "duration": 166,
    "start_time": "2024-03-27T04:36:32.057Z"
   },
   {
    "duration": 0,
    "start_time": "2024-03-27T04:36:32.225Z"
   },
   {
    "duration": 0,
    "start_time": "2024-03-27T04:36:32.226Z"
   },
   {
    "duration": 0,
    "start_time": "2024-03-27T04:36:32.228Z"
   },
   {
    "duration": 0,
    "start_time": "2024-03-27T04:36:32.229Z"
   },
   {
    "duration": 0,
    "start_time": "2024-03-27T04:36:32.230Z"
   },
   {
    "duration": 0,
    "start_time": "2024-03-27T04:36:32.231Z"
   },
   {
    "duration": 0,
    "start_time": "2024-03-27T04:36:32.232Z"
   },
   {
    "duration": 6,
    "start_time": "2024-03-27T04:36:32.292Z"
   },
   {
    "duration": 76,
    "start_time": "2024-03-27T04:36:32.985Z"
   },
   {
    "duration": 4,
    "start_time": "2024-03-27T04:36:33.675Z"
   },
   {
    "duration": 36,
    "start_time": "2024-03-27T04:36:34.280Z"
   },
   {
    "duration": 1328,
    "start_time": "2024-03-27T04:36:34.968Z"
   },
   {
    "duration": 0,
    "start_time": "2024-03-27T04:36:36.298Z"
   },
   {
    "duration": 0,
    "start_time": "2024-03-27T04:36:36.299Z"
   },
   {
    "duration": 2,
    "start_time": "2024-03-27T04:36:36.941Z"
   },
   {
    "duration": 10,
    "start_time": "2024-03-27T04:36:38.060Z"
   },
   {
    "duration": 1336,
    "start_time": "2024-03-27T04:36:38.895Z"
   },
   {
    "duration": 0,
    "start_time": "2024-03-27T04:36:40.233Z"
   },
   {
    "duration": 1283,
    "start_time": "2024-03-27T04:36:40.966Z"
   },
   {
    "duration": 0,
    "start_time": "2024-03-27T04:36:42.251Z"
   },
   {
    "duration": 1279,
    "start_time": "2024-03-27T04:36:45.462Z"
   },
   {
    "duration": 0,
    "start_time": "2024-03-27T04:36:46.742Z"
   },
   {
    "duration": 4839,
    "start_time": "2024-03-27T04:37:10.957Z"
   },
   {
    "duration": 86,
    "start_time": "2024-03-27T04:37:15.799Z"
   },
   {
    "duration": 41,
    "start_time": "2024-03-27T04:37:15.887Z"
   },
   {
    "duration": 28,
    "start_time": "2024-03-27T04:37:15.930Z"
   },
   {
    "duration": 19,
    "start_time": "2024-03-27T04:37:15.960Z"
   },
   {
    "duration": 16,
    "start_time": "2024-03-27T04:37:16.937Z"
   },
   {
    "duration": 5,
    "start_time": "2024-03-27T04:37:21.096Z"
   },
   {
    "duration": 57,
    "start_time": "2024-03-27T04:37:21.898Z"
   },
   {
    "duration": 5,
    "start_time": "2024-03-27T04:37:23.191Z"
   },
   {
    "duration": 30,
    "start_time": "2024-03-27T04:37:23.868Z"
   },
   {
    "duration": 5,
    "start_time": "2024-03-27T04:37:25.092Z"
   },
   {
    "duration": 29,
    "start_time": "2024-03-27T04:37:26.939Z"
   },
   {
    "duration": 27,
    "start_time": "2024-03-27T04:37:27.866Z"
   },
   {
    "duration": 3,
    "start_time": "2024-03-27T04:37:28.647Z"
   },
   {
    "duration": 12,
    "start_time": "2024-03-27T04:37:29.488Z"
   },
   {
    "duration": 6,
    "start_time": "2024-03-27T04:37:30.340Z"
   },
   {
    "duration": 1353,
    "start_time": "2024-03-27T04:37:31.156Z"
   },
   {
    "duration": 8,
    "start_time": "2024-03-27T04:37:33.857Z"
   },
   {
    "duration": 44,
    "start_time": "2024-03-27T04:37:35.532Z"
   },
   {
    "duration": 7,
    "start_time": "2024-03-27T04:37:37.498Z"
   },
   {
    "duration": 20,
    "start_time": "2024-03-27T04:37:38.380Z"
   },
   {
    "duration": 6,
    "start_time": "2024-03-27T04:37:42.508Z"
   },
   {
    "duration": 7,
    "start_time": "2024-03-27T04:37:43.433Z"
   },
   {
    "duration": 74,
    "start_time": "2024-03-27T04:37:45.532Z"
   },
   {
    "duration": 882,
    "start_time": "2024-03-27T04:37:48.580Z"
   },
   {
    "duration": 18,
    "start_time": "2024-03-27T04:37:52.774Z"
   },
   {
    "duration": 15,
    "start_time": "2024-03-27T04:37:53.805Z"
   },
   {
    "duration": 9,
    "start_time": "2024-03-27T04:37:54.727Z"
   },
   {
    "duration": 30,
    "start_time": "2024-03-27T04:37:55.652Z"
   },
   {
    "duration": 22,
    "start_time": "2024-03-27T04:37:56.677Z"
   },
   {
    "duration": 2943,
    "start_time": "2024-03-27T04:37:58.397Z"
   },
   {
    "duration": 5,
    "start_time": "2024-03-27T04:38:03.531Z"
   },
   {
    "duration": 19,
    "start_time": "2024-03-27T04:38:04.937Z"
   },
   {
    "duration": 15,
    "start_time": "2024-03-27T04:39:08.626Z"
   },
   {
    "duration": 6843,
    "start_time": "2024-03-27T04:39:18.393Z"
   },
   {
    "duration": 90,
    "start_time": "2024-03-27T04:39:25.238Z"
   },
   {
    "duration": 48,
    "start_time": "2024-03-27T04:39:25.329Z"
   },
   {
    "duration": 18,
    "start_time": "2024-03-27T04:39:25.379Z"
   },
   {
    "duration": 21,
    "start_time": "2024-03-27T04:39:25.399Z"
   },
   {
    "duration": 22,
    "start_time": "2024-03-27T04:39:25.421Z"
   },
   {
    "duration": 12,
    "start_time": "2024-03-27T04:39:25.444Z"
   },
   {
    "duration": 79,
    "start_time": "2024-03-27T04:39:25.458Z"
   },
   {
    "duration": 4,
    "start_time": "2024-03-27T04:39:25.538Z"
   },
   {
    "duration": 53,
    "start_time": "2024-03-27T04:39:25.549Z"
   },
   {
    "duration": 4,
    "start_time": "2024-03-27T04:39:25.604Z"
   },
   {
    "duration": 41,
    "start_time": "2024-03-27T04:39:25.609Z"
   },
   {
    "duration": 28,
    "start_time": "2024-03-27T04:39:25.653Z"
   },
   {
    "duration": 3,
    "start_time": "2024-03-27T04:39:25.694Z"
   },
   {
    "duration": 16,
    "start_time": "2024-03-27T04:39:25.698Z"
   },
   {
    "duration": 27,
    "start_time": "2024-03-27T04:39:25.716Z"
   },
   {
    "duration": 1333,
    "start_time": "2024-03-27T04:39:25.745Z"
   },
   {
    "duration": 17,
    "start_time": "2024-03-27T04:39:27.080Z"
   },
   {
    "duration": 62,
    "start_time": "2024-03-27T04:39:27.099Z"
   },
   {
    "duration": 11,
    "start_time": "2024-03-27T04:39:27.163Z"
   },
   {
    "duration": 30,
    "start_time": "2024-03-27T04:39:27.176Z"
   },
   {
    "duration": 23,
    "start_time": "2024-03-27T04:39:27.207Z"
   },
   {
    "duration": 21,
    "start_time": "2024-03-27T04:39:27.232Z"
   },
   {
    "duration": 85,
    "start_time": "2024-03-27T04:39:27.255Z"
   },
   {
    "duration": 886,
    "start_time": "2024-03-27T04:39:27.341Z"
   },
   {
    "duration": 18,
    "start_time": "2024-03-27T04:39:28.228Z"
   },
   {
    "duration": 23,
    "start_time": "2024-03-27T04:39:28.247Z"
   },
   {
    "duration": 23,
    "start_time": "2024-03-27T04:39:28.273Z"
   },
   {
    "duration": 47,
    "start_time": "2024-03-27T04:39:28.297Z"
   },
   {
    "duration": 37,
    "start_time": "2024-03-27T04:39:28.345Z"
   },
   {
    "duration": 6626,
    "start_time": "2024-03-27T04:39:35.286Z"
   },
   {
    "duration": 88,
    "start_time": "2024-03-27T04:39:41.913Z"
   },
   {
    "duration": 45,
    "start_time": "2024-03-27T04:39:42.002Z"
   },
   {
    "duration": 20,
    "start_time": "2024-03-27T04:39:42.049Z"
   },
   {
    "duration": 37,
    "start_time": "2024-03-27T04:39:42.071Z"
   },
   {
    "duration": 15,
    "start_time": "2024-03-27T04:39:42.110Z"
   },
   {
    "duration": 25,
    "start_time": "2024-03-27T04:39:42.126Z"
   },
   {
    "duration": 66,
    "start_time": "2024-03-27T04:39:42.153Z"
   },
   {
    "duration": 4,
    "start_time": "2024-03-27T04:39:42.220Z"
   },
   {
    "duration": 38,
    "start_time": "2024-03-27T04:39:42.227Z"
   },
   {
    "duration": 6,
    "start_time": "2024-03-27T04:39:42.266Z"
   },
   {
    "duration": 47,
    "start_time": "2024-03-27T04:39:42.274Z"
   },
   {
    "duration": 31,
    "start_time": "2024-03-27T04:39:42.323Z"
   },
   {
    "duration": 3,
    "start_time": "2024-03-27T04:39:42.358Z"
   },
   {
    "duration": 34,
    "start_time": "2024-03-27T04:39:42.363Z"
   },
   {
    "duration": 5,
    "start_time": "2024-03-27T04:39:42.399Z"
   },
   {
    "duration": 1364,
    "start_time": "2024-03-27T04:39:42.406Z"
   },
   {
    "duration": 9,
    "start_time": "2024-03-27T04:39:43.771Z"
   },
   {
    "duration": 50,
    "start_time": "2024-03-27T04:39:43.782Z"
   },
   {
    "duration": 6,
    "start_time": "2024-03-27T04:39:43.833Z"
   },
   {
    "duration": 56,
    "start_time": "2024-03-27T04:39:43.840Z"
   },
   {
    "duration": 11,
    "start_time": "2024-03-27T04:39:43.897Z"
   },
   {
    "duration": 9,
    "start_time": "2024-03-27T04:39:43.910Z"
   },
   {
    "duration": 87,
    "start_time": "2024-03-27T04:39:43.920Z"
   },
   {
    "duration": 850,
    "start_time": "2024-03-27T04:39:44.009Z"
   },
   {
    "duration": 19,
    "start_time": "2024-03-27T04:39:44.860Z"
   },
   {
    "duration": 21,
    "start_time": "2024-03-27T04:39:44.880Z"
   },
   {
    "duration": 8,
    "start_time": "2024-03-27T04:39:44.903Z"
   },
   {
    "duration": 62,
    "start_time": "2024-03-27T04:39:44.912Z"
   },
   {
    "duration": 21,
    "start_time": "2024-03-27T04:39:44.975Z"
   },
   {
    "duration": 2792,
    "start_time": "2024-03-27T04:39:44.997Z"
   },
   {
    "duration": 5,
    "start_time": "2024-03-27T04:39:47.791Z"
   },
   {
    "duration": 0,
    "start_time": "2024-03-27T04:39:47.949Z"
   },
   {
    "duration": 16,
    "start_time": "2024-03-27T04:39:48.498Z"
   },
   {
    "duration": 4727,
    "start_time": "2024-03-27T04:40:15.473Z"
   },
   {
    "duration": 88,
    "start_time": "2024-03-27T04:40:20.202Z"
   },
   {
    "duration": 40,
    "start_time": "2024-03-27T04:40:20.291Z"
   },
   {
    "duration": 23,
    "start_time": "2024-03-27T04:40:20.333Z"
   },
   {
    "duration": 21,
    "start_time": "2024-03-27T04:40:20.358Z"
   },
   {
    "duration": 24,
    "start_time": "2024-03-27T04:40:20.380Z"
   },
   {
    "duration": 4,
    "start_time": "2024-03-27T04:40:20.488Z"
   },
   {
    "duration": 58,
    "start_time": "2024-03-27T04:40:21.048Z"
   },
   {
    "duration": 4,
    "start_time": "2024-03-27T04:40:21.651Z"
   },
   {
    "duration": 29,
    "start_time": "2024-03-27T04:40:22.247Z"
   },
   {
    "duration": 4,
    "start_time": "2024-03-27T04:40:22.929Z"
   },
   {
    "duration": 28,
    "start_time": "2024-03-27T04:40:23.578Z"
   },
   {
    "duration": 26,
    "start_time": "2024-03-27T04:40:25.368Z"
   },
   {
    "duration": 2,
    "start_time": "2024-03-27T04:40:25.964Z"
   },
   {
    "duration": 11,
    "start_time": "2024-03-27T04:40:26.618Z"
   },
   {
    "duration": 6,
    "start_time": "2024-03-27T04:40:27.280Z"
   },
   {
    "duration": 1333,
    "start_time": "2024-03-27T04:40:27.918Z"
   },
   {
    "duration": 9,
    "start_time": "2024-03-27T04:40:29.406Z"
   },
   {
    "duration": 43,
    "start_time": "2024-03-27T04:40:30.113Z"
   },
   {
    "duration": 7,
    "start_time": "2024-03-27T04:40:31.583Z"
   },
   {
    "duration": 23,
    "start_time": "2024-03-27T04:40:32.228Z"
   },
   {
    "duration": 6,
    "start_time": "2024-03-27T04:40:34.498Z"
   },
   {
    "duration": 7,
    "start_time": "2024-03-27T04:40:35.213Z"
   },
   {
    "duration": 77,
    "start_time": "2024-03-27T04:40:36.603Z"
   },
   {
    "duration": 822,
    "start_time": "2024-03-27T04:40:39.015Z"
   },
   {
    "duration": 21,
    "start_time": "2024-03-27T04:40:42.036Z"
   },
   {
    "duration": 14,
    "start_time": "2024-03-27T04:40:42.976Z"
   },
   {
    "duration": 10,
    "start_time": "2024-03-27T04:40:43.338Z"
   },
   {
    "duration": 33,
    "start_time": "2024-03-27T04:40:43.950Z"
   },
   {
    "duration": 21,
    "start_time": "2024-03-27T04:40:44.680Z"
   },
   {
    "duration": 2956,
    "start_time": "2024-03-27T04:40:45.855Z"
   },
   {
    "duration": 6,
    "start_time": "2024-03-27T04:40:48.922Z"
   },
   {
    "duration": 20,
    "start_time": "2024-03-27T04:40:49.943Z"
   },
   {
    "duration": 5014,
    "start_time": "2024-03-27T08:20:58.523Z"
   },
   {
    "duration": 92,
    "start_time": "2024-03-27T08:21:03.539Z"
   },
   {
    "duration": 48,
    "start_time": "2024-03-27T08:21:05.002Z"
   },
   {
    "duration": 18,
    "start_time": "2024-03-27T08:21:25.153Z"
   },
   {
    "duration": 18,
    "start_time": "2024-03-27T08:21:29.903Z"
   },
   {
    "duration": 18,
    "start_time": "2024-03-27T08:21:33.052Z"
   },
   {
    "duration": 4,
    "start_time": "2024-03-27T08:21:41.911Z"
   },
   {
    "duration": 54,
    "start_time": "2024-03-27T08:21:46.764Z"
   },
   {
    "duration": 4,
    "start_time": "2024-03-27T08:21:51.431Z"
   },
   {
    "duration": 12,
    "start_time": "2024-03-27T08:22:19.679Z"
   },
   {
    "duration": 29,
    "start_time": "2024-03-27T08:22:36.582Z"
   },
   {
    "duration": 11,
    "start_time": "2024-03-27T08:22:57.422Z"
   },
   {
    "duration": 4,
    "start_time": "2024-03-27T08:23:03.781Z"
   },
   {
    "duration": 10,
    "start_time": "2024-03-27T08:23:05.172Z"
   },
   {
    "duration": 30,
    "start_time": "2024-03-27T08:23:13.611Z"
   },
   {
    "duration": 32,
    "start_time": "2024-03-27T08:23:16.951Z"
   },
   {
    "duration": 4,
    "start_time": "2024-03-27T08:23:19.830Z"
   },
   {
    "duration": 11,
    "start_time": "2024-03-27T08:23:23.270Z"
   },
   {
    "duration": 6,
    "start_time": "2024-03-27T08:23:28.947Z"
   },
   {
    "duration": 1376,
    "start_time": "2024-03-27T08:23:34.252Z"
   },
   {
    "duration": 8,
    "start_time": "2024-03-27T08:23:38.902Z"
   },
   {
    "duration": 55,
    "start_time": "2024-03-27T08:23:43.347Z"
   },
   {
    "duration": 7,
    "start_time": "2024-03-27T08:23:48.728Z"
   },
   {
    "duration": 21,
    "start_time": "2024-03-27T08:23:50.568Z"
   },
   {
    "duration": 6,
    "start_time": "2024-03-27T08:24:03.499Z"
   },
   {
    "duration": 8,
    "start_time": "2024-03-27T08:24:07.306Z"
   },
   {
    "duration": 79,
    "start_time": "2024-03-27T08:24:17.988Z"
   },
   {
    "duration": 894,
    "start_time": "2024-03-27T08:24:48.114Z"
   },
   {
    "duration": 90,
    "start_time": "2024-03-27T08:31:00.388Z"
   },
   {
    "duration": 26,
    "start_time": "2024-03-27T08:31:34.817Z"
   },
   {
    "duration": 94,
    "start_time": "2024-03-27T08:31:58.200Z"
   },
   {
    "duration": 98,
    "start_time": "2024-03-27T08:32:21.248Z"
   },
   {
    "duration": 95,
    "start_time": "2024-03-27T08:34:48.820Z"
   },
   {
    "duration": 1360,
    "start_time": "2024-03-27T08:35:30.858Z"
   },
   {
    "duration": 1344,
    "start_time": "2024-03-27T08:37:11.178Z"
   },
   {
    "duration": 1318,
    "start_time": "2024-03-27T08:38:25.229Z"
   },
   {
    "duration": 6868,
    "start_time": "2024-03-27T08:38:34.171Z"
   },
   {
    "duration": 88,
    "start_time": "2024-03-27T08:38:41.041Z"
   },
   {
    "duration": 43,
    "start_time": "2024-03-27T08:38:41.130Z"
   },
   {
    "duration": 17,
    "start_time": "2024-03-27T08:38:41.175Z"
   },
   {
    "duration": 17,
    "start_time": "2024-03-27T08:38:41.194Z"
   },
   {
    "duration": 24,
    "start_time": "2024-03-27T08:38:41.212Z"
   },
   {
    "duration": 28,
    "start_time": "2024-03-27T08:38:41.237Z"
   },
   {
    "duration": 68,
    "start_time": "2024-03-27T08:38:41.267Z"
   },
   {
    "duration": 5,
    "start_time": "2024-03-27T08:38:41.337Z"
   },
   {
    "duration": 23,
    "start_time": "2024-03-27T08:38:41.345Z"
   },
   {
    "duration": 56,
    "start_time": "2024-03-27T08:38:41.369Z"
   },
   {
    "duration": 4,
    "start_time": "2024-03-27T08:38:41.427Z"
   },
   {
    "duration": 30,
    "start_time": "2024-03-27T08:38:41.432Z"
   },
   {
    "duration": 53,
    "start_time": "2024-03-27T08:38:41.464Z"
   },
   {
    "duration": 30,
    "start_time": "2024-03-27T08:38:41.519Z"
   },
   {
    "duration": 2,
    "start_time": "2024-03-27T08:38:41.551Z"
   },
   {
    "duration": 23,
    "start_time": "2024-03-27T08:38:41.555Z"
   },
   {
    "duration": 28,
    "start_time": "2024-03-27T08:38:41.579Z"
   },
   {
    "duration": 1363,
    "start_time": "2024-03-27T08:38:41.608Z"
   },
   {
    "duration": 10,
    "start_time": "2024-03-27T08:38:42.972Z"
   },
   {
    "duration": 53,
    "start_time": "2024-03-27T08:38:42.983Z"
   },
   {
    "duration": 6,
    "start_time": "2024-03-27T08:38:43.038Z"
   },
   {
    "duration": 51,
    "start_time": "2024-03-27T08:38:43.045Z"
   },
   {
    "duration": 5,
    "start_time": "2024-03-27T08:38:43.097Z"
   },
   {
    "duration": 150,
    "start_time": "2024-03-27T08:38:43.104Z"
   },
   {
    "duration": 0,
    "start_time": "2024-03-27T08:38:43.256Z"
   },
   {
    "duration": 0,
    "start_time": "2024-03-27T08:38:43.257Z"
   },
   {
    "duration": 0,
    "start_time": "2024-03-27T08:38:43.259Z"
   },
   {
    "duration": 0,
    "start_time": "2024-03-27T08:38:43.260Z"
   },
   {
    "duration": 0,
    "start_time": "2024-03-27T08:38:43.261Z"
   },
   {
    "duration": 0,
    "start_time": "2024-03-27T08:38:43.262Z"
   },
   {
    "duration": 0,
    "start_time": "2024-03-27T08:38:43.263Z"
   },
   {
    "duration": 0,
    "start_time": "2024-03-27T08:38:43.264Z"
   },
   {
    "duration": 0,
    "start_time": "2024-03-27T08:38:43.265Z"
   },
   {
    "duration": 0,
    "start_time": "2024-03-27T08:38:43.266Z"
   },
   {
    "duration": 0,
    "start_time": "2024-03-27T08:38:43.267Z"
   },
   {
    "duration": 0,
    "start_time": "2024-03-27T08:38:43.268Z"
   },
   {
    "duration": 0,
    "start_time": "2024-03-27T08:38:43.269Z"
   },
   {
    "duration": 41,
    "start_time": "2024-03-27T08:38:43.676Z"
   },
   {
    "duration": 19,
    "start_time": "2024-03-27T08:38:44.308Z"
   },
   {
    "duration": 23,
    "start_time": "2024-03-27T08:38:44.979Z"
   },
   {
    "duration": 16,
    "start_time": "2024-03-27T08:38:45.589Z"
   },
   {
    "duration": 4,
    "start_time": "2024-03-27T08:38:47.789Z"
   },
   {
    "duration": 63,
    "start_time": "2024-03-27T08:38:48.499Z"
   },
   {
    "duration": 4,
    "start_time": "2024-03-27T08:38:49.329Z"
   },
   {
    "duration": 4,
    "start_time": "2024-03-27T08:39:00.406Z"
   },
   {
    "duration": 10,
    "start_time": "2024-03-27T08:39:09.076Z"
   },
   {
    "duration": 39,
    "start_time": "2024-03-27T08:39:10.768Z"
   },
   {
    "duration": 4,
    "start_time": "2024-03-27T08:39:11.567Z"
   },
   {
    "duration": 11,
    "start_time": "2024-03-27T08:39:24.636Z"
   },
   {
    "duration": 27,
    "start_time": "2024-03-27T08:39:25.926Z"
   },
   {
    "duration": 28,
    "start_time": "2024-03-27T08:39:26.797Z"
   },
   {
    "duration": 2,
    "start_time": "2024-03-27T08:39:27.539Z"
   },
   {
    "duration": 10,
    "start_time": "2024-03-27T08:39:28.434Z"
   },
   {
    "duration": 6,
    "start_time": "2024-03-27T08:39:29.205Z"
   },
   {
    "duration": 1170,
    "start_time": "2024-03-27T08:39:30.054Z"
   },
   {
    "duration": 5,
    "start_time": "2024-03-27T08:39:32.606Z"
   },
   {
    "duration": 24,
    "start_time": "2024-03-27T08:39:34.230Z"
   },
   {
    "duration": 7,
    "start_time": "2024-03-27T08:39:38.018Z"
   },
   {
    "duration": 22,
    "start_time": "2024-03-27T08:39:39.077Z"
   },
   {
    "duration": 7,
    "start_time": "2024-03-27T08:39:42.275Z"
   },
   {
    "duration": 7,
    "start_time": "2024-03-27T08:39:52.709Z"
   },
   {
    "duration": 79,
    "start_time": "2024-03-27T08:39:56.716Z"
   },
   {
    "duration": 921,
    "start_time": "2024-03-27T08:40:02.896Z"
   },
   {
    "duration": 20,
    "start_time": "2024-03-27T08:40:12.391Z"
   },
   {
    "duration": 15,
    "start_time": "2024-03-27T08:40:29.968Z"
   },
   {
    "duration": 9,
    "start_time": "2024-03-27T08:40:35.925Z"
   },
   {
    "duration": 35,
    "start_time": "2024-03-27T08:40:38.476Z"
   },
   {
    "duration": 149,
    "start_time": "2024-03-27T08:43:17.896Z"
   },
   {
    "duration": 2882,
    "start_time": "2024-03-27T08:43:20.557Z"
   },
   {
    "duration": 16,
    "start_time": "2024-03-27T08:43:27.794Z"
   },
   {
    "duration": 4,
    "start_time": "2024-03-27T08:44:17.689Z"
   },
   {
    "duration": 5,
    "start_time": "2024-03-27T08:44:19.713Z"
   },
   {
    "duration": 17,
    "start_time": "2024-03-27T08:44:20.742Z"
   },
   {
    "duration": 0,
    "start_time": "2024-03-27T08:46:05.268Z"
   },
   {
    "duration": 8,
    "start_time": "2024-03-27T09:00:22.251Z"
   },
   {
    "duration": 14,
    "start_time": "2024-03-27T09:00:26.326Z"
   },
   {
    "duration": 8,
    "start_time": "2024-03-27T09:00:42.701Z"
   },
   {
    "duration": 4199,
    "start_time": "2024-03-27T09:01:01.057Z"
   },
   {
    "duration": 50,
    "start_time": "2024-03-27T09:01:20.385Z"
   },
   {
    "duration": 3437,
    "start_time": "2024-03-27T09:04:05.711Z"
   },
   {
    "duration": 4,
    "start_time": "2024-03-27T09:04:15.188Z"
   },
   {
    "duration": 3,
    "start_time": "2024-03-27T09:04:18.687Z"
   },
   {
    "duration": 7041,
    "start_time": "2024-03-27T09:05:07.631Z"
   },
   {
    "duration": 89,
    "start_time": "2024-03-27T09:05:14.674Z"
   },
   {
    "duration": 45,
    "start_time": "2024-03-27T09:05:14.764Z"
   },
   {
    "duration": 18,
    "start_time": "2024-03-27T09:05:23.188Z"
   },
   {
    "duration": 19,
    "start_time": "2024-03-27T09:05:26.997Z"
   },
   {
    "duration": 20,
    "start_time": "2024-03-27T09:05:30.646Z"
   },
   {
    "duration": 148,
    "start_time": "2024-03-27T09:07:26.003Z"
   },
   {
    "duration": 28,
    "start_time": "2024-03-27T09:07:53.749Z"
   },
   {
    "duration": 44,
    "start_time": "2024-03-27T09:08:01.202Z"
   },
   {
    "duration": 19,
    "start_time": "2024-03-27T09:08:14.832Z"
   },
   {
    "duration": 17,
    "start_time": "2024-03-27T09:08:16.006Z"
   },
   {
    "duration": 22,
    "start_time": "2024-03-27T09:08:17.403Z"
   },
   {
    "duration": 4,
    "start_time": "2024-03-27T09:08:59.917Z"
   },
   {
    "duration": 50,
    "start_time": "2024-03-27T09:09:02.166Z"
   },
   {
    "duration": 4,
    "start_time": "2024-03-27T09:09:34.723Z"
   },
   {
    "duration": 4,
    "start_time": "2024-03-27T09:09:49.086Z"
   },
   {
    "duration": 5,
    "start_time": "2024-03-27T09:09:59.517Z"
   },
   {
    "duration": 63,
    "start_time": "2024-03-27T09:10:02.060Z"
   },
   {
    "duration": 4928,
    "start_time": "2024-03-27T10:45:25.500Z"
   },
   {
    "duration": 91,
    "start_time": "2024-03-27T10:45:30.430Z"
   },
   {
    "duration": 88,
    "start_time": "2024-03-27T10:47:48.050Z"
   },
   {
    "duration": 30,
    "start_time": "2024-03-27T10:47:51.696Z"
   },
   {
    "duration": 19,
    "start_time": "2024-03-27T10:47:54.955Z"
   },
   {
    "duration": 17,
    "start_time": "2024-03-27T10:47:55.643Z"
   },
   {
    "duration": 17,
    "start_time": "2024-03-27T10:47:56.484Z"
   },
   {
    "duration": 58,
    "start_time": "2024-03-27T10:48:02.934Z"
   },
   {
    "duration": 4,
    "start_time": "2024-03-27T10:48:38.574Z"
   },
   {
    "duration": 56,
    "start_time": "2024-03-27T10:48:41.274Z"
   },
   {
    "duration": 4,
    "start_time": "2024-03-27T10:49:14.340Z"
   },
   {
    "duration": 12,
    "start_time": "2024-03-27T10:49:24.438Z"
   },
   {
    "duration": 33,
    "start_time": "2024-03-27T10:49:34.108Z"
   },
   {
    "duration": 3,
    "start_time": "2024-03-27T10:51:10.509Z"
   },
   {
    "duration": 10,
    "start_time": "2024-03-27T10:51:10.958Z"
   },
   {
    "duration": 32,
    "start_time": "2024-03-27T10:55:46.646Z"
   },
   {
    "duration": 4,
    "start_time": "2024-03-27T10:56:46.423Z"
   },
   {
    "duration": 11,
    "start_time": "2024-03-27T10:56:48.107Z"
   },
   {
    "duration": 10,
    "start_time": "2024-03-27T10:57:46.513Z"
   },
   {
    "duration": 41,
    "start_time": "2024-03-27T10:58:04.139Z"
   },
   {
    "duration": 33,
    "start_time": "2024-03-27T10:58:14.061Z"
   },
   {
    "duration": 3,
    "start_time": "2024-03-27T10:58:27.204Z"
   },
   {
    "duration": 15,
    "start_time": "2024-03-27T10:58:32.351Z"
   },
   {
    "duration": 7,
    "start_time": "2024-03-27T10:58:37.648Z"
   },
   {
    "duration": 6,
    "start_time": "2024-03-27T10:59:13.069Z"
   },
   {
    "duration": 1424,
    "start_time": "2024-03-27T10:59:24.516Z"
   },
   {
    "duration": 30,
    "start_time": "2024-03-27T11:00:38.122Z"
   },
   {
    "duration": 330,
    "start_time": "2024-03-27T11:01:02.728Z"
   },
   {
    "duration": 48,
    "start_time": "2024-03-27T11:01:46.475Z"
   },
   {
    "duration": 42,
    "start_time": "2024-03-27T11:02:42.214Z"
   },
   {
    "duration": 7,
    "start_time": "2024-03-27T12:22:54.407Z"
   },
   {
    "duration": 22,
    "start_time": "2024-03-27T12:22:57.947Z"
   },
   {
    "duration": 6,
    "start_time": "2024-03-27T12:23:43.370Z"
   },
   {
    "duration": 23,
    "start_time": "2024-03-27T12:24:06.273Z"
   },
   {
    "duration": 21,
    "start_time": "2024-03-27T12:33:15.323Z"
   },
   {
    "duration": 85,
    "start_time": "2024-03-27T12:35:21.865Z"
   },
   {
    "duration": 1031,
    "start_time": "2024-03-27T12:39:01.038Z"
   },
   {
    "duration": 5160,
    "start_time": "2024-03-27T12:39:53.044Z"
   },
   {
    "duration": 1037,
    "start_time": "2024-03-27T12:40:03.429Z"
   },
   {
    "duration": 3747,
    "start_time": "2024-03-27T12:43:11.680Z"
   },
   {
    "duration": 19,
    "start_time": "2024-03-27T12:51:15.410Z"
   },
   {
    "duration": 9,
    "start_time": "2024-03-27T12:51:35.910Z"
   },
   {
    "duration": 34,
    "start_time": "2024-03-27T12:51:40.038Z"
   },
   {
    "duration": 25,
    "start_time": "2024-03-27T12:51:47.136Z"
   },
   {
    "duration": 91,
    "start_time": "2024-03-27T12:53:24.623Z"
   },
   {
    "duration": 82,
    "start_time": "2024-03-27T12:54:20.675Z"
   },
   {
    "duration": 2931,
    "start_time": "2024-03-27T12:54:47.559Z"
   },
   {
    "duration": 5,
    "start_time": "2024-03-27T12:55:12.261Z"
   },
   {
    "duration": 16,
    "start_time": "2024-03-27T12:55:16.285Z"
   },
   {
    "duration": 5,
    "start_time": "2024-03-27T12:55:35.566Z"
   },
   {
    "duration": 5,
    "start_time": "2024-03-27T12:56:15.061Z"
   },
   {
    "duration": 5,
    "start_time": "2024-03-27T12:56:21.190Z"
   },
   {
    "duration": 4,
    "start_time": "2024-03-27T12:56:23.402Z"
   },
   {
    "duration": 31028,
    "start_time": "2024-03-27T12:56:25.227Z"
   },
   {
    "duration": 29,
    "start_time": "2024-03-27T13:56:50.479Z"
   },
   {
    "duration": 30,
    "start_time": "2024-03-27T13:57:03.689Z"
   },
   {
    "duration": 24,
    "start_time": "2024-03-27T13:57:40.513Z"
   },
   {
    "duration": 37,
    "start_time": "2024-03-27T14:02:43.875Z"
   },
   {
    "duration": 26,
    "start_time": "2024-03-27T14:15:10.833Z"
   },
   {
    "duration": 12,
    "start_time": "2024-03-27T14:16:32.901Z"
   },
   {
    "duration": 8,
    "start_time": "2024-03-27T14:16:54.809Z"
   },
   {
    "duration": 4,
    "start_time": "2024-03-27T14:17:14.794Z"
   },
   {
    "duration": 33,
    "start_time": "2024-03-27T14:27:10.610Z"
   },
   {
    "duration": 11712,
    "start_time": "2024-03-27T14:30:30.775Z"
   },
   {
    "duration": 32,
    "start_time": "2024-03-27T14:30:48.806Z"
   },
   {
    "duration": 37,
    "start_time": "2024-03-27T14:30:59.451Z"
   },
   {
    "duration": 3,
    "start_time": "2024-03-27T14:31:09.043Z"
   },
   {
    "duration": 7311,
    "start_time": "2024-03-27T14:31:21.465Z"
   },
   {
    "duration": 40,
    "start_time": "2024-03-27T14:31:43.700Z"
   },
   {
    "duration": 28,
    "start_time": "2024-03-27T14:31:50.973Z"
   },
   {
    "duration": 31,
    "start_time": "2024-03-27T15:06:12.723Z"
   },
   {
    "duration": 11,
    "start_time": "2024-03-27T15:29:49.210Z"
   },
   {
    "duration": 9024,
    "start_time": "2024-03-27T15:45:57.000Z"
   },
   {
    "duration": 90,
    "start_time": "2024-03-27T15:46:06.026Z"
   },
   {
    "duration": 38,
    "start_time": "2024-03-27T15:46:08.655Z"
   },
   {
    "duration": 19,
    "start_time": "2024-03-27T15:46:10.061Z"
   },
   {
    "duration": 18,
    "start_time": "2024-03-27T15:46:11.830Z"
   },
   {
    "duration": 17,
    "start_time": "2024-03-27T15:46:13.414Z"
   },
   {
    "duration": 4,
    "start_time": "2024-03-27T15:46:18.145Z"
   },
   {
    "duration": 73,
    "start_time": "2024-03-27T15:46:19.390Z"
   },
   {
    "duration": 5,
    "start_time": "2024-03-27T15:46:20.615Z"
   },
   {
    "duration": 16,
    "start_time": "2024-03-27T15:46:22.144Z"
   },
   {
    "duration": 32,
    "start_time": "2024-03-27T15:46:23.052Z"
   },
   {
    "duration": 4,
    "start_time": "2024-03-27T15:46:23.923Z"
   },
   {
    "duration": 11,
    "start_time": "2024-03-27T15:46:25.778Z"
   },
   {
    "duration": 31,
    "start_time": "2024-03-27T15:46:29.527Z"
   },
   {
    "duration": 31,
    "start_time": "2024-03-27T15:46:30.759Z"
   },
   {
    "duration": 3,
    "start_time": "2024-03-27T15:46:31.717Z"
   },
   {
    "duration": 10,
    "start_time": "2024-03-27T15:46:32.863Z"
   },
   {
    "duration": 6,
    "start_time": "2024-03-27T15:46:33.838Z"
   },
   {
    "duration": 1303,
    "start_time": "2024-03-27T15:46:34.694Z"
   },
   {
    "duration": 14,
    "start_time": "2024-03-27T15:46:36.405Z"
   },
   {
    "duration": 45,
    "start_time": "2024-03-27T15:46:37.411Z"
   },
   {
    "duration": 6,
    "start_time": "2024-03-27T15:46:39.110Z"
   },
   {
    "duration": 20,
    "start_time": "2024-03-27T15:46:39.825Z"
   },
   {
    "duration": 20,
    "start_time": "2024-03-27T15:46:43.138Z"
   },
   {
    "duration": 85,
    "start_time": "2024-03-27T15:46:44.862Z"
   },
   {
    "duration": 3384,
    "start_time": "2024-03-27T15:46:49.720Z"
   },
   {
    "duration": 15,
    "start_time": "2024-03-27T15:46:53.350Z"
   },
   {
    "duration": 10,
    "start_time": "2024-03-27T15:46:54.413Z"
   },
   {
    "duration": 210,
    "start_time": "2024-03-27T15:46:55.263Z"
   },
   {
    "duration": 2859,
    "start_time": "2024-03-27T15:46:57.039Z"
   },
   {
    "duration": 3,
    "start_time": "2024-03-27T15:47:00.419Z"
   },
   {
    "duration": 6,
    "start_time": "2024-03-27T15:47:01.424Z"
   },
   {
    "duration": 18976,
    "start_time": "2024-03-27T15:47:02.458Z"
   },
   {
    "duration": 19228,
    "start_time": "2024-03-27T15:47:34.523Z"
   },
   {
    "duration": 185,
    "start_time": "2024-03-27T15:48:06.500Z"
   },
   {
    "duration": 9507,
    "start_time": "2024-03-27T15:48:38.398Z"
   },
   {
    "duration": 103,
    "start_time": "2024-03-27T15:48:47.909Z"
   },
   {
    "duration": 57,
    "start_time": "2024-03-27T15:48:49.760Z"
   },
   {
    "duration": 28,
    "start_time": "2024-03-27T15:48:50.323Z"
   },
   {
    "duration": 26,
    "start_time": "2024-03-27T15:48:50.860Z"
   },
   {
    "duration": 17,
    "start_time": "2024-03-27T15:48:51.348Z"
   },
   {
    "duration": 4,
    "start_time": "2024-03-27T15:48:52.989Z"
   },
   {
    "duration": 70,
    "start_time": "2024-03-27T15:48:53.507Z"
   },
   {
    "duration": 6,
    "start_time": "2024-03-27T15:48:54.055Z"
   },
   {
    "duration": 14,
    "start_time": "2024-03-27T15:48:54.710Z"
   },
   {
    "duration": 45,
    "start_time": "2024-03-27T15:48:55.164Z"
   },
   {
    "duration": 4,
    "start_time": "2024-03-27T15:48:55.810Z"
   },
   {
    "duration": 13,
    "start_time": "2024-03-27T15:48:56.391Z"
   },
   {
    "duration": 31,
    "start_time": "2024-03-27T15:48:56.968Z"
   },
   {
    "duration": 45,
    "start_time": "2024-03-27T15:48:57.526Z"
   },
   {
    "duration": 3,
    "start_time": "2024-03-27T15:48:58.070Z"
   },
   {
    "duration": 16,
    "start_time": "2024-03-27T15:48:58.601Z"
   },
   {
    "duration": 10,
    "start_time": "2024-03-27T15:48:59.101Z"
   },
   {
    "duration": 1314,
    "start_time": "2024-03-27T15:48:59.659Z"
   },
   {
    "duration": 19,
    "start_time": "2024-03-27T15:49:00.975Z"
   },
   {
    "duration": 72,
    "start_time": "2024-03-27T15:49:01.614Z"
   },
   {
    "duration": 7,
    "start_time": "2024-03-27T15:49:03.259Z"
   },
   {
    "duration": 21,
    "start_time": "2024-03-27T15:49:03.858Z"
   },
   {
    "duration": 19,
    "start_time": "2024-03-27T15:49:06.359Z"
   },
   {
    "duration": 79,
    "start_time": "2024-03-27T15:49:07.684Z"
   },
   {
    "duration": 3366,
    "start_time": "2024-03-27T15:49:09.669Z"
   },
   {
    "duration": 13,
    "start_time": "2024-03-27T15:49:13.037Z"
   },
   {
    "duration": 9,
    "start_time": "2024-03-27T15:49:13.220Z"
   },
   {
    "duration": 211,
    "start_time": "2024-03-27T15:49:14.389Z"
   },
   {
    "duration": 2960,
    "start_time": "2024-03-27T15:49:16.182Z"
   },
   {
    "duration": 4,
    "start_time": "2024-03-27T15:49:21.524Z"
   },
   {
    "duration": 5,
    "start_time": "2024-03-27T15:49:22.101Z"
   },
   {
    "duration": 18917,
    "start_time": "2024-03-27T15:49:23.736Z"
   },
   {
    "duration": 150,
    "start_time": "2024-03-27T15:49:42.655Z"
   },
   {
    "duration": 18651,
    "start_time": "2024-03-27T15:50:45.113Z"
   },
   {
    "duration": 255,
    "start_time": "2024-03-27T15:51:14.045Z"
   },
   {
    "duration": 8993,
    "start_time": "2024-03-27T15:53:08.471Z"
   },
   {
    "duration": 89,
    "start_time": "2024-03-27T15:53:17.466Z"
   },
   {
    "duration": 39,
    "start_time": "2024-03-27T15:53:17.557Z"
   },
   {
    "duration": 17,
    "start_time": "2024-03-27T15:53:20.907Z"
   },
   {
    "duration": 17,
    "start_time": "2024-03-27T15:53:21.610Z"
   },
   {
    "duration": 16,
    "start_time": "2024-03-27T15:53:22.142Z"
   },
   {
    "duration": 4,
    "start_time": "2024-03-27T15:53:23.741Z"
   },
   {
    "duration": 61,
    "start_time": "2024-03-27T15:53:24.298Z"
   },
   {
    "duration": 5,
    "start_time": "2024-03-27T15:53:24.947Z"
   },
   {
    "duration": 10,
    "start_time": "2024-03-27T15:53:25.344Z"
   },
   {
    "duration": 33,
    "start_time": "2024-03-27T15:53:25.841Z"
   },
   {
    "duration": 4,
    "start_time": "2024-03-27T15:53:26.290Z"
   },
   {
    "duration": 10,
    "start_time": "2024-03-27T15:53:26.765Z"
   },
   {
    "duration": 33,
    "start_time": "2024-03-27T15:53:27.306Z"
   },
   {
    "duration": 32,
    "start_time": "2024-03-27T15:53:27.758Z"
   },
   {
    "duration": 3,
    "start_time": "2024-03-27T15:53:28.253Z"
   },
   {
    "duration": 11,
    "start_time": "2024-03-27T15:53:28.764Z"
   },
   {
    "duration": 6,
    "start_time": "2024-03-27T15:53:29.340Z"
   },
   {
    "duration": 1312,
    "start_time": "2024-03-27T15:53:29.887Z"
   },
   {
    "duration": 11,
    "start_time": "2024-03-27T15:53:31.201Z"
   },
   {
    "duration": 52,
    "start_time": "2024-03-27T15:53:31.449Z"
   },
   {
    "duration": 6,
    "start_time": "2024-03-27T15:53:32.500Z"
   },
   {
    "duration": 21,
    "start_time": "2024-03-27T15:53:33.127Z"
   },
   {
    "duration": 21,
    "start_time": "2024-03-27T15:53:35.578Z"
   },
   {
    "duration": 113,
    "start_time": "2024-03-27T15:53:36.681Z"
   },
   {
    "duration": 3565,
    "start_time": "2024-03-27T15:53:38.397Z"
   },
   {
    "duration": 40,
    "start_time": "2024-03-27T15:53:41.965Z"
   },
   {
    "duration": 14,
    "start_time": "2024-03-27T15:53:42.007Z"
   },
   {
    "duration": 224,
    "start_time": "2024-03-27T15:53:42.053Z"
   },
   {
    "duration": 2957,
    "start_time": "2024-03-27T15:53:43.805Z"
   },
   {
    "duration": 6,
    "start_time": "2024-03-27T15:53:46.765Z"
   },
   {
    "duration": 6,
    "start_time": "2024-03-27T15:53:47.545Z"
   },
   {
    "duration": 19125,
    "start_time": "2024-03-27T15:53:49.242Z"
   },
   {
    "duration": 396,
    "start_time": "2024-03-27T15:54:40.132Z"
   },
   {
    "duration": 7297,
    "start_time": "2024-03-27T18:24:20.173Z"
   },
   {
    "duration": 264,
    "start_time": "2024-03-27T18:24:31.796Z"
   },
   {
    "duration": 256,
    "start_time": "2024-03-27T18:24:46.512Z"
   },
   {
    "duration": 4,
    "start_time": "2024-03-27T18:24:47.485Z"
   },
   {
    "duration": 235,
    "start_time": "2024-03-27T18:24:57.030Z"
   },
   {
    "duration": 7367,
    "start_time": "2024-03-27T18:25:44.334Z"
   },
   {
    "duration": 274,
    "start_time": "2024-03-27T18:25:57.966Z"
   },
   {
    "duration": 10,
    "start_time": "2024-03-27T18:29:26.880Z"
   },
   {
    "duration": 4,
    "start_time": "2024-03-27T18:30:05.661Z"
   },
   {
    "duration": 9908,
    "start_time": "2024-03-27T18:31:14.392Z"
   },
   {
    "duration": 269,
    "start_time": "2024-03-27T18:31:38.451Z"
   },
   {
    "duration": 4,
    "start_time": "2024-03-27T18:33:46.485Z"
   },
   {
    "duration": 13408,
    "start_time": "2024-03-27T18:35:39.807Z"
   },
   {
    "duration": 5,
    "start_time": "2024-03-27T18:36:06.637Z"
   },
   {
    "duration": 2411,
    "start_time": "2024-03-27T18:37:54.032Z"
   },
   {
    "duration": 4,
    "start_time": "2024-03-27T18:38:04.156Z"
   },
   {
    "duration": 5,
    "start_time": "2024-03-27T18:39:03.453Z"
   },
   {
    "duration": 3,
    "start_time": "2024-03-27T18:39:08.176Z"
   },
   {
    "duration": 2481,
    "start_time": "2024-03-27T18:39:21.852Z"
   },
   {
    "duration": 5,
    "start_time": "2024-03-27T18:39:29.266Z"
   },
   {
    "duration": 11675,
    "start_time": "2024-03-27T18:39:49.831Z"
   },
   {
    "duration": 92,
    "start_time": "2024-03-27T18:40:01.509Z"
   },
   {
    "duration": 224,
    "start_time": "2024-03-27T18:40:01.603Z"
   },
   {
    "duration": 15,
    "start_time": "2024-03-27T18:40:03.617Z"
   },
   {
    "duration": 14,
    "start_time": "2024-03-27T18:40:05.025Z"
   },
   {
    "duration": 13,
    "start_time": "2024-03-27T18:40:05.865Z"
   },
   {
    "duration": 5,
    "start_time": "2024-03-27T18:40:07.676Z"
   },
   {
    "duration": 43,
    "start_time": "2024-03-27T18:40:08.236Z"
   },
   {
    "duration": 4,
    "start_time": "2024-03-27T18:40:08.846Z"
   },
   {
    "duration": 11,
    "start_time": "2024-03-27T18:40:09.373Z"
   },
   {
    "duration": 25,
    "start_time": "2024-03-27T18:40:09.957Z"
   },
   {
    "duration": 3,
    "start_time": "2024-03-27T18:40:10.526Z"
   },
   {
    "duration": 10,
    "start_time": "2024-03-27T18:40:11.069Z"
   },
   {
    "duration": 30,
    "start_time": "2024-03-27T18:40:11.686Z"
   },
   {
    "duration": 25,
    "start_time": "2024-03-27T18:40:12.318Z"
   },
   {
    "duration": 2,
    "start_time": "2024-03-27T18:40:12.880Z"
   },
   {
    "duration": 17,
    "start_time": "2024-03-27T18:40:13.477Z"
   },
   {
    "duration": 6,
    "start_time": "2024-03-27T18:40:14.070Z"
   },
   {
    "duration": 2469,
    "start_time": "2024-03-27T18:40:14.643Z"
   },
   {
    "duration": 7,
    "start_time": "2024-03-27T18:40:17.114Z"
   },
   {
    "duration": 29,
    "start_time": "2024-03-27T18:40:17.122Z"
   },
   {
    "duration": 7,
    "start_time": "2024-03-27T18:40:18.670Z"
   },
   {
    "duration": 140,
    "start_time": "2024-03-27T18:40:19.370Z"
   },
   {
    "duration": 16,
    "start_time": "2024-03-27T18:40:22.517Z"
   },
   {
    "duration": 63,
    "start_time": "2024-03-27T18:40:25.439Z"
   },
   {
    "duration": 4505,
    "start_time": "2024-03-27T18:40:27.567Z"
   },
   {
    "duration": 21,
    "start_time": "2024-03-27T18:40:32.074Z"
   },
   {
    "duration": 9,
    "start_time": "2024-03-27T18:40:32.875Z"
   },
   {
    "duration": 62,
    "start_time": "2024-03-27T18:40:34.080Z"
   },
   {
    "duration": 2244,
    "start_time": "2024-03-27T18:40:35.854Z"
   },
   {
    "duration": 4,
    "start_time": "2024-03-27T18:40:38.955Z"
   },
   {
    "duration": 4,
    "start_time": "2024-03-27T18:40:39.466Z"
   },
   {
    "duration": 18405,
    "start_time": "2024-03-27T18:40:40.242Z"
   },
   {
    "duration": 4,
    "start_time": "2024-03-27T18:40:58.649Z"
   },
   {
    "duration": 475,
    "start_time": "2024-03-27T18:41:01.270Z"
   },
   {
    "duration": 2410,
    "start_time": "2024-03-27T18:41:13.058Z"
   },
   {
    "duration": 9733,
    "start_time": "2024-03-27T18:41:59.915Z"
   },
   {
    "duration": 11465,
    "start_time": "2024-03-27T18:42:18.832Z"
   },
   {
    "duration": 6,
    "start_time": "2024-03-27T18:42:44.482Z"
   },
   {
    "duration": 91,
    "start_time": "2024-03-27T18:42:47.637Z"
   },
   {
    "duration": 29,
    "start_time": "2024-03-27T18:42:48.544Z"
   },
   {
    "duration": 16,
    "start_time": "2024-03-27T18:42:48.973Z"
   },
   {
    "duration": 14,
    "start_time": "2024-03-27T18:42:49.573Z"
   },
   {
    "duration": 13,
    "start_time": "2024-03-27T18:42:50.066Z"
   },
   {
    "duration": 4,
    "start_time": "2024-03-27T18:42:51.498Z"
   },
   {
    "duration": 45,
    "start_time": "2024-03-27T18:42:51.983Z"
   },
   {
    "duration": 6,
    "start_time": "2024-03-27T18:42:52.517Z"
   },
   {
    "duration": 17,
    "start_time": "2024-03-27T18:42:53.012Z"
   },
   {
    "duration": 28,
    "start_time": "2024-03-27T18:42:53.548Z"
   },
   {
    "duration": 4,
    "start_time": "2024-03-27T18:42:54.075Z"
   },
   {
    "duration": 10,
    "start_time": "2024-03-27T18:42:54.624Z"
   },
   {
    "duration": 27,
    "start_time": "2024-03-27T18:42:55.142Z"
   },
   {
    "duration": 27,
    "start_time": "2024-03-27T18:42:55.582Z"
   },
   {
    "duration": 3,
    "start_time": "2024-03-27T18:42:56.232Z"
   },
   {
    "duration": 12,
    "start_time": "2024-03-27T18:42:56.712Z"
   },
   {
    "duration": 9,
    "start_time": "2024-03-27T18:42:57.289Z"
   },
   {
    "duration": 2469,
    "start_time": "2024-03-27T18:42:57.848Z"
   },
   {
    "duration": 7,
    "start_time": "2024-03-27T18:43:00.319Z"
   },
   {
    "duration": 84,
    "start_time": "2024-03-27T18:43:00.327Z"
   },
   {
    "duration": 7,
    "start_time": "2024-03-27T18:43:01.105Z"
   },
   {
    "duration": 24,
    "start_time": "2024-03-27T18:43:01.639Z"
   },
   {
    "duration": 17,
    "start_time": "2024-03-27T18:43:03.966Z"
   },
   {
    "duration": 73,
    "start_time": "2024-03-27T18:43:05.141Z"
   },
   {
    "duration": 4727,
    "start_time": "2024-03-27T18:43:06.929Z"
   },
   {
    "duration": 12,
    "start_time": "2024-03-27T18:43:11.658Z"
   },
   {
    "duration": 27,
    "start_time": "2024-03-27T18:43:11.672Z"
   },
   {
    "duration": 193,
    "start_time": "2024-03-27T18:43:12.512Z"
   },
   {
    "duration": 2373,
    "start_time": "2024-03-27T18:43:14.037Z"
   },
   {
    "duration": 4,
    "start_time": "2024-03-27T18:43:16.412Z"
   },
   {
    "duration": 5,
    "start_time": "2024-03-27T18:43:16.703Z"
   },
   {
    "duration": 18883,
    "start_time": "2024-03-27T18:43:17.696Z"
   },
   {
    "duration": 506,
    "start_time": "2024-03-27T18:43:41.611Z"
   },
   {
    "duration": 366,
    "start_time": "2024-03-27T18:45:13.440Z"
   },
   {
    "duration": 1208,
    "start_time": "2024-03-27T18:45:26.856Z"
   },
   {
    "duration": 348,
    "start_time": "2024-03-27T18:46:32.229Z"
   },
   {
    "duration": 358,
    "start_time": "2024-03-27T18:49:42.569Z"
   },
   {
    "duration": 11,
    "start_time": "2024-03-27T19:36:33.799Z"
   },
   {
    "duration": 15,
    "start_time": "2024-03-27T19:36:35.748Z"
   },
   {
    "duration": 8,
    "start_time": "2024-03-27T19:37:38.083Z"
   },
   {
    "duration": 5270,
    "start_time": "2024-03-27T19:38:45.436Z"
   },
   {
    "duration": 43,
    "start_time": "2024-03-27T19:41:30.468Z"
   },
   {
    "duration": 4,
    "start_time": "2024-03-27T20:12:18.758Z"
   },
   {
    "duration": 4,
    "start_time": "2024-03-27T20:12:39.646Z"
   },
   {
    "duration": 16868,
    "start_time": "2024-03-27T20:14:51.593Z"
   },
   {
    "duration": 11631,
    "start_time": "2024-03-27T20:15:17.481Z"
   },
   {
    "duration": 5,
    "start_time": "2024-03-27T20:15:29.115Z"
   },
   {
    "duration": 107,
    "start_time": "2024-03-27T20:15:29.122Z"
   },
   {
    "duration": 25,
    "start_time": "2024-03-27T20:15:35.761Z"
   },
   {
    "duration": 14,
    "start_time": "2024-03-27T20:15:36.133Z"
   },
   {
    "duration": 14,
    "start_time": "2024-03-27T20:15:36.514Z"
   },
   {
    "duration": 12,
    "start_time": "2024-03-27T20:15:36.706Z"
   },
   {
    "duration": 3,
    "start_time": "2024-03-27T20:15:38.568Z"
   },
   {
    "duration": 48,
    "start_time": "2024-03-27T20:15:39.134Z"
   },
   {
    "duration": 5,
    "start_time": "2024-03-27T20:15:39.705Z"
   },
   {
    "duration": 11,
    "start_time": "2024-03-27T20:15:40.304Z"
   },
   {
    "duration": 25,
    "start_time": "2024-03-27T20:15:40.806Z"
   },
   {
    "duration": 3,
    "start_time": "2024-03-27T20:15:41.372Z"
   },
   {
    "duration": 10,
    "start_time": "2024-03-27T20:15:41.910Z"
   },
   {
    "duration": 24,
    "start_time": "2024-03-27T20:15:42.422Z"
   },
   {
    "duration": 27,
    "start_time": "2024-03-27T20:15:42.960Z"
   },
   {
    "duration": 3,
    "start_time": "2024-03-27T20:15:43.482Z"
   },
   {
    "duration": 11,
    "start_time": "2024-03-27T20:15:44.078Z"
   },
   {
    "duration": 6,
    "start_time": "2024-03-27T20:15:44.641Z"
   },
   {
    "duration": 2573,
    "start_time": "2024-03-27T20:15:45.158Z"
   },
   {
    "duration": 7,
    "start_time": "2024-03-27T20:15:47.733Z"
   },
   {
    "duration": 27,
    "start_time": "2024-03-27T20:15:47.741Z"
   },
   {
    "duration": 7,
    "start_time": "2024-03-27T20:15:48.220Z"
   },
   {
    "duration": 22,
    "start_time": "2024-03-27T20:15:48.882Z"
   },
   {
    "duration": 16,
    "start_time": "2024-03-27T20:15:51.534Z"
   },
   {
    "duration": 72,
    "start_time": "2024-03-27T20:15:52.616Z"
   },
   {
    "duration": 4862,
    "start_time": "2024-03-27T20:15:54.346Z"
   },
   {
    "duration": 11,
    "start_time": "2024-03-27T20:15:59.211Z"
   },
   {
    "duration": 30,
    "start_time": "2024-03-27T20:15:59.223Z"
   },
   {
    "duration": 64,
    "start_time": "2024-03-27T20:16:00.507Z"
   },
   {
    "duration": 2021,
    "start_time": "2024-03-27T20:16:02.425Z"
   },
   {
    "duration": 4,
    "start_time": "2024-03-27T20:16:04.873Z"
   },
   {
    "duration": 6,
    "start_time": "2024-03-27T20:16:05.502Z"
   },
   {
    "duration": 18072,
    "start_time": "2024-03-27T20:16:10.469Z"
   },
   {
    "duration": 592,
    "start_time": "2024-03-27T20:16:40.684Z"
   },
   {
    "duration": 8,
    "start_time": "2024-03-27T20:17:26.590Z"
   },
   {
    "duration": 14,
    "start_time": "2024-03-27T20:17:27.963Z"
   },
   {
    "duration": 8,
    "start_time": "2024-03-27T20:17:29.334Z"
   },
   {
    "duration": 5731,
    "start_time": "2024-03-27T20:17:30.252Z"
   },
   {
    "duration": 49,
    "start_time": "2024-03-27T20:17:35.985Z"
   },
   {
    "duration": 86,
    "start_time": "2024-03-27T20:19:28.560Z"
   },
   {
    "duration": 155,
    "start_time": "2024-03-27T20:24:42.552Z"
   },
   {
    "duration": 43,
    "start_time": "2024-03-27T20:25:03.147Z"
   },
   {
    "duration": 46,
    "start_time": "2024-03-27T20:59:53.675Z"
   },
   {
    "duration": 97951,
    "start_time": "2024-03-28T04:41:42.002Z"
   },
   {
    "duration": 13399,
    "start_time": "2024-03-28T05:14:44.356Z"
   },
   {
    "duration": 6,
    "start_time": "2024-03-28T05:14:57.757Z"
   },
   {
    "duration": 376,
    "start_time": "2024-03-28T05:14:57.765Z"
   },
   {
    "duration": 27,
    "start_time": "2024-03-28T05:14:58.143Z"
   },
   {
    "duration": 16,
    "start_time": "2024-03-28T05:14:58.172Z"
   },
   {
    "duration": 15,
    "start_time": "2024-03-28T05:14:58.190Z"
   },
   {
    "duration": 17,
    "start_time": "2024-03-28T05:14:58.206Z"
   },
   {
    "duration": 6,
    "start_time": "2024-03-28T05:14:58.225Z"
   },
   {
    "duration": 71,
    "start_time": "2024-03-28T05:14:58.233Z"
   },
   {
    "duration": 4,
    "start_time": "2024-03-28T05:14:58.307Z"
   },
   {
    "duration": 25,
    "start_time": "2024-03-28T05:14:58.313Z"
   },
   {
    "duration": 43,
    "start_time": "2024-03-28T05:14:58.340Z"
   },
   {
    "duration": 3,
    "start_time": "2024-03-28T05:14:58.385Z"
   },
   {
    "duration": 24,
    "start_time": "2024-03-28T05:14:58.390Z"
   },
   {
    "duration": 28,
    "start_time": "2024-03-28T05:14:58.416Z"
   },
   {
    "duration": 50,
    "start_time": "2024-03-28T05:14:58.445Z"
   },
   {
    "duration": 3,
    "start_time": "2024-03-28T05:14:58.497Z"
   },
   {
    "duration": 13,
    "start_time": "2024-03-28T05:14:58.501Z"
   },
   {
    "duration": 6,
    "start_time": "2024-03-28T05:14:58.516Z"
   },
   {
    "duration": 2780,
    "start_time": "2024-03-28T05:14:58.523Z"
   },
   {
    "duration": 7,
    "start_time": "2024-03-28T05:15:01.305Z"
   },
   {
    "duration": 159,
    "start_time": "2024-03-28T05:15:01.314Z"
   },
   {
    "duration": 197,
    "start_time": "2024-03-28T05:15:01.475Z"
   },
   {
    "duration": 240,
    "start_time": "2024-03-28T05:15:01.674Z"
   },
   {
    "duration": 64,
    "start_time": "2024-03-28T05:15:01.916Z"
   },
   {
    "duration": 128,
    "start_time": "2024-03-28T05:15:01.982Z"
   },
   {
    "duration": 5296,
    "start_time": "2024-03-28T05:15:02.112Z"
   },
   {
    "duration": 13,
    "start_time": "2024-03-28T05:15:07.411Z"
   },
   {
    "duration": 18,
    "start_time": "2024-03-28T05:15:07.425Z"
   },
   {
    "duration": 88,
    "start_time": "2024-03-28T05:15:07.445Z"
   },
   {
    "duration": 2187,
    "start_time": "2024-03-28T05:15:07.535Z"
   },
   {
    "duration": 5,
    "start_time": "2024-03-28T05:15:09.724Z"
   },
   {
    "duration": 9,
    "start_time": "2024-03-28T05:15:09.730Z"
   },
   {
    "duration": 20588,
    "start_time": "2024-03-28T05:15:09.741Z"
   },
   {
    "duration": 599,
    "start_time": "2024-03-28T05:15:30.331Z"
   },
   {
    "duration": 1245,
    "start_time": "2024-03-28T05:15:30.931Z"
   },
   {
    "duration": 7,
    "start_time": "2024-03-28T05:15:32.178Z"
   },
   {
    "duration": 60,
    "start_time": "2024-03-28T05:15:32.187Z"
   },
   {
    "duration": 19,
    "start_time": "2024-03-28T05:15:32.249Z"
   },
   {
    "duration": 6098,
    "start_time": "2024-03-28T05:15:32.270Z"
   },
   {
    "duration": 46,
    "start_time": "2024-03-28T05:15:38.372Z"
   },
   {
    "duration": 10611,
    "start_time": "2024-03-28T05:45:46.838Z"
   },
   {
    "duration": 24,
    "start_time": "2024-03-28T06:09:43.407Z"
   },
   {
    "duration": 4,
    "start_time": "2024-03-28T06:10:22.101Z"
   },
   {
    "duration": 2761,
    "start_time": "2024-03-28T06:17:23.749Z"
   },
   {
    "duration": 10111,
    "start_time": "2024-03-28T06:34:53.300Z"
   },
   {
    "duration": 10107,
    "start_time": "2024-03-28T06:35:43.074Z"
   },
   {
    "duration": 9943,
    "start_time": "2024-03-28T06:36:16.026Z"
   },
   {
    "duration": 10524,
    "start_time": "2024-03-28T06:38:37.559Z"
   },
   {
    "duration": 10339,
    "start_time": "2024-03-28T06:40:22.148Z"
   },
   {
    "duration": 95,
    "start_time": "2024-03-28T06:40:32.490Z"
   },
   {
    "duration": 23,
    "start_time": "2024-03-28T06:40:35.927Z"
   },
   {
    "duration": 14,
    "start_time": "2024-03-28T06:40:38.888Z"
   },
   {
    "duration": 14,
    "start_time": "2024-03-28T06:40:42.379Z"
   },
   {
    "duration": 14,
    "start_time": "2024-03-28T06:40:43.237Z"
   },
   {
    "duration": 4,
    "start_time": "2024-03-28T06:40:48.028Z"
   },
   {
    "duration": 49,
    "start_time": "2024-03-28T06:40:51.522Z"
   },
   {
    "duration": 5,
    "start_time": "2024-03-28T06:40:52.538Z"
   },
   {
    "duration": 12,
    "start_time": "2024-03-28T06:40:53.333Z"
   },
   {
    "duration": 28,
    "start_time": "2024-03-28T06:40:54.283Z"
   },
   {
    "duration": 3,
    "start_time": "2024-03-28T06:40:54.799Z"
   },
   {
    "duration": 13,
    "start_time": "2024-03-28T06:40:55.674Z"
   },
   {
    "duration": 33,
    "start_time": "2024-03-28T06:40:56.379Z"
   },
   {
    "duration": 31,
    "start_time": "2024-03-28T06:40:57.783Z"
   },
   {
    "duration": 4,
    "start_time": "2024-03-28T06:40:58.412Z"
   },
   {
    "duration": 14,
    "start_time": "2024-03-28T06:40:59.251Z"
   },
   {
    "duration": 7,
    "start_time": "2024-03-28T06:40:59.854Z"
   },
   {
    "duration": 2564,
    "start_time": "2024-03-28T06:41:03.475Z"
   },
   {
    "duration": 2651,
    "start_time": "2024-03-28T06:43:16.596Z"
   },
   {
    "duration": 2730,
    "start_time": "2024-03-28T06:43:46.315Z"
   },
   {
    "duration": 2519,
    "start_time": "2024-03-28T06:46:36.106Z"
   },
   {
    "duration": 2801,
    "start_time": "2024-03-28T06:54:43.952Z"
   },
   {
    "duration": 2513,
    "start_time": "2024-03-28T06:55:37.532Z"
   },
   {
    "duration": 19,
    "start_time": "2024-03-28T07:19:31.960Z"
   },
   {
    "duration": 14,
    "start_time": "2024-03-28T07:19:50.869Z"
   },
   {
    "duration": 3482,
    "start_time": "2024-03-28T07:20:23.328Z"
   },
   {
    "duration": 3137,
    "start_time": "2024-03-28T07:22:08.388Z"
   },
   {
    "duration": 2683,
    "start_time": "2024-03-28T07:22:22.190Z"
   },
   {
    "duration": 3363,
    "start_time": "2024-03-28T07:24:41.367Z"
   },
   {
    "duration": 2778,
    "start_time": "2024-03-28T07:25:49.865Z"
   },
   {
    "duration": 8146,
    "start_time": "2024-03-28T07:29:16.759Z"
   },
   {
    "duration": 604,
    "start_time": "2024-03-28T07:40:04.891Z"
   },
   {
    "duration": 532,
    "start_time": "2024-03-28T07:40:43.778Z"
   },
   {
    "duration": 545,
    "start_time": "2024-03-28T07:41:16.373Z"
   },
   {
    "duration": 491,
    "start_time": "2024-03-28T07:42:39.926Z"
   },
   {
    "duration": 50,
    "start_time": "2024-03-28T09:23:24.581Z"
   },
   {
    "duration": 18961,
    "start_time": "2024-03-28T09:23:36.561Z"
   },
   {
    "duration": 0,
    "start_time": "2024-03-28T09:23:55.524Z"
   },
   {
    "duration": 0,
    "start_time": "2024-03-28T09:23:55.525Z"
   },
   {
    "duration": 0,
    "start_time": "2024-03-28T09:23:55.527Z"
   },
   {
    "duration": 0,
    "start_time": "2024-03-28T09:23:55.528Z"
   },
   {
    "duration": 0,
    "start_time": "2024-03-28T09:23:55.529Z"
   },
   {
    "duration": 0,
    "start_time": "2024-03-28T09:23:55.530Z"
   },
   {
    "duration": 0,
    "start_time": "2024-03-28T09:23:55.531Z"
   },
   {
    "duration": 0,
    "start_time": "2024-03-28T09:23:55.533Z"
   },
   {
    "duration": 0,
    "start_time": "2024-03-28T09:23:55.534Z"
   },
   {
    "duration": 0,
    "start_time": "2024-03-28T09:23:55.535Z"
   },
   {
    "duration": 0,
    "start_time": "2024-03-28T09:23:55.536Z"
   },
   {
    "duration": 1,
    "start_time": "2024-03-28T09:23:55.558Z"
   },
   {
    "duration": 9,
    "start_time": "2024-03-28T09:24:02.231Z"
   },
   {
    "duration": 9416,
    "start_time": "2024-03-28T09:24:13.780Z"
   },
   {
    "duration": 31,
    "start_time": "2024-03-28T09:25:04.383Z"
   },
   {
    "duration": 1733,
    "start_time": "2024-03-28T09:28:18.358Z"
   },
   {
    "duration": 341,
    "start_time": "2024-03-28T09:28:28.664Z"
   },
   {
    "duration": 24,
    "start_time": "2024-03-28T09:28:32.650Z"
   },
   {
    "duration": 19,
    "start_time": "2024-03-28T09:28:33.670Z"
   },
   {
    "duration": 17,
    "start_time": "2024-03-28T09:28:34.599Z"
   },
   {
    "duration": 16,
    "start_time": "2024-03-28T09:28:35.303Z"
   },
   {
    "duration": 6,
    "start_time": "2024-03-28T09:28:38.075Z"
   },
   {
    "duration": 47,
    "start_time": "2024-03-28T09:29:33.363Z"
   },
   {
    "duration": 6,
    "start_time": "2024-03-28T09:29:34.271Z"
   },
   {
    "duration": 16,
    "start_time": "2024-03-28T09:29:34.862Z"
   },
   {
    "duration": 32,
    "start_time": "2024-03-28T09:29:35.411Z"
   },
   {
    "duration": 4,
    "start_time": "2024-03-28T09:29:35.992Z"
   },
   {
    "duration": 13,
    "start_time": "2024-03-28T09:29:36.534Z"
   },
   {
    "duration": 33,
    "start_time": "2024-03-28T09:29:37.023Z"
   },
   {
    "duration": 31,
    "start_time": "2024-03-28T09:29:37.663Z"
   },
   {
    "duration": 3,
    "start_time": "2024-03-28T09:29:38.251Z"
   },
   {
    "duration": 11,
    "start_time": "2024-03-28T09:29:38.912Z"
   },
   {
    "duration": 8,
    "start_time": "2024-03-28T09:29:39.594Z"
   },
   {
    "duration": 1161,
    "start_time": "2024-03-28T09:29:42.044Z"
   },
   {
    "duration": 6,
    "start_time": "2024-03-28T09:29:44.122Z"
   },
   {
    "duration": 29,
    "start_time": "2024-03-28T09:29:46.382Z"
   },
   {
    "duration": 7,
    "start_time": "2024-03-28T09:29:48.442Z"
   },
   {
    "duration": 31,
    "start_time": "2024-03-28T09:29:49.242Z"
   },
   {
    "duration": 20,
    "start_time": "2024-03-28T09:29:53.164Z"
   },
   {
    "duration": 75,
    "start_time": "2024-03-28T09:30:01.982Z"
   },
   {
    "duration": 158,
    "start_time": "2024-03-28T09:30:12.549Z"
   },
   {
    "duration": 15,
    "start_time": "2024-03-28T09:30:26.244Z"
   },
   {
    "duration": 2887,
    "start_time": "2024-03-28T09:31:04.823Z"
   },
   {
    "duration": 25556,
    "start_time": "2024-03-28T09:32:20.341Z"
   },
   {
    "duration": 462,
    "start_time": "2024-03-28T10:29:58.652Z"
   },
   {
    "duration": 25337,
    "start_time": "2024-03-28T10:31:13.623Z"
   },
   {
    "duration": 25545,
    "start_time": "2024-03-28T10:32:23.115Z"
   },
   {
    "duration": 439,
    "start_time": "2024-03-28T10:59:10.044Z"
   },
   {
    "duration": 25,
    "start_time": "2024-03-28T11:09:02.239Z"
   },
   {
    "duration": 20,
    "start_time": "2024-03-28T11:09:34.836Z"
   },
   {
    "duration": 17,
    "start_time": "2024-03-28T11:36:25.990Z"
   },
   {
    "duration": 671,
    "start_time": "2024-03-28T11:43:22.365Z"
   },
   {
    "duration": 31,
    "start_time": "2024-03-28T12:23:53.237Z"
   },
   {
    "duration": 25,
    "start_time": "2024-03-28T12:24:12.575Z"
   },
   {
    "duration": 28,
    "start_time": "2024-03-28T12:29:45.164Z"
   },
   {
    "duration": 24,
    "start_time": "2024-03-28T12:37:59.019Z"
   },
   {
    "duration": 1667,
    "start_time": "2024-03-28T12:38:20.912Z"
   },
   {
    "duration": 84,
    "start_time": "2024-03-28T12:38:24.589Z"
   },
   {
    "duration": 28,
    "start_time": "2024-03-28T12:38:27.498Z"
   },
   {
    "duration": 14,
    "start_time": "2024-03-28T12:38:28.206Z"
   },
   {
    "duration": 13,
    "start_time": "2024-03-28T12:38:28.860Z"
   },
   {
    "duration": 13,
    "start_time": "2024-03-28T12:38:29.393Z"
   },
   {
    "duration": 4,
    "start_time": "2024-03-28T12:38:33.340Z"
   },
   {
    "duration": 43,
    "start_time": "2024-03-28T12:38:35.392Z"
   },
   {
    "duration": 4,
    "start_time": "2024-03-28T12:38:36.236Z"
   },
   {
    "duration": 10,
    "start_time": "2024-03-28T12:38:48.463Z"
   },
   {
    "duration": 25,
    "start_time": "2024-03-28T12:38:49.704Z"
   },
   {
    "duration": 4,
    "start_time": "2024-03-28T12:38:56.037Z"
   },
   {
    "duration": 10,
    "start_time": "2024-03-28T12:38:56.767Z"
   },
   {
    "duration": 27,
    "start_time": "2024-03-28T12:38:57.325Z"
   },
   {
    "duration": 29,
    "start_time": "2024-03-28T12:38:57.959Z"
   },
   {
    "duration": 3,
    "start_time": "2024-03-28T12:38:58.946Z"
   },
   {
    "duration": 13,
    "start_time": "2024-03-28T12:39:01.671Z"
   },
   {
    "duration": 6,
    "start_time": "2024-03-28T12:39:03.081Z"
   },
   {
    "duration": 1022,
    "start_time": "2024-03-28T12:39:04.524Z"
   },
   {
    "duration": 27,
    "start_time": "2024-03-28T12:39:06.810Z"
   },
   {
    "duration": 32,
    "start_time": "2024-03-28T12:39:09.469Z"
   },
   {
    "duration": 6,
    "start_time": "2024-03-28T12:39:12.139Z"
   },
   {
    "duration": 19,
    "start_time": "2024-03-28T12:39:12.675Z"
   },
   {
    "duration": 15,
    "start_time": "2024-03-28T12:39:18.147Z"
   },
   {
    "duration": 74,
    "start_time": "2024-03-28T12:39:22.459Z"
   },
   {
    "duration": 172,
    "start_time": "2024-03-28T12:39:35.471Z"
   },
   {
    "duration": 26,
    "start_time": "2024-03-28T12:40:00.032Z"
   },
   {
    "duration": 21,
    "start_time": "2024-03-28T12:42:37.582Z"
   },
   {
    "duration": 20,
    "start_time": "2024-03-28T12:42:59.561Z"
   },
   {
    "duration": 1698,
    "start_time": "2024-03-28T12:43:55.851Z"
   },
   {
    "duration": 85,
    "start_time": "2024-03-28T12:43:59.035Z"
   },
   {
    "duration": 22,
    "start_time": "2024-03-28T12:44:00.558Z"
   },
   {
    "duration": 15,
    "start_time": "2024-03-28T12:44:01.198Z"
   },
   {
    "duration": 14,
    "start_time": "2024-03-28T12:44:01.746Z"
   },
   {
    "duration": 13,
    "start_time": "2024-03-28T12:44:02.794Z"
   },
   {
    "duration": 4,
    "start_time": "2024-03-28T12:44:05.146Z"
   },
   {
    "duration": 43,
    "start_time": "2024-03-28T12:44:06.293Z"
   },
   {
    "duration": 5,
    "start_time": "2024-03-28T12:44:07.026Z"
   },
   {
    "duration": 10,
    "start_time": "2024-03-28T12:44:09.099Z"
   },
   {
    "duration": 25,
    "start_time": "2024-03-28T12:44:09.687Z"
   },
   {
    "duration": 5,
    "start_time": "2024-03-28T12:44:10.390Z"
   },
   {
    "duration": 10,
    "start_time": "2024-03-28T12:44:10.971Z"
   },
   {
    "duration": 33,
    "start_time": "2024-03-28T12:44:11.665Z"
   },
   {
    "duration": 25,
    "start_time": "2024-03-28T12:44:12.284Z"
   },
   {
    "duration": 3,
    "start_time": "2024-03-28T12:44:12.870Z"
   },
   {
    "duration": 12,
    "start_time": "2024-03-28T12:44:13.645Z"
   },
   {
    "duration": 7,
    "start_time": "2024-03-28T12:44:14.227Z"
   },
   {
    "duration": 1037,
    "start_time": "2024-03-28T12:44:15.444Z"
   },
   {
    "duration": 6,
    "start_time": "2024-03-28T12:44:18.443Z"
   },
   {
    "duration": 26,
    "start_time": "2024-03-28T12:44:20.745Z"
   },
   {
    "duration": 6,
    "start_time": "2024-03-28T12:44:22.619Z"
   },
   {
    "duration": 19,
    "start_time": "2024-03-28T12:44:23.313Z"
   },
   {
    "duration": 14,
    "start_time": "2024-03-28T12:44:26.785Z"
   },
   {
    "duration": 72,
    "start_time": "2024-03-28T12:44:28.630Z"
   },
   {
    "duration": 145,
    "start_time": "2024-03-28T12:44:35.382Z"
   },
   {
    "duration": 21,
    "start_time": "2024-03-28T12:45:54.735Z"
   },
   {
    "duration": 98,
    "start_time": "2024-03-28T13:02:00.173Z"
   },
   {
    "duration": 24,
    "start_time": "2024-03-28T14:01:40.929Z"
   },
   {
    "duration": 1372,
    "start_time": "2024-03-28T14:04:43.517Z"
   },
   {
    "duration": 1434,
    "start_time": "2024-03-28T14:06:31.808Z"
   },
   {
    "duration": 1536,
    "start_time": "2024-03-28T14:09:09.361Z"
   },
   {
    "duration": 133,
    "start_time": "2024-03-28T14:09:56.363Z"
   },
   {
    "duration": 1275,
    "start_time": "2024-03-28T14:11:28.475Z"
   },
   {
    "duration": 441,
    "start_time": "2024-03-28T14:11:47.818Z"
   },
   {
    "duration": 87,
    "start_time": "2024-03-28T14:21:20.401Z"
   },
   {
    "duration": 17,
    "start_time": "2024-03-28T14:22:14.273Z"
   },
   {
    "duration": 15,
    "start_time": "2024-03-28T14:24:30.355Z"
   },
   {
    "duration": 15,
    "start_time": "2024-03-28T14:24:51.921Z"
   },
   {
    "duration": 16,
    "start_time": "2024-03-28T14:25:14.902Z"
   },
   {
    "duration": 28,
    "start_time": "2024-03-28T16:56:10.334Z"
   },
   {
    "duration": 1269,
    "start_time": "2024-03-28T16:57:56.210Z"
   },
   {
    "duration": 4294,
    "start_time": "2024-03-28T16:59:20.873Z"
   },
   {
    "duration": 95,
    "start_time": "2024-03-28T17:04:14.955Z"
   },
   {
    "duration": 22,
    "start_time": "2024-03-28T17:04:23.753Z"
   },
   {
    "duration": 22,
    "start_time": "2024-03-28T17:04:42.300Z"
   },
   {
    "duration": 4205,
    "start_time": "2024-03-28T18:26:56.655Z"
   },
   {
    "duration": 25,
    "start_time": "2024-03-28T18:27:53.647Z"
   },
   {
    "duration": 75995,
    "start_time": "2024-03-28T18:29:15.387Z"
   },
   {
    "duration": 26,
    "start_time": "2024-03-28T18:39:40.432Z"
   },
   {
    "duration": 22,
    "start_time": "2024-03-28T18:39:55.883Z"
   },
   {
    "duration": 21,
    "start_time": "2024-03-28T18:41:48.595Z"
   },
   {
    "duration": 16,
    "start_time": "2024-03-28T18:43:58.102Z"
   },
   {
    "duration": 16,
    "start_time": "2024-03-28T18:46:38.178Z"
   },
   {
    "duration": 147,
    "start_time": "2024-03-28T18:46:49.185Z"
   },
   {
    "duration": 12,
    "start_time": "2024-03-28T18:48:50.808Z"
   },
   {
    "duration": 192,
    "start_time": "2024-03-28T18:50:52.550Z"
   },
   {
    "duration": 15,
    "start_time": "2024-03-28T18:51:15.424Z"
   },
   {
    "duration": 15,
    "start_time": "2024-03-28T18:52:39.389Z"
   },
   {
    "duration": 122,
    "start_time": "2024-03-28T19:00:07.622Z"
   },
   {
    "duration": 120,
    "start_time": "2024-03-28T19:00:18.617Z"
   },
   {
    "duration": 18,
    "start_time": "2024-03-28T19:02:45.355Z"
   },
   {
    "duration": 122,
    "start_time": "2024-03-28T19:02:53.253Z"
   },
   {
    "duration": 130,
    "start_time": "2024-03-28T19:08:19.921Z"
   },
   {
    "duration": 126,
    "start_time": "2024-03-28T19:08:35.027Z"
   },
   {
    "duration": 109,
    "start_time": "2024-03-28T19:10:27.532Z"
   },
   {
    "duration": 14,
    "start_time": "2024-03-28T19:10:42.695Z"
   },
   {
    "duration": 11,
    "start_time": "2024-03-28T19:11:48.095Z"
   },
   {
    "duration": 16,
    "start_time": "2024-03-28T19:11:56.438Z"
   },
   {
    "duration": 203,
    "start_time": "2024-03-28T19:18:22.070Z"
   },
   {
    "duration": 1732,
    "start_time": "2024-03-28T19:19:47.133Z"
   },
   {
    "duration": 24852,
    "start_time": "2024-03-28T19:21:05.580Z"
   },
   {
    "duration": 25780,
    "start_time": "2024-03-28T19:21:50.341Z"
   },
   {
    "duration": 25108,
    "start_time": "2024-03-28T19:22:24.883Z"
   },
   {
    "duration": 25246,
    "start_time": "2024-03-28T19:23:30.302Z"
   },
   {
    "duration": 25140,
    "start_time": "2024-03-28T19:24:10.120Z"
   },
   {
    "duration": 25317,
    "start_time": "2024-03-28T19:24:39.166Z"
   },
   {
    "duration": 442,
    "start_time": "2024-03-28T19:25:32.975Z"
   },
   {
    "duration": 16,
    "start_time": "2024-03-28T19:26:26.288Z"
   },
   {
    "duration": 24928,
    "start_time": "2024-03-28T19:26:37.892Z"
   },
   {
    "duration": 20,
    "start_time": "2024-03-28T19:29:16.539Z"
   },
   {
    "duration": 109,
    "start_time": "2024-03-28T19:50:55.454Z"
   },
   {
    "duration": 98,
    "start_time": "2024-03-28T19:51:02.144Z"
   },
   {
    "duration": 88,
    "start_time": "2024-03-28T19:52:30.060Z"
   },
   {
    "duration": 13,
    "start_time": "2024-03-28T19:52:36.924Z"
   },
   {
    "duration": 9,
    "start_time": "2024-03-28T19:52:59.311Z"
   },
   {
    "duration": 38874,
    "start_time": "2024-03-28T19:53:44.091Z"
   },
   {
    "duration": 1666,
    "start_time": "2024-03-28T19:55:21.636Z"
   },
   {
    "duration": 87,
    "start_time": "2024-03-28T19:55:23.817Z"
   },
   {
    "duration": 22,
    "start_time": "2024-03-28T19:55:26.035Z"
   },
   {
    "duration": 14,
    "start_time": "2024-03-28T19:55:26.923Z"
   },
   {
    "duration": 14,
    "start_time": "2024-03-28T19:55:27.747Z"
   },
   {
    "duration": 13,
    "start_time": "2024-03-28T19:55:28.500Z"
   },
   {
    "duration": 4,
    "start_time": "2024-03-28T19:55:31.187Z"
   },
   {
    "duration": 42,
    "start_time": "2024-03-28T19:55:33.181Z"
   },
   {
    "duration": 4,
    "start_time": "2024-03-28T19:55:34.123Z"
   },
   {
    "duration": 10,
    "start_time": "2024-03-28T19:55:34.925Z"
   },
   {
    "duration": 26,
    "start_time": "2024-03-28T19:55:35.683Z"
   },
   {
    "duration": 3,
    "start_time": "2024-03-28T19:55:36.388Z"
   },
   {
    "duration": 9,
    "start_time": "2024-03-28T19:55:37.717Z"
   },
   {
    "duration": 25,
    "start_time": "2024-03-28T19:55:56.534Z"
   },
   {
    "duration": 28,
    "start_time": "2024-03-28T19:55:59.992Z"
   },
   {
    "duration": 3,
    "start_time": "2024-03-28T19:56:01.175Z"
   },
   {
    "duration": 11,
    "start_time": "2024-03-28T19:56:02.815Z"
   },
   {
    "duration": 6,
    "start_time": "2024-03-28T19:56:04.642Z"
   },
   {
    "duration": 1018,
    "start_time": "2024-03-28T19:56:06.092Z"
   },
   {
    "duration": 1091,
    "start_time": "2024-03-28T19:56:25.519Z"
   },
   {
    "duration": 7,
    "start_time": "2024-03-28T19:56:31.458Z"
   },
   {
    "duration": 26,
    "start_time": "2024-03-28T19:56:33.740Z"
   },
   {
    "duration": 6,
    "start_time": "2024-03-28T19:56:36.945Z"
   },
   {
    "duration": 20,
    "start_time": "2024-03-28T19:56:37.988Z"
   },
   {
    "duration": 17,
    "start_time": "2024-03-28T19:56:43.401Z"
   },
   {
    "duration": 67,
    "start_time": "2024-03-28T19:56:47.498Z"
   },
   {
    "duration": 12,
    "start_time": "2024-03-28T19:57:15.126Z"
   },
   {
    "duration": 9,
    "start_time": "2024-03-28T19:57:26.697Z"
   },
   {
    "duration": 73425,
    "start_time": "2024-03-28T19:57:29.334Z"
   },
   {
    "duration": 132,
    "start_time": "2024-03-28T19:59:39.196Z"
   },
   {
    "duration": 16,
    "start_time": "2024-03-28T20:00:12.240Z"
   },
   {
    "duration": 485,
    "start_time": "2024-03-28T20:01:19.365Z"
   },
   {
    "duration": 11,
    "start_time": "2024-03-28T20:05:04.145Z"
   },
   {
    "duration": 1452,
    "start_time": "2024-03-28T20:06:46.789Z"
   },
   {
    "duration": 293,
    "start_time": "2024-03-28T20:06:56.249Z"
   },
   {
    "duration": 21,
    "start_time": "2024-03-28T20:08:38.589Z"
   },
   {
    "duration": 295,
    "start_time": "2024-03-28T20:08:52.655Z"
   },
   {
    "duration": 279,
    "start_time": "2024-03-28T20:16:21.403Z"
   },
   {
    "duration": 238,
    "start_time": "2024-03-28T20:16:40.121Z"
   },
   {
    "duration": 227,
    "start_time": "2024-03-28T20:21:14.239Z"
   },
   {
    "duration": 218,
    "start_time": "2024-03-28T20:21:38.256Z"
   },
   {
    "duration": 256,
    "start_time": "2024-03-28T20:21:51.991Z"
   },
   {
    "duration": 290,
    "start_time": "2024-03-28T20:22:16.096Z"
   },
   {
    "duration": 23,
    "start_time": "2024-03-28T20:23:37.105Z"
   },
   {
    "duration": 274,
    "start_time": "2024-03-28T20:23:46.680Z"
   },
   {
    "duration": 684,
    "start_time": "2024-03-28T20:25:28.191Z"
   },
   {
    "duration": 274,
    "start_time": "2024-03-28T20:25:39.630Z"
   },
   {
    "duration": 160,
    "start_time": "2024-03-28T20:26:17.259Z"
   },
   {
    "duration": 156,
    "start_time": "2024-03-28T20:27:26.165Z"
   },
   {
    "duration": 284,
    "start_time": "2024-03-28T20:28:20.752Z"
   },
   {
    "duration": 148,
    "start_time": "2024-03-28T20:28:48.640Z"
   },
   {
    "duration": 322,
    "start_time": "2024-03-28T20:29:01.193Z"
   },
   {
    "duration": 9,
    "start_time": "2024-03-28T20:30:39.635Z"
   },
   {
    "duration": 2832,
    "start_time": "2024-03-28T20:41:57.128Z"
   },
   {
    "duration": 24,
    "start_time": "2024-03-28T20:55:09.932Z"
   },
   {
    "duration": 125,
    "start_time": "2024-03-28T20:59:24.135Z"
   },
   {
    "duration": 17647,
    "start_time": "2024-03-28T21:00:48.267Z"
   },
   {
    "duration": 25032,
    "start_time": "2024-03-28T21:01:24.943Z"
   },
   {
    "duration": 88,
    "start_time": "2024-03-28T21:09:28.046Z"
   },
   {
    "duration": 756,
    "start_time": "2024-03-28T21:09:39.679Z"
   },
   {
    "duration": 1858,
    "start_time": "2024-03-28T21:10:33.616Z"
   },
   {
    "duration": 789,
    "start_time": "2024-03-28T21:12:55.801Z"
   },
   {
    "duration": 1662,
    "start_time": "2024-03-28T21:16:13.135Z"
   },
   {
    "duration": 82,
    "start_time": "2024-03-28T21:16:21.592Z"
   },
   {
    "duration": 22,
    "start_time": "2024-03-28T21:16:29.726Z"
   },
   {
    "duration": 15,
    "start_time": "2024-03-28T21:16:30.551Z"
   },
   {
    "duration": 13,
    "start_time": "2024-03-28T21:16:31.317Z"
   },
   {
    "duration": 13,
    "start_time": "2024-03-28T21:16:32.021Z"
   },
   {
    "duration": 4,
    "start_time": "2024-03-28T21:16:35.235Z"
   },
   {
    "duration": 44,
    "start_time": "2024-03-28T21:16:36.704Z"
   },
   {
    "duration": 4,
    "start_time": "2024-03-28T21:16:37.619Z"
   },
   {
    "duration": 10,
    "start_time": "2024-03-28T21:16:38.434Z"
   },
   {
    "duration": 26,
    "start_time": "2024-03-28T21:16:38.994Z"
   },
   {
    "duration": 4,
    "start_time": "2024-03-28T21:16:39.550Z"
   },
   {
    "duration": 13,
    "start_time": "2024-03-28T21:16:40.188Z"
   },
   {
    "duration": 27,
    "start_time": "2024-03-28T21:16:40.724Z"
   },
   {
    "duration": 27,
    "start_time": "2024-03-28T21:16:41.326Z"
   },
   {
    "duration": 2,
    "start_time": "2024-03-28T21:16:41.866Z"
   },
   {
    "duration": 12,
    "start_time": "2024-03-28T21:16:42.507Z"
   },
   {
    "duration": 6,
    "start_time": "2024-03-28T21:16:43.089Z"
   },
   {
    "duration": 1047,
    "start_time": "2024-03-28T21:16:45.680Z"
   },
   {
    "duration": 7,
    "start_time": "2024-03-28T21:16:47.652Z"
   },
   {
    "duration": 28,
    "start_time": "2024-03-28T21:16:50.306Z"
   },
   {
    "duration": 7,
    "start_time": "2024-03-28T21:16:52.642Z"
   },
   {
    "duration": 111,
    "start_time": "2024-03-28T21:16:53.676Z"
   },
   {
    "duration": 12,
    "start_time": "2024-03-28T21:16:57.397Z"
   },
   {
    "duration": 1815,
    "start_time": "2024-03-28T21:17:04.447Z"
   },
   {
    "duration": 688,
    "start_time": "2024-03-28T21:17:11.827Z"
   },
   {
    "duration": 10,
    "start_time": "2024-03-28T21:17:18.234Z"
   },
   {
    "duration": 292,
    "start_time": "2024-03-28T21:17:21.321Z"
   },
   {
    "duration": 11,
    "start_time": "2024-03-28T21:17:25.440Z"
   },
   {
    "duration": 88947,
    "start_time": "2024-03-28T21:17:57.813Z"
   },
   {
    "duration": 0,
    "start_time": "2024-03-28T21:19:26.859Z"
   },
   {
    "duration": 123,
    "start_time": "2024-03-28T21:20:14.838Z"
   },
   {
    "duration": 581,
    "start_time": "2024-03-28T21:21:07.456Z"
   },
   {
    "duration": 89,
    "start_time": "2024-03-28T21:21:39.446Z"
   },
   {
    "duration": 15,
    "start_time": "2024-03-28T21:23:06.683Z"
   }
  ],
  "colab": {
   "provenance": []
  },
  "kernelspec": {
   "display_name": "Python 3 (ipykernel)",
   "language": "python",
   "name": "python3"
  },
  "language_info": {
   "codemirror_mode": {
    "name": "ipython",
    "version": 3
   },
   "file_extension": ".py",
   "mimetype": "text/x-python",
   "name": "python",
   "nbconvert_exporter": "python",
   "pygments_lexer": "ipython3",
   "version": "3.11.7"
  },
  "toc": {
   "base_numbering": 1,
   "nav_menu": {},
   "number_sections": true,
   "sideBar": true,
   "skip_h1_title": true,
   "title_cell": "Table of Contents",
   "title_sidebar": "Contents",
   "toc_cell": false,
   "toc_position": {},
   "toc_section_display": true,
   "toc_window_display": true
  }
 },
 "nbformat": 4,
 "nbformat_minor": 1
}
